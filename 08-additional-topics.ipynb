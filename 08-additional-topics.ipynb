{
 "cells": [
  {
   "cell_type": "markdown",
   "metadata": {},
   "source": [
    "### Loading Numerical Files"
   ]
  },
  {
   "cell_type": "code",
   "execution_count": 1,
   "metadata": {},
   "outputs": [],
   "source": [
    "# Import the loadtxt function.\n",
    "\n",
    "from numpy import loadtxt"
   ]
  },
  {
   "cell_type": "code",
   "execution_count": 4,
   "metadata": {},
   "outputs": [
    {
     "name": "stdout",
     "output_type": "stream",
     "text": [
      "[[ 1 77 56]\n",
      " [ 2 79 62]]\n"
     ]
    }
   ],
   "source": [
    "# Load the \"weather.dat\" file, skipping the first row, and creating a 2 x 3 array of integers. \n",
    "# For floats, the dtype argument would not be used.\n",
    "\n",
    "data= loadtxt('data/weather.dat', dtype=int, skiprows=1)\n",
    "print(data)"
   ]
  },
  {
   "cell_type": "markdown",
   "metadata": {},
   "source": [
    "### Images"
   ]
  },
  {
   "cell_type": "code",
   "execution_count": 6,
   "metadata": {},
   "outputs": [
    {
     "data": {
      "text/plain": [
       "<matplotlib.image.AxesImage at 0x16a275e9de0>"
      ]
     },
     "execution_count": 6,
     "metadata": {},
     "output_type": "execute_result"
    },
    {
     "data": {
      "image/png": "[encoded data removed]",
      "text/plain": [
       "<Figure size 432x288 with 1 Axes>"
      ]
     },
     "metadata": {
      "needs_background": "light"
     },
     "output_type": "display_data"
    }
   ],
   "source": [
    "import numpy as np # Import zeros\n",
    "import matplotlib.pyplot as plt # Import imsave, imread, imshow\n",
    "\n",
    "img = np.zeros((100, 100, 3)) # Create an image array of 100 rows and columns.\n",
    "\n",
    "img[:60,:60,0] = 1. # Set the top-left corner to red.\n",
    "img[40:,40:,1] = 1. # Set the lower-right corner to green.\n",
    "img[20:80,20:80,2] = 1. # Set the center square to blue.\n",
    "\n",
    "plt.imsave(\"data/squares.png\", img) # Save the img array to the \"squares.png\" file\n",
    "\n",
    "img2 = plt.imread(\"squares.png\") # Read the file back to the img2 array\n",
    "\n",
    "plt.imshow(img2) # Display the image"
   ]
  },
  {
   "cell_type": "markdown",
   "metadata": {},
   "source": [
    "### Animation"
   ]
  },
  {
   "cell_type": "code",
   "execution_count": 7,
   "metadata": {},
   "outputs": [
    {
     "name": "stderr",
     "output_type": "stream",
     "text": [
      "UsageError: unrecognized arguments: Not %matplotlib inline\n"
     ]
    }
   ],
   "source": [
    "%matplotlib # Not %matplotlib inline\n",
    "import numpy as np\n",
    "import matplotlib.pyplot as plt\n",
    "from matplotlib import animation\n",
    "\n",
    "omega = .02 # Angular velocity\n",
    "fig, ax = plt.subplots(figsize=(4,4)) # Get the figure & axes for the plot\n",
    "ax.set_aspect('equal') # Make the axes have the same scale\n",
    "\n",
    "point, = plt.plot([], [], 'ro', ms=10) # \"point\" is the object drawn by plot\n",
    "\n",
    "plt.xlim(-1.5,1.5) # - note that \"plot\" returns a tuple\n",
    "plt.ylim(-1.5,1.5) # Set limits for the entire animation\n",
    "\n",
    "# Initialization function. This is called once to plot the background.\n",
    "def init():\n",
    "    point.set_data([], [])\n",
    "    return point, # Return a tuple of the modified objects\n",
    "\n",
    "# Animation function. This is called once per animation step.\n",
    "# The integer i is the frame number.\n",
    "\n",
    "def animate(i):\n",
    "    x = np.cos(i*omega)\n",
    "    y = np.sin(i*omega)\n",
    "    point.set_data(x, y) # Update the x, y coordinates of the point\n",
    "    return point, # Return a tuple of the modified objects\n",
    "\n",
    "# Start the animator with a call to \"FuncAnimation\"\n",
    "animation.FuncAnimation(fig, animate, init_func=init, frames=100, interval=20)"
   ]
  },
  {
   "cell_type": "markdown",
   "metadata": {},
   "source": [
    "### Random Number Generation"
   ]
  },
  {
   "cell_type": "code",
   "execution_count": 8,
   "metadata": {},
   "outputs": [
    {
     "name": "stdout",
     "output_type": "stream",
     "text": [
      "0.45339357563643035\n"
     ]
    }
   ],
   "source": [
    "# Use random.rand to generate a single number uniformly drawn from the interval [0, 1).\n",
    "\n",
    "import numpy as np\n",
    "print(np.random.rand())"
   ]
  },
  {
   "cell_type": "code",
   "execution_count": 9,
   "metadata": {},
   "outputs": [
    {
     "name": "stdout",
     "output_type": "stream",
     "text": [
      "[0.31138078 0.30152373 0.77637111]\n"
     ]
    }
   ],
   "source": [
    "# Use random.rand to generate an array of 3 random numbers drawn from [0, 1).\n",
    "\n",
    "print(np.random.rand(3))"
   ]
  },
  {
   "cell_type": "code",
   "execution_count": 10,
   "metadata": {},
   "outputs": [
    {
     "name": "stdout",
     "output_type": "stream",
     "text": [
      "[[0.08172547 0.17609553 0.27566942]\n",
      " [0.80761259 0.76318655 0.80621451]]\n"
     ]
    }
   ],
   "source": [
    "# Use random.rand to generate a 2 x 3 array of random numbers drawn from [0, 1).\n",
    "\n",
    "print(np.random.rand(2, 3))"
   ]
  },
  {
   "cell_type": "code",
   "execution_count": 11,
   "metadata": {},
   "outputs": [
    {
     "name": "stdout",
     "output_type": "stream",
     "text": [
      "5\n"
     ]
    }
   ],
   "source": [
    "# Use random.randint to generate an integer drawn from {f0, ..., 6g}.\n",
    "\n",
    "print(np.random.randint(7))"
   ]
  },
  {
   "cell_type": "code",
   "execution_count": 12,
   "metadata": {},
   "outputs": [
    {
     "name": "stdout",
     "output_type": "stream",
     "text": [
      "[[5 5 6 5]\n",
      " [8 5 8 8]]\n"
     ]
    }
   ],
   "source": [
    "# Use random.randint to generate a 2 x 4 array of integers\n",
    "# drawn from {5, 6, 7, 8}.\n",
    "\n",
    "print(np.random.randint(5, 9, size=(2, 4)))"
   ]
  },
  {
   "cell_type": "code",
   "execution_count": 13,
   "metadata": {},
   "outputs": [
    {
     "name": "stdout",
     "output_type": "stream",
     "text": [
      "[ 0.26855045  0.79964514 -0.54959625]\n"
     ]
    }
   ],
   "source": [
    "# Use random.randn to generate an array of samples drawn\n",
    "# from the \"standard\" normal distribution.\n",
    "\n",
    "print(np.random.randn(3))"
   ]
  },
  {
   "cell_type": "code",
   "execution_count": 14,
   "metadata": {},
   "outputs": [
    {
     "name": "stdout",
     "output_type": "stream",
     "text": [
      "99.87538776373846\n"
     ]
    }
   ],
   "source": [
    "# Use random.normal to generate a sample drawn from a\n",
    "# normal distribution with ^ = 100, ~ = 15.\n",
    "\n",
    "print(np.random.normal(100, 15))"
   ]
  },
  {
   "cell_type": "markdown",
   "metadata": {},
   "source": [
    "### Sound Files"
   ]
  },
  {
   "cell_type": "code",
   "execution_count": 16,
   "metadata": {},
   "outputs": [
    {
     "data": {
      "image/png": "[encoded data removed]",
      "text/plain": [
       "<Figure size 432x288 with 1 Axes>"
      ]
     },
     "metadata": {
      "needs_background": "light"
     },
     "output_type": "display_data"
    }
   ],
   "source": [
    "import numpy as np # Import linspace, sin\n",
    "import matplotlib.pyplot as plt # Import plotting functions\n",
    "from scipy.io import wavfile\n",
    "\n",
    "rate = 44100 # Number of samples/second\n",
    "end = 10 # The file is 10 seconds long\n",
    "time = np.linspace(0, end, rate*end+1) # Time intervals are 1/rate\n",
    "freq = 261.625565 # Frequency of \"middle C\"\n",
    "data = np.sin(2*np.pi*freq*time) # Generate the sine wave\n",
    "\n",
    "wavfile.write(\"data/middleC.wav\", rate, data) # Write the array to a WAV file\n",
    "\n",
    "plt.plot(time[:1000], data[:1000]) # Plot the first 1000 samples\n",
    "plt.show() # Finally, show the figure"
   ]
  },
  {
   "cell_type": "markdown",
   "metadata": {},
   "source": [
    "### Linear Programming"
   ]
  },
  {
   "cell_type": "code",
   "execution_count": 17,
   "metadata": {},
   "outputs": [
    {
     "name": "stdout",
     "output_type": "stream",
     "text": [
      "[40. 60.]\n"
     ]
    }
   ],
   "source": [
    "import numpy as np\n",
    "from scipy.optimize import linprog\n",
    "\n",
    "c = np.array([-2, -3]) # Negative coefficients of f(x)\n",
    "A_ub = np.array([[1, 1], [1, 2]]) # Matrix of the inequality coefficients\n",
    "b_ub = np.array([100, 160]) # Vector of the inequality upper bounds\n",
    "\n",
    "bounds = [(0, 80), (0, None)] # Each tuple is a (lower, upper) bound\n",
    "result = linprog(c, A_ub=A_ub, b_ub=b_ub, bounds=bounds)\n",
    "\n",
    "print(result.x) # The result \"x\" field holds the solution"
   ]
  },
  {
   "cell_type": "markdown",
   "metadata": {},
   "source": [
    "### End."
   ]
  }
 ],
 "metadata": {
  "kernelspec": {
   "display_name": "Python 3.10.5 64-bit",
   "language": "python",
   "name": "python3"
  },
  "language_info": {
   "codemirror_mode": {
    "name": "ipython",
    "version": 3
   },
   "file_extension": ".py",
   "mimetype": "text/x-python",
   "name": "python",
   "nbconvert_exporter": "python",
   "pygments_lexer": "ipython3",
   "version": "3.10.5"
  },
  "orig_nbformat": 4,
  "vscode": {
   "interpreter": {
    "hash": "74af3d2f25f1e46ebd2903d59225d79e4675ec224d56c01fc30cd168c2010d53"
   }
  }
 },
 "nbformat": 4,
 "nbformat_minor": 2
}
