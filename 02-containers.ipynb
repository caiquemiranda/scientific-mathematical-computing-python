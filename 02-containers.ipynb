{
 "cells": [
  {
   "attachments": {},
   "cell_type": "markdown",
   "metadata": {},
   "source": [
    "### Contêineres"
   ]
  },
  {
   "attachments": {},
   "cell_type": "markdown",
   "metadata": {},
   "source": [
    "Muitas vezes, precisamos de uma maneira de agrupar objetos de um tipo semelhante. Às vezes, a\n",
    "ordem dos objetos é importante, como em uma sequência matemática {a0, a1, a2, . . .}, e às vezes\n",
    "a ordem é irrelevante, como no conjunto {'gato', 'cachorro', 'hipogrifo'}. "
   ]
  },
  {
   "attachments": {},
   "cell_type": "markdown",
   "metadata": {},
   "source": [
    "O Python fornece vários tipos de contêineres que podem ser usados para agrupar objetos.  Os contêineres diferem das seguintes maneiras:\n",
    "\n",
    "- Mutável versus imutável. Os contêineres mutáveis podem ser modificados após terem sido criados; recipientes imutáveis não podem.\n",
    "- Ordenado versus não ordenado. Os itens em um contêiner pedido são armazenados em um local fixo seqüência; aqueles em um contêiner não ordenado não são.\n",
    "- Indexável versus não indexável. Os itens em um contêiner indexado podem ser recuperados usando uma\n",
    "chave; aqueles em um contêiner não indexável não podem."
   ]
  },
  {
   "attachments": {},
   "cell_type": "markdown",
   "metadata": {},
   "source": [
    "#### Listas"
   ]
  },
  {
   "attachments": {},
   "cell_type": "markdown",
   "metadata": {},
   "source": [
    "Uma lista é uma sequência ordenada de objetos, identificados por colchetes, []."
   ]
  },
  {
   "attachments": {},
   "cell_type": "markdown",
   "metadata": {},
   "source": [
    "- Para gerar uma lista, coloque uma sequência de objetos (separados por vírgulas) em quadrado colchetes.\n",
    "- Os elementos da lista podem ser de qualquer tipo e podem ser de tipos diferentes dentro da mesma lista.\n",
    "- As listas são mutáveis - uma vez criadas, os elementos podem ser adicionados, substituídos ou excluídos."
   ]
  },
  {
   "cell_type": "code",
   "execution_count": null,
   "metadata": {},
   "outputs": [],
   "source": [
    "# Use colchetes para criar uma lista.\n",
    "\n",
    "mylist = [1, \"a\", 6.58]\n",
    "print(mylist)"
   ]
  },
  {
   "cell_type": "code",
   "execution_count": null,
   "metadata": {},
   "outputs": [],
   "source": [
    "# len retorna o número de elementos em uma lista.\n",
    "\n",
    "len(mylist)"
   ]
  },
  {
   "cell_type": "code",
   "execution_count": null,
   "metadata": {},
   "outputs": [],
   "source": [
    "# Adicionar duas listas cria uma nova lista por concatenação.\n",
    "\n",
    "list1 = [1, 2, 3]\n",
    "list2 = [4, 5, 6]\n",
    "list1 + list2"
   ]
  },
  {
   "cell_type": "code",
   "execution_count": null,
   "metadata": {},
   "outputs": [],
   "source": [
    "# Multiplicar uma lista por um número inteiro repete a lista.\n",
    "\n",
    "list1 * 3"
   ]
  },
  {
   "cell_type": "code",
   "execution_count": null,
   "metadata": {},
   "outputs": [],
   "source": [
    "# list3 é uma lista vazia.\n",
    "\n",
    "list3 = []\n",
    "print(list3)"
   ]
  },
  {
   "cell_type": "code",
   "execution_count": null,
   "metadata": {},
   "outputs": [],
   "source": [
    "# Outra maneira de criar uma lista vazia.\n",
    "\n",
    "list4 = list()\n",
    "print(list4)"
   ]
  },
  {
   "attachments": {},
   "cell_type": "markdown",
   "metadata": {},
   "source": [
    "As listas podem ser indexadas e divididas da mesma forma que as strings, usando colchetes. A indexação\n",
    "e divisão também podem ser usadas com o operador de atribuição ”=” para alterar os elementos de uma\n",
    "lista."
   ]
  },
  {
   "cell_type": "code",
   "execution_count": null,
   "metadata": {},
   "outputs": [],
   "source": [
    "# Acesse o elemento no índice 1 (a indexação começa em 0).\n",
    "\n",
    "primos = [2, 3, 5, 7, 11, 13, 17]\n",
    "primos[1]"
   ]
  },
  {
   "cell_type": "code",
   "execution_count": null,
   "metadata": {},
   "outputs": [],
   "source": [
    "# Liste o fatiamento, comece na posição 3, até o fim.\n",
    "\n",
    "primos[3:]"
   ]
  },
  {
   "cell_type": "code",
   "execution_count": null,
   "metadata": {},
   "outputs": [],
   "source": [
    "# Liste o fatiamento, comece no começo, termine na posição 2.\n",
    "\n",
    "primos[:3]"
   ]
  },
  {
   "cell_type": "code",
   "execution_count": null,
   "metadata": {},
   "outputs": [],
   "source": [
    "# Liste o fatiamento, comece na posição 2, termine na posição 4.\n",
    "\n",
    "primos[2:5]"
   ]
  },
  {
   "cell_type": "code",
   "execution_count": null,
   "metadata": {},
   "outputs": [],
   "source": [
    "# Uma maneira de inverter uma lista.\n",
    "\n",
    "primos[::-1]"
   ]
  },
  {
   "cell_type": "code",
   "execution_count": null,
   "metadata": {},
   "outputs": [],
   "source": [
    "# Os elementos da lista podem ser alterados atribuindo um novo elemento a um determinado índice.\n",
    "\n",
    "mylist[1] = \"e\"\n",
    "print(mylist)"
   ]
  },
  {
   "attachments": {},
   "cell_type": "markdown",
   "metadata": {},
   "source": [
    "Existem métodos de lista para alterar, adicionar e excluir elementos. Todos eles modificam uma lista\n",
    "existente."
   ]
  },
  {
   "cell_type": "code",
   "execution_count": null,
   "metadata": {},
   "outputs": [],
   "source": [
    "# append adiciona um elemento ao final de uma lista. \n",
    "\n",
    "mylist = [\"a\", \"b\"]\n",
    "mylist.append(\"c\")\n",
    "print(mylist)"
   ]
  },
  {
   "cell_type": "code",
   "execution_count": null,
   "metadata": {},
   "outputs": [],
   "source": [
    "# extend adiciona elementos a uma lista.\n",
    "\n",
    "mylist.extend([\"d\", \"e\", \"f\"])\n",
    "print(mylist)"
   ]
  },
  {
   "cell_type": "code",
   "execution_count": null,
   "metadata": {},
   "outputs": [],
   "source": [
    "# insert insere um elemento em uma determinada posição.\n",
    "\n",
    "mylist.insert(0, \"z\")\n",
    "print(mylist)"
   ]
  },
  {
   "cell_type": "code",
   "execution_count": null,
   "metadata": {},
   "outputs": [],
   "source": [
    "# pop remove o elemento em uma determinada posição e o retorna. \n",
    "# O padrão é remover o último elemento.\n",
    "\n",
    "mylist.pop()\n",
    "print(mylist)"
   ]
  },
  {
   "cell_type": "code",
   "execution_count": null,
   "metadata": {},
   "outputs": [],
   "source": [
    "# remove remove a primeira instância de um item de uma lista.\n",
    "\n",
    "mylist.remove(\"z\")\n",
    "print(mylist)"
   ]
  },
  {
   "attachments": {},
   "cell_type": "markdown",
   "metadata": {},
   "source": [
    "Também existem métodos para contar itens em uma lista e onde eles ocorrem."
   ]
  },
  {
   "cell_type": "code",
   "execution_count": null,
   "metadata": {},
   "outputs": [],
   "source": [
    "# count conta o número de vezes que um item ocorre em uma lista.\n",
    "\n",
    "fib = [1, 1, 2, 3, 5, 8, 13]\n",
    "fib.count(1)"
   ]
  },
  {
   "cell_type": "code",
   "execution_count": null,
   "metadata": {},
   "outputs": [],
   "source": [
    "# index retorna o índice da primeira ocorrência.\n",
    " \n",
    "fib.index(13)"
   ]
  },
  {
   "cell_type": "code",
   "execution_count": null,
   "metadata": {},
   "outputs": [],
   "source": [
    "# reverse altera uma lista existente, invertendo a ordem dos elementos.\n",
    "\n",
    "letters = [\"a\", \"b\", \"c\"]\n",
    "letters.reverse()\n",
    "print(letters)"
   ]
  },
  {
   "cell_type": "code",
   "execution_count": null,
   "metadata": {},
   "outputs": [],
   "source": [
    "# sorted retorna uma lista ordenada, mas não modifica a lista existente.\n",
    "\n",
    "numbers = [2, 10, 3, 26, 5]\n",
    "print(sorted(numbers))"
   ]
  },
  {
   "cell_type": "code",
   "execution_count": null,
   "metadata": {},
   "outputs": [],
   "source": [
    "# sort classifica uma lista no local, modificando a lista existente.\n",
    "\n",
    "numbers.sort()\n",
    "print(numbers)"
   ]
  },
  {
   "cell_type": "code",
   "execution_count": null,
   "metadata": {},
   "outputs": [],
   "source": [
    "# A palavra-chave reverse é usada para classificar em ordem decrescente.\n",
    "\n",
    "sorted(numbers, reverse=True)"
   ]
  },
  {
   "attachments": {},
   "cell_type": "markdown",
   "metadata": {},
   "source": [
    "As funções min e max localizam os itens menores e maiores em uma lista."
   ]
  },
  {
   "cell_type": "code",
   "execution_count": null,
   "metadata": {},
   "outputs": [],
   "source": [
    "# min e max encontram os itens menores e maiores.\n",
    "\n",
    "numbers = [2, 10, 3, 26, 5]\n",
    "print(min(numbers), max(numbers))"
   ]
  },
  {
   "attachments": {},
   "cell_type": "markdown",
   "metadata": {},
   "source": [
    "#### Tuplas"
   ]
  },
  {
   "attachments": {},
   "cell_type": "markdown",
   "metadata": {},
   "source": [
    "As tuplas são contêineres como as listas, com a diferença de que são imutáveis - uma vez definidos,\n",
    "os elementos não podem ser alterados ou adicionados. Tuplas são identificadas por parênteses\n",
    "padrão, ()."
   ]
  },
  {
   "attachments": {},
   "cell_type": "markdown",
   "metadata": {},
   "source": [
    "- Para gerar uma tupla, inclua uma sequência de objetos (separados por vírgulas) em padrão parênteses.\n",
    "- A indexação e segmentação de tupla funcionam da mesma forma que para listas e strings.\n",
    "- É um erro tentar alterar um elemento da tupla depois que a tupla foi criada."
   ]
  },
  {
   "attachments": {},
   "cell_type": "markdown",
   "metadata": {},
   "source": [
    "As tuplas são mais simples e eficientes do que as listas em termos de uso de memória e desempenho.\n",
    "Eles são frequentemente preferidos para variáveis “temporárias” que não precisam ser modificadas. Eles também\n",
    "podem ser usados como chaves de dicionário, o que as listas não podem."
   ]
  },
  {
   "cell_type": "code",
   "execution_count": null,
   "metadata": {},
   "outputs": [],
   "source": [
    "# Crie uma tupla usando parênteses padrão.\n",
    "\n",
    "tuple1 = (\"a\", \"b\", \"c\")\n",
    "print(tuple1)"
   ]
  },
  {
   "cell_type": "code",
   "execution_count": null,
   "metadata": {},
   "outputs": [],
   "source": [
    "# Elementos de tupla podem ser indexados como listas ou strings.\n",
    "\n",
    "tuple1[2]"
   ]
  },
  {
   "cell_type": "code",
   "execution_count": null,
   "metadata": {},
   "outputs": [],
   "source": [
    "# O fatiamento funciona da mesma maneira para tuplas como para listas ou strings.\n",
    "\n",
    "tuple1[1:]"
   ]
  },
  {
   "attachments": {},
   "cell_type": "markdown",
   "metadata": {},
   "source": [
    "Qualquer sequência de valores separados por vírgulas define uma tupla, que pode ser usada para\n",
    "atribuir valores a várias variáveis por vez."
   ]
  },
  {
   "cell_type": "code",
   "execution_count": null,
   "metadata": {},
   "outputs": [],
   "source": [
    "# Uma sequência de valores separados por vírgulas define uma tupla.\n",
    "\n",
    "tuple2 = 1, 2, 3\n",
    "print(tuple2)"
   ]
  },
  {
   "cell_type": "code",
   "execution_count": null,
   "metadata": {},
   "outputs": [],
   "source": [
    "# As variáveis do lado esquerdo são atribuídas aos valores do lado direito.\n",
    "\n",
    "(x, y) = (10, 20)\n",
    "\n",
    "print(\"x =\", x)\n",
    "print(\"y =\", y)"
   ]
  },
  {
   "cell_type": "code",
   "execution_count": null,
   "metadata": {},
   "outputs": [],
   "source": [
    "# Os parênteses não são estritamente necessários e podem ser descartados.\n",
    "\n",
    "a, b = (2, 4)\n",
    "print(a, b)"
   ]
  },
  {
   "attachments": {},
   "cell_type": "markdown",
   "metadata": {},
   "source": [
    "#### Conjuntos"
   ]
  },
  {
   "attachments": {},
   "cell_type": "markdown",
   "metadata": {},
   "source": [
    "Conjuntos são recipientes com o mesmo significado que têm em matemática - coleções\n",
    "desordenadas de itens sem duplicatas. Os conjuntos são identificados por colchetes, {}."
   ]
  },
  {
   "attachments": {},
   "cell_type": "markdown",
   "metadata": {},
   "source": [
    "- Para gerar um conjunto, coloque uma sequência de objetos (separados por vírgulas) em curly colchetes. \n",
    "- As duplicatas serão removidas ao criar um conjunto ou operar em conjuntos existentes.\n",
    "- Conjuntos podem ser usados ao invés de listas quando sabemos que cada elemento é único\n",
    "e imutável (inalterável)."
   ]
  },
  {
   "cell_type": "code",
   "execution_count": null,
   "metadata": {},
   "outputs": [],
   "source": [
    "# Conjuntos são criados usando colchetes.\n",
    "\n",
    "myset = {1, 2, 3}\n",
    "print(myset)"
   ]
  },
  {
   "cell_type": "code",
   "execution_count": null,
   "metadata": {},
   "outputs": [],
   "source": [
    "# Criando um conjunto de uma lista (observe que as duplicatas são removidas).\n",
    "\n",
    "myset = set([1, 2, 3, 2])\n",
    "print(myset)"
   ]
  },
  {
   "cell_type": "code",
   "execution_count": null,
   "metadata": {},
   "outputs": [],
   "source": [
    "# set([]) cria um conjunto vazio.\n",
    "\n",
    "print(set())"
   ]
  },
  {
   "attachments": {},
   "cell_type": "markdown",
   "metadata": {},
   "source": [
    "As operações matemáticas padrão para conjuntos são todas incorporadas ao Python."
   ]
  },
  {
   "cell_type": "code",
   "execution_count": null,
   "metadata": {},
   "outputs": [],
   "source": [
    "# Crie 2 conjuntos.\n",
    "\n",
    "set1 = {1, 2, 3}\n",
    "set2 = {3, 4, 5}"
   ]
  },
  {
   "cell_type": "code",
   "execution_count": null,
   "metadata": {},
   "outputs": [],
   "source": [
    "# testes para associação de conjunto.\n",
    "\n",
    "1 in set1"
   ]
  },
  {
   "cell_type": "code",
   "execution_count": null,
   "metadata": {},
   "outputs": [],
   "source": [
    "# Definir união (o operador união também pode ser usado).\n",
    "\n",
    "set1 | set2"
   ]
  },
  {
   "cell_type": "code",
   "execution_count": null,
   "metadata": {},
   "outputs": [],
   "source": [
    "# Defina a interseção (também pode usar o operador de interseção ).\n",
    "\n",
    "set1 & set2"
   ]
  },
  {
   "cell_type": "code",
   "execution_count": null,
   "metadata": {},
   "outputs": [],
   "source": [
    "# Defina a diferença (também pode usar o operador de diferença ).\n",
    "\n",
    "set1 - set2"
   ]
  },
  {
   "cell_type": "code",
   "execution_count": null,
   "metadata": {},
   "outputs": [],
   "source": [
    "# Diferença simétrica (também pode usar o operador de diferença simétrica ).\n",
    "\n",
    "set1 ^ set2"
   ]
  },
  {
   "cell_type": "code",
   "execution_count": null,
   "metadata": {},
   "outputs": [],
   "source": [
    "# Testar se um conjunto é um subconjunto de outro (também pode usar o operador is subset ).\n",
    "\n",
    "set1 <= set2"
   ]
  },
  {
   "cell_type": "markdown",
   "metadata": {},
   "source": [
    "### Dictionaries"
   ]
  },
  {
   "cell_type": "code",
   "execution_count": null,
   "metadata": {},
   "outputs": [],
   "source": [
    "# Note the colon in the key:value pairs.\n",
    "\n",
    "mydict1 = {\"x\":1, \"y\":2, \"z\":3}\n",
    "print(mydict1)"
   ]
  },
  {
   "cell_type": "code",
   "execution_count": null,
   "metadata": {},
   "outputs": [],
   "source": [
    "# Dictionary values are accessed using the keys\n",
    "\n",
    "mydict1[\"y\"]"
   ]
  },
  {
   "cell_type": "code",
   "execution_count": null,
   "metadata": {},
   "outputs": [],
   "source": [
    "# Dictionary values can be changed using the \"=\" assignment operator.\n",
    "\n",
    "mydict1[\"y\"] = 10\n",
    "print(mydict1)"
   ]
  },
  {
   "cell_type": "code",
   "execution_count": null,
   "metadata": {},
   "outputs": [],
   "source": [
    "# New key:value pairs can be assigned using the \"=\" assignment operator.\n",
    "\n",
    "mydict1[\"w\"] = 0\n",
    "print(mydict1)"
   ]
  },
  {
   "cell_type": "code",
   "execution_count": null,
   "metadata": {},
   "outputs": [],
   "source": [
    "# get returns None if the key does not exist.\n",
    "\n",
    "mydict1.get(\"a\")"
   ]
  },
  {
   "cell_type": "code",
   "execution_count": null,
   "metadata": {},
   "outputs": [],
   "source": [
    "# get can also return a default value.\n",
    "\n",
    "mydict1.get(\"a\", 42)"
   ]
  },
  {
   "cell_type": "code",
   "execution_count": null,
   "metadata": {},
   "outputs": [],
   "source": [
    "# Creating an empty dictionary.\n",
    "\n",
    "dict2 = {}\n",
    "print(dict2)"
   ]
  },
  {
   "cell_type": "code",
   "execution_count": null,
   "metadata": {},
   "outputs": [],
   "source": [
    "# Another way to create an empty dictionary.\n",
    "\n",
    "dict3 = dict()\n",
    "print(dict3)"
   ]
  },
  {
   "cell_type": "code",
   "execution_count": null,
   "metadata": {},
   "outputs": [],
   "source": [
    "%reload_ext watermark\n",
    "%watermark -a \"Caique Miranda\" -gu \"caiquemiranda\" -iv"
   ]
  },
  {
   "cell_type": "markdown",
   "metadata": {},
   "source": [
    "### End"
   ]
  }
 ],
 "metadata": {
  "kernelspec": {
   "display_name": "Python 3.10.5 64-bit",
   "language": "python",
   "name": "python3"
  },
  "language_info": {
   "codemirror_mode": {
    "name": "ipython",
    "version": 3
   },
   "file_extension": ".py",
   "mimetype": "text/x-python",
   "name": "python",
   "nbconvert_exporter": "python",
   "pygments_lexer": "ipython3",
   "version": "3.10.5"
  },
  "orig_nbformat": 4,
  "vscode": {
   "interpreter": {
    "hash": "74af3d2f25f1e46ebd2903d59225d79e4675ec224d56c01fc30cd168c2010d53"
   }
  }
 },
 "nbformat": 4,
 "nbformat_minor": 2
}
