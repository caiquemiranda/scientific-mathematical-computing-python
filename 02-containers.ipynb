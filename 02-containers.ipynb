{
 "cells": [
  {
   "cell_type": "markdown",
   "metadata": {},
   "source": [
    "### List"
   ]
  },
  {
   "cell_type": "code",
   "execution_count": null,
   "metadata": {},
   "outputs": [],
   "source": [
    "# Use square brackets to create a list.\n",
    "\n",
    "mylist = [1, \"a\", 6.58]\n",
    "print(mylist)"
   ]
  },
  {
   "cell_type": "code",
   "execution_count": null,
   "metadata": {},
   "outputs": [],
   "source": [
    "# len returns the number of elements in a list.\n",
    "\n",
    "len(mylist)"
   ]
  },
  {
   "cell_type": "code",
   "execution_count": null,
   "metadata": {},
   "outputs": [],
   "source": [
    "Adding two lists makes a new\n",
    "list by concatenation.\n",
    "\n",
    "list1 = [1, 2, 3]\n",
    "list2 = [4, 5, 6]\n",
    "list1 + list2"
   ]
  },
  {
   "cell_type": "code",
   "execution_count": null,
   "metadata": {},
   "outputs": [],
   "source": [
    "Multiplying a list by an integer\n",
    "repeats the list.\n",
    "\n",
    "list1 * 3"
   ]
  },
  {
   "cell_type": "code",
   "execution_count": null,
   "metadata": {},
   "outputs": [],
   "source": [
    "list3 is an empty list.\n",
    "\n",
    "list3 = []\n",
    "print(list3)"
   ]
  },
  {
   "cell_type": "code",
   "execution_count": null,
   "metadata": {},
   "outputs": [],
   "source": [
    "Another way to create an\n",
    "empty list.\n",
    "\n",
    "list4 = list()\n",
    "print(list4)"
   ]
  },
  {
   "cell_type": "code",
   "execution_count": null,
   "metadata": {},
   "outputs": [],
   "source": [
    "Access the element at index 1\n",
    "(indexing starts at 0).\n",
    "\n",
    "primes = [2, 3, 5, 7, 11, 13, 17]\n",
    "primes[1]"
   ]
  },
  {
   "cell_type": "code",
   "execution_count": null,
   "metadata": {},
   "outputs": [],
   "source": [
    "List slicing, start at position 3,\n",
    "through to the end.\n",
    "\n",
    "primes[3:]"
   ]
  },
  {
   "cell_type": "code",
   "execution_count": null,
   "metadata": {},
   "outputs": [],
   "source": [
    "List slicing, start at the begin-\n",
    "ning, end at position 2.\n",
    "\n",
    "primes[:3]"
   ]
  },
  {
   "cell_type": "code",
   "execution_count": null,
   "metadata": {},
   "outputs": [],
   "source": [
    "List slicing, start at position 2,\n",
    "end at position 4.\n",
    "\n",
    "primes[2:5]"
   ]
  },
  {
   "cell_type": "code",
   "execution_count": null,
   "metadata": {},
   "outputs": [],
   "source": [
    "One way to reverse a list.\n",
    "\n",
    "primes[::-1]"
   ]
  },
  {
   "cell_type": "code",
   "execution_count": null,
   "metadata": {},
   "outputs": [],
   "source": [
    "List elements can be changed\n",
    "by assigning a new element at\n",
    "a given index.\n",
    "\n",
    "mylist[1] = \"e\"\n",
    "print(mylist)"
   ]
  },
  {
   "cell_type": "code",
   "execution_count": null,
   "metadata": {},
   "outputs": [],
   "source": [
    "append adds an element to\n",
    "the end of a list. \n",
    "\n",
    "mylist = [\"a\", \"b\"]\n",
    "mylist.append(\"c\")\n",
    "print(mylist)"
   ]
  },
  {
   "cell_type": "code",
   "execution_count": null,
   "metadata": {},
   "outputs": [],
   "source": [
    "extend adds elements to a\n",
    "list.\n",
    "\n",
    "mylist.extend([\"d\", \"e\", \"f\"])\n",
    "print(mylist)"
   ]
  },
  {
   "cell_type": "code",
   "execution_count": null,
   "metadata": {},
   "outputs": [],
   "source": [
    "insert inserts an element at a\n",
    "given position.\n",
    "\n",
    "mylist.insert(0, \"z\")\n",
    "print(mylist)"
   ]
  },
  {
   "cell_type": "code",
   "execution_count": null,
   "metadata": {},
   "outputs": [],
   "source": [
    "pop removes the element at a\n",
    "given position and returns it.\n",
    "The default is to remove the\n",
    "last element.\n",
    "\n",
    "mylist.pop()\n",
    "print(mylist)"
   ]
  },
  {
   "cell_type": "code",
   "execution_count": null,
   "metadata": {},
   "outputs": [],
   "source": [
    "remove removes the first in-\n",
    "stance of an item from a list.\n",
    "\n",
    "mylist.remove(\"z\")\n",
    "print(mylist)"
   ]
  },
  {
   "cell_type": "code",
   "execution_count": null,
   "metadata": {},
   "outputs": [],
   "source": [
    "count counts the number of\n",
    "times an item occurs in a list.\n",
    "\n",
    "fib = [1, 1, 2, 3, 5, 8, 13]\n",
    "fib.count(1)"
   ]
  },
  {
   "cell_type": "code",
   "execution_count": null,
   "metadata": {},
   "outputs": [],
   "source": [
    "index returns the index of the\n",
    "first occurrence.\n",
    " \n",
    " fib.index(13)"
   ]
  },
  {
   "cell_type": "code",
   "execution_count": null,
   "metadata": {},
   "outputs": [],
   "source": [
    "reverse changes an existing\n",
    "list, reversing the order of el-\n",
    "ements.\n",
    "\n",
    "letters = [\"a\", \"b\", \"c\"]\n",
    "letters.reverse()\n",
    "print(letters)"
   ]
  },
  {
   "cell_type": "code",
   "execution_count": null,
   "metadata": {},
   "outputs": [],
   "source": [
    "sorted returns a sorted list,\n",
    "but does not modify the exist-\n",
    "ing list.\n",
    "\n",
    "numbers = [2, 10, 3, 26, 5]\n",
    "print(sorted(numbers))"
   ]
  },
  {
   "cell_type": "code",
   "execution_count": null,
   "metadata": {},
   "outputs": [],
   "source": [
    "sort sorts a list in place, mod-\n",
    "ifying the existing list.\n",
    "\n",
    "numbers.sort()\n",
    "print(numbers)"
   ]
  },
  {
   "cell_type": "code",
   "execution_count": null,
   "metadata": {},
   "outputs": [],
   "source": [
    "The reverse keyword is used to\n",
    "sort in descending order.\n",
    "\n",
    "sorted(numbers, reverse=True)"
   ]
  },
  {
   "cell_type": "code",
   "execution_count": null,
   "metadata": {},
   "outputs": [],
   "source": [
    "find the small-\n",
    "est and largest items.\n",
    "\n",
    "numbers = [2, 10, 3, 26, 5]\n",
    "print(min(numbers), max(numbers))"
   ]
  },
  {
   "cell_type": "markdown",
   "metadata": {},
   "source": [
    "### Tuples"
   ]
  },
  {
   "cell_type": "code",
   "execution_count": null,
   "metadata": {},
   "outputs": [],
   "source": []
  },
  {
   "cell_type": "code",
   "execution_count": null,
   "metadata": {},
   "outputs": [],
   "source": []
  }
 ],
 "metadata": {
  "kernelspec": {
   "display_name": "Python 3.10.5 64-bit",
   "language": "python",
   "name": "python3"
  },
  "language_info": {
   "name": "python",
   "version": "3.10.5"
  },
  "orig_nbformat": 4,
  "vscode": {
   "interpreter": {
    "hash": "74af3d2f25f1e46ebd2903d59225d79e4675ec224d56c01fc30cd168c2010d53"
   }
  }
 },
 "nbformat": 4,
 "nbformat_minor": 2
}
