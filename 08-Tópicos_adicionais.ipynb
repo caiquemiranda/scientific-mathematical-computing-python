{
 "cells": [
  {
   "attachments": {},
   "cell_type": "markdown",
   "metadata": {},
   "source": [
    "### Tópicos adcionais"
   ]
  },
  {
   "attachments": {},
   "cell_type": "markdown",
   "metadata": {},
   "source": [
    "#### Carregando Arquivos Numéricos"
   ]
  },
  {
   "attachments": {},
   "cell_type": "markdown",
   "metadata": {},
   "source": [
    "Freqüentemente, precisamos carregar arquivos contendo dados numéricos em uma matriz NumPy para processamento e exibição adicionais. Esses arquivos de dados geralmente consistem em: "
   ]
  },
  {
   "attachments": {},
   "cell_type": "markdown",
   "metadata": {},
   "source": [
    "- Informações do cabeçalho. Isso descreve o que os dados representam e como eles são formatados.\n",
    "- Um conjunto de linhas de dados numéricos. Cada linha contém o mesmo número de valores, separados por alguma string, como uma vírgula ou tabulação."
   ]
  },
  {
   "attachments": {},
   "cell_type": "markdown",
   "metadata": {},
   "source": [
    "A função NumPy numpy.loadtxt pode ser usado para carregar esses dados. Isso retorna uma matriz NumPy, onde cada linha corresponde a uma linha no arquivo de dados. O primeiro argumento para esta função é o nome do arquivo de dados. Alguns dos argumentos de palavra-chave opcionais são mostrados abaixo."
   ]
  },
  {
   "attachments": {},
   "cell_type": "markdown",
   "metadata": {},
   "source": [
    "- tipo d. Este é o tipo de dados dos valores na matriz, que são flutuantes por padrão.\n",
    "- delimitador. Esta é a string usada para separar valores em cada linha. Por padrão, qualquer espaços em branco, como espaços ou tabulações, são considerados delimitadores.\n",
    "- saltos. Este é o número de linhas a serem ignoradas no início do arquivo antes da leitura dos dados. Geralmente é usado para ignorar as informações do cabeçalho e o padrão é 0."
   ]
  },
  {
   "cell_type": "code",
   "execution_count": 1,
   "metadata": {},
   "outputs": [],
   "source": [
    "# Importe a função loadtxt\n",
    "\n",
    "from numpy import loadtxt"
   ]
  },
  {
   "cell_type": "code",
   "execution_count": 2,
   "metadata": {},
   "outputs": [
    {
     "name": "stdout",
     "output_type": "stream",
     "text": [
      "[[ 1 77 56]\n",
      " [ 2 79 62]]\n"
     ]
    }
   ],
   "source": [
    "# Carregue o arquivo ”weather.dat”, pulando a primeira linha e criando uma matriz 2 × 3 de inteiros. \n",
    "# Para floats, o argumento dtype não seria usado.\n",
    "\n",
    "data= loadtxt('data/weather.dat', dtype=int, skiprows=1)\n",
    "print(data)"
   ]
  },
  {
   "cell_type": "markdown",
   "metadata": {},
   "source": [
    "### Images"
   ]
  },
  {
   "attachments": {},
   "cell_type": "markdown",
   "metadata": {},
   "source": [
    "Matplotlib fornece funções para salvar, ler e exibir imagens. Essas imagens são arrays NumPy bidimensionais ou\n",
    "tridimensionais. Em ambos os casos, os dois primeiros eixos do array correspondem às linhas e colunas da imagem. O\n",
    "terceiro eixo corresponde à cor do pixel em cada coordenada (coluna, linha)."
   ]
  },
  {
   "attachments": {},
   "cell_type": "markdown",
   "metadata": {},
   "source": [
    "- • Para uma matriz 2D, os valores da matriz são flutuantes no intervalo [0, 1]. Estes representam a luminância (brilho) de uma imagem em tons de cinza de preto (0) a branco (1).\n",
    "- Para uma matriz 3D, o terceiro eixo pode ter 3 ou 4 elementos. Em ambos os casos, os três primeiros elementos correspondem aos componentes vermelho, verde e azul da cor do pixel. Eles podem ser flutuantes no intervalo [0, 1] ou inteiros de 8 bits do tipo 'uint8'."
   ]
  },
  {
   "attachments": {},
   "cell_type": "markdown",
   "metadata": {},
   "source": [
    "Um quarto elemento corresponde a um valor “alfa” que representa a transparência."
   ]
  },
  {
   "attachments": {},
   "cell_type": "markdown",
   "metadata": {},
   "source": [
    "As principais funções que utilizamos são: \n",
    "\n",
    "- eu estou lendo Ler um arquivo de imagem em uma matriz.\n",
    "- imsave Salve uma imagem em um arquivo.\n",
    "- imshow Exibir uma matriz de imagens."
   ]
  },
  {
   "attachments": {},
   "cell_type": "markdown",
   "metadata": {},
   "source": [
    "O exemplo a seguir cria uma imagem como uma matriz 3D NumPy de flutuadores. Os componentes de cor vermelho, verde e azul da imagem são então definidos diretamente usando fatiamento de matriz."
   ]
  },
  {
   "cell_type": "code",
   "execution_count": 3,
   "metadata": {},
   "outputs": [
    {
     "data": {
      "text/plain": [
       "<matplotlib.image.AxesImage at 0x2093e6913f0>"
      ]
     },
     "execution_count": 3,
     "metadata": {},
     "output_type": "execute_result"
    },
    {
     "data": {
      "image/png": "[encoded data removed]",
      "text/plain": [
       "<Figure size 432x288 with 1 Axes>"
      ]
     },
     "metadata": {
      "needs_background": "light"
     },
     "output_type": "display_data"
    }
   ],
   "source": [
    "import numpy as np # Importar zeros\n",
    "import matplotlib.pyplot as plt # Import imsave, imread, imshow\n",
    "\n",
    "img = np.zeros((100, 100, 3)) # Crie uma matriz de imagem de 100 linhas e colunas.\n",
    "\n",
    "img[:60,:60,0] = 1. # Defina o canto superior esquerdo como vermelho.\n",
    "img[40:,40:,1] = 1. # Defina o canto inferior direito como verde.\n",
    "img[20:80,20:80,2] = 1. # Defina o quadrado central para azul.\n",
    "\n",
    "plt.imsave(\"data/squares.png\", img) # Salva o array img no arquivo \"squares.png\n",
    "\n",
    "img2 = plt.imread(\"./data/squares.png\") # Lê o arquivo de volta no array\n",
    "\n",
    "plt.imshow(img2) # Mostra a imagem"
   ]
  },
  {
   "attachments": {},
   "cell_type": "markdown",
   "metadata": {},
   "source": [
    "#### Animação"
   ]
  },
  {
   "attachments": {},
   "cell_type": "markdown",
   "metadata": {},
   "source": [
    "Uma animação consiste em uma sequência de quadros que são exibidos um após o outro. A animação usando Matplotlib envolve essencialmente atualizar os dados associados a algum objeto ou objetos desenhados (como pontos ou linhas) e redesenhar esses objetos. A produção de uma animação envolve, portanto, as seguintes etapas:"
   ]
  },
  {
   "attachments": {},
   "cell_type": "markdown",
   "metadata": {},
   "source": [
    "- Configure as variáveis e estruturas de dados relacionadas à animação.\n",
    "- Desenhe o primeiro quadro.\n",
    "- Atualize repetidamente o quadro com novos dados."
   ]
  },
  {
   "attachments": {},
   "cell_type": "markdown",
   "metadata": {},
   "source": [
    "As animações são geradas usando FuncAnimation do matplotlib.animation módulo. Isso leva os seguintes argumentos necessários:\n",
    "\n",
    "- fig. Esta é a figura na qual a animação deve ser desenhada. Ele pode ser obtido usando a figura do Matplotlib ou subtramas funções.\n",
    "- func. Isso especifica a função a ser chamada para executar uma única etapa da animação. Deve ter um único argumento que é o número do quadro (um inteiro). O número do quadro é usado para atualizar os valores dos objetos desenhados, como pontos ou linhas. Se o argumento da palavra-chave blit for True, esta função deve retornar uma tupla dos objetos modificados que precisam ser redesenhados."
   ]
  },
  {
   "attachments": {},
   "cell_type": "markdown",
   "metadata": {},
   "source": [
    "FuncAnimation também aceita os seguintes argumentos de palavra-chave. \n",
    "\n",
    "- molduras. Um inteiro especificando o número de quadros a serem gerados.\n",
    "- função de inicialização. Isso especifica a função que é chamada uma vez no início para desenhar o plano de fundo comum a todos os quadros. Se o argumento da palavra-chave blit for True, esta função também deve retornar uma tupla dos objetos modificados que precisam ser redesenhados.\n",
    "- intervalo. Este argumento especifica o tempo (em ms) de espera entre desenhos sucessivos quadros.\n",
    "- blit. Se True, a animação apenas redesenha as partes do enredo que foram alteradas. Isso pode ajudar a garantir que os quadros sucessivos sejam exibidos rapidamente.\n",
    "- repetir. Se True (o padrão), a animação se repetirá desde o início assim que está terminado."
   ]
  },
  {
   "attachments": {},
   "cell_type": "markdown",
   "metadata": {},
   "source": [
    "O exemplo a seguir para Jupyter Notebook anima um ponto circulando a origem com velocidade angular constante. A função animar é definida para atualizar a posição do ponto com base no número do quadro."
   ]
  },
  {
   "cell_type": "code",
   "execution_count": 4,
   "metadata": {},
   "outputs": [
    {
     "name": "stdout",
     "output_type": "stream",
     "text": [
      "Using matplotlib backend: <object object at 0x000002092E4AE750>\n"
     ]
    },
    {
     "data": {
      "text/plain": [
       "<matplotlib.animation.FuncAnimation at 0x2093c7cf6d0>"
      ]
     },
     "execution_count": 4,
     "metadata": {},
     "output_type": "execute_result"
    }
   ],
   "source": [
    "%matplotlib \n",
    "# %matplotlib não embutido\n",
    "\n",
    "import numpy as np\n",
    "import matplotlib.pyplot as plt\n",
    "from matplotlib import animation\n",
    "\n",
    "omega = .02 # Velocidade angular\n",
    "fig, ax = plt.subplots(figsize=(4,4)) # Obtenha a figura e os eixos para o gráfico\n",
    "ax.set_aspect('equal') # Faz com que os eixos tenham o mesmo\n",
    "\n",
    "point, = plt.plot([], [], 'ro', ms=10) # point\" é o objeto desenhado por plot\n",
    "\n",
    "plt.xlim(-1.5,1.5) # observe que \"plot\" retorna uma tupla\n",
    "plt.ylim(-1.5,1.5) # Definir limites para toda a animação\n",
    "\n",
    "# Função de inicialização. Isso é chamado uma vez para plotar o plano de fundo\n",
    "def init():\n",
    "    point.set_data([], [])\n",
    "    return point, # Retorna uma tupla dos objetos modificados\n",
    "\n",
    "# Função de animação. Isso é chamado uma vez por etapa de animação.\n",
    "# inteiro i é o número do quadro\n",
    "\n",
    "def animate(i):\n",
    "    x = np.cos(i*omega)\n",
    "    y = np.sin(i*omega)\n",
    "    point.set_data(x, y) # Atualize as coordenadas x, y do ponto\n",
    "    return point, # Retorne a tupla dos objetos modificados\n",
    "\n",
    "# Inicia o animador com uma chamada para \"FuncAnimation\"\n",
    "animation.FuncAnimation(fig, animate, init_func=init, frames=100, interval=20)"
   ]
  },
  {
   "attachments": {},
   "cell_type": "markdown",
   "metadata": {},
   "source": [
    "Observe que no Jupyter Notebook, a mágica do IPython que precisamos usar é %matplotlib em vez de %matplotlib inline. Os gráficos embutidos no Jupyter Notebook são estáticos, o que significa que, uma vez desenhados, não podem ser atualizados. O uso de %matplotlib gera gráficos em uma janela separada, onde os dados atualizados podem ser exibidos."
   ]
  },
  {
   "attachments": {},
   "cell_type": "markdown",
   "metadata": {},
   "source": [
    "#### Geração de Número Aleatório"
   ]
  },
  {
   "attachments": {},
   "cell_type": "markdown",
   "metadata": {},
   "source": [
    "O NumPy fornece uma biblioteca de funções para geração de números aleatórios no numpy.random módulo. les retornam uma amostra ou uma matriz de amostras de um determinado tamanho, extraídas de uma determinada distribuição de probabilidade. As principais funções que utilizamos são:"
   ]
  },
  {
   "attachments": {},
   "cell_type": "markdown",
   "metadata": {},
   "source": [
    "--corr_Code"
   ]
  },
  {
   "attachments": {},
   "cell_type": "markdown",
   "metadata": {},
   "source": [
    "Os exemplos a seguir ilustram o uso dessas funções."
   ]
  },
  {
   "cell_type": "code",
   "execution_count": 5,
   "metadata": {},
   "outputs": [
    {
     "name": "stdout",
     "output_type": "stream",
     "text": [
      "0.6381671497919688\n"
     ]
    }
   ],
   "source": [
    "# Use random.rand para gerar um único número retirado \n",
    "# uniformemente do intervalo [0, 1).\n",
    "\n",
    "import numpy as np\n",
    "print(np.random.rand())"
   ]
  },
  {
   "cell_type": "code",
   "execution_count": 6,
   "metadata": {},
   "outputs": [
    {
     "name": "stdout",
     "output_type": "stream",
     "text": [
      "[0.69812724 0.68950946 0.43716819]\n"
     ]
    }
   ],
   "source": [
    "# Use random.rand para gerar ma matriz de 3 números aleatórios \n",
    "# extraídos de [0, 1).\n",
    "\n",
    "print(np.random.rand(3))"
   ]
  },
  {
   "cell_type": "code",
   "execution_count": 7,
   "metadata": {},
   "outputs": [
    {
     "name": "stdout",
     "output_type": "stream",
     "text": [
      "[[0.33256785 0.10107021 0.67101183]\n",
      " [0.55520076 0.47182865 0.09644834]]\n"
     ]
    }
   ],
   "source": [
    "# Use random.rand para gerar uma matriz 2 × 3 \n",
    "# de números aleatórios extraídos de [0, 1).\n",
    "\n",
    "print(np.random.rand(2, 3))"
   ]
  },
  {
   "cell_type": "code",
   "execution_count": 8,
   "metadata": {},
   "outputs": [
    {
     "name": "stdout",
     "output_type": "stream",
     "text": [
      "3\n"
     ]
    }
   ],
   "source": [
    "# Use random.randint para gerar um inteiro extraído de {0, ..., 6}.\n",
    "\n",
    "print(np.random.randint(7))"
   ]
  },
  {
   "cell_type": "code",
   "execution_count": 9,
   "metadata": {},
   "outputs": [
    {
     "name": "stdout",
     "output_type": "stream",
     "text": [
      "[[6 7 6 5]\n",
      " [7 8 7 5]]\n"
     ]
    }
   ],
   "source": [
    "# Use random.randint para gerar uma matriz 2 × 4 \n",
    "# de inteiros extraídos de {5, 6, 7, 8}.\n",
    "\n",
    "print(np.random.randint(5, 9, size=(2, 4)))"
   ]
  },
  {
   "cell_type": "code",
   "execution_count": 10,
   "metadata": {},
   "outputs": [
    {
     "name": "stdout",
     "output_type": "stream",
     "text": [
      "[-0.7683157   0.49969235 -0.78693588]\n"
     ]
    }
   ],
   "source": [
    "# Use random.randn para gerar uma matriz \n",
    "# de amostras extraídas da distribuição normal \"padrão\".\n",
    "\n",
    "print(np.random.randn(3))"
   ]
  },
  {
   "cell_type": "code",
   "execution_count": 11,
   "metadata": {},
   "outputs": [
    {
     "name": "stdout",
     "output_type": "stream",
     "text": [
      "87.34844962928014\n"
     ]
    }
   ],
   "source": [
    "# Use random.normal para gerar uma amostra \n",
    "# extraída de uma distribuição normal com μ = 100, ÿ = 15.\n",
    "\n",
    "print(np.random.normal(100, 15))"
   ]
  },
  {
   "attachments": {},
   "cell_type": "markdown",
   "metadata": {},
   "source": [
    "#### Arquivos de Som"
   ]
  },
  {
   "attachments": {},
   "cell_type": "markdown",
   "metadata": {},
   "source": [
    "O som é uma vibração que se propaga através de um meio como o ar como uma onda de pressão e deslocamento. Dispositivos de gravação, como microfones, convertem essa onda em um sinal elétrico. Esse sinal é então amostrado em intervalos regulares e convertido em uma sequência de números, que correspondem à amplitude da onda em determinados momentos."
   ]
  },
  {
   "attachments": {},
   "cell_type": "markdown",
   "metadata": {},
   "source": [
    "O formato de arquivo WAV é um padrão para armazenar tais dados de áudio sem compressão. Os arquivos WAV contêm duas informações principais:\n",
    "\n",
    "- A taxa na qual a onda foi amostrada, geralmente 44.100 vezes por segundo.\n",
    "- Os dados de áudio, geralmente com 16 bits usados por amostra. Isso permite 216 = 65.536 diferentes níveis de amplitude a serem representados."
   ]
  },
  {
   "attachments": {},
   "cell_type": "markdown",
   "metadata": {},
   "source": [
    "O módulo scipy.io.wavfile fornece funções para ler e gravar esses arquivos."
   ]
  },
  {
   "attachments": {},
   "cell_type": "markdown",
   "metadata": {},
   "source": [
    "scipy.io.wavfile.read Leia um arquivo WAV, retornando a taxa de amostragem e os dados."
   ]
  },
  {
   "attachments": {},
   "cell_type": "markdown",
   "metadata": {},
   "source": [
    "scipy.io.wavfile.write Escreva uma matriz NumPy como um arquivo WAV."
   ]
  },
  {
   "attachments": {},
   "cell_type": "markdown",
   "metadata": {},
   "source": [
    "O exemplo a seguir cria e salva um arquivo WAV com uma única frequência no meio C e plota as primeiras 1.000 amostras dos dados."
   ]
  },
  {
   "cell_type": "code",
   "execution_count": 12,
   "metadata": {},
   "outputs": [],
   "source": [
    "import numpy as np # Importar linspace, sin\n",
    "import matplotlib.pyplot as plt # Funções de plotagem\n",
    "from scipy.io import wavfile\n",
    "\n",
    "rate = 44100 # Número de amostras/segundo\n",
    "end = 10 # O arquivo tem 10 segundos de duração\n",
    "time = np.linspace(0, end, rate*end+1) # Os intervalos de tempo são 1/rate\n",
    "freq = 261.625565 # Frequência de \"middle C\"\n",
    "data = np.sin(2*np.pi*freq*time) # Gera a onda senoidal\n",
    "\n",
    "wavfile.write(\"data/middleC.wav\", rate, data) # Grava o array em um arquivo WAV\n",
    "\n",
    "plt.plot(time[:1000], data[:1000]) # Plota as primeiras 1000 amostras\n",
    "plt.show() # Finalmente, mostre a figura"
   ]
  },
  {
   "attachments": {},
   "cell_type": "markdown",
   "metadata": {},
   "source": [
    "#### Programação Linear"
   ]
  },
  {
   "attachments": {},
   "cell_type": "markdown",
   "metadata": {},
   "source": [
    "Os problemas de programação linear são uma classe especial de problemas de otimização. Eles envolvem encontrar o máximo (ou mínimo) de alguma função objetivo linear f(x) de um vetor de variáveis x = (x1, x2, . . . , xn), sujeito a um conjunto de restrições lineares de igualdade e desigualdade."
   ]
  },
  {
   "attachments": {},
   "cell_type": "markdown",
   "metadata": {},
   "source": [
    "A função scipy.optimize.linprog implementa o \"algoritmo simplex\" que discutimos em aula para resolver este problema. Os argumentos para esta função são os valores c, Aub, bub, Aeq e beq dado acima. Um argumento opcional de limites representa o intervalo de valores permitidos que as variáveis podem assumir, com None usado para indicar nenhum limite."
   ]
  },
  {
   "attachments": {},
   "cell_type": "markdown",
   "metadata": {},
   "source": [
    "A aplicação do linprog a este problema é feita conforme mostrado abaixo."
   ]
  },
  {
   "cell_type": "code",
   "execution_count": 13,
   "metadata": {},
   "outputs": [
    {
     "name": "stdout",
     "output_type": "stream",
     "text": [
      "[40. 60.]\n"
     ]
    }
   ],
   "source": [
    "import numpy as np\n",
    "from scipy.optimize import linprog\n",
    "\n",
    "c = np.array([-2, -3]) # Coeficientes negativos de f(x)\n",
    "A_ub = np.array([[1, 1], [1, 2]]) # Matriz dos coeficientes de desigualdade\n",
    "b_ub = np.array([100, 160]) # Vetor dos limites superiores da desigualdade\n",
    "\n",
    "bounds = [(0, 80), (0, None)] # Cada tupla é um resultado limitado (inferior, superior)\n",
    "result = linprog(c, A_ub=A_ub, b_ub=b_ub, bounds=bounds)\n",
    "\n",
    "print(result.x) # O campo \"x\" do resultado contém a solução"
   ]
  },
  {
   "cell_type": "code",
   "execution_count": 14,
   "metadata": {},
   "outputs": [
    {
     "name": "stdout",
     "output_type": "stream",
     "text": [
      "Author: Caique Miranda\n",
      "\n",
      "Github username: caiquemiranda\n",
      "\n",
      "numpy     : 1.23.0\n",
      "scipy     : 1.8.1\n",
      "matplotlib: 3.5.2\n",
      "\n"
     ]
    },
    {
     "ename": "",
     "evalue": "",
     "output_type": "error",
     "traceback": [
      "\u001b[1;31mThe Kernel crashed while executing code in the the current cell or a previous cell. Please review the code in the cell(s) to identify a possible cause of the failure. Click <a href='https://aka.ms/vscodeJupyterKernelCrash'>here</a> for more info. View Jupyter <a href='command:jupyter.viewOutput'>log</a> for further details."
     ]
    }
   ],
   "source": [
    "%reload_ext watermark\n",
    "%watermark -a \"Caique Miranda\" -gu \"caiquemiranda\" -iv"
   ]
  },
  {
   "cell_type": "markdown",
   "metadata": {},
   "source": [
    "### End."
   ]
  }
 ],
 "metadata": {
  "kernelspec": {
   "display_name": "Python 3.10.5 64-bit",
   "language": "python",
   "name": "python3"
  },
  "language_info": {
   "codemirror_mode": {
    "name": "ipython",
    "version": 3
   },
   "file_extension": ".py",
   "mimetype": "text/x-python",
   "name": "python",
   "nbconvert_exporter": "python",
   "pygments_lexer": "ipython3",
   "version": "3.10.5"
  },
  "orig_nbformat": 4,
  "vscode": {
   "interpreter": {
    "hash": "74af3d2f25f1e46ebd2903d59225d79e4675ec224d56c01fc30cd168c2010d53"
   }
  }
 },
 "nbformat": 4,
 "nbformat_minor": 2
}
