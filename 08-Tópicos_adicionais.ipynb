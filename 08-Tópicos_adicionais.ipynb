{
 "cells": [
  {
   "attachments": {},
   "cell_type": "markdown",
   "metadata": {},
   "source": [
    "### Tópicos adcionais"
   ]
  },
  {
   "attachments": {},
   "cell_type": "markdown",
   "metadata": {},
   "source": [
    "#### Carregando Arquivos Numéricos"
   ]
  },
  {
   "attachments": {},
   "cell_type": "markdown",
   "metadata": {},
   "source": [
    "Freqüentemente, precisamos carregar arquivos contendo dados numéricos em uma matriz NumPy para processamento\n",
    "e exibição adicionais. Esses arquivos de dados geralmente consistem em: "
   ]
  },
  {
   "attachments": {},
   "cell_type": "markdown",
   "metadata": {},
   "source": [
    "- Informações do cabeçalho. Isso descreve o que os dados representam e como eles são formatados.\n",
    "- Um conjunto de linhas de dados numéricos. Cada linha contém o mesmo número de valores, separados por alguma string, como uma vírgula ou tabulação."
   ]
  },
  {
   "attachments": {},
   "cell_type": "markdown",
   "metadata": {},
   "source": [
    "A função NumPy numpy.loadtxt pode ser usado para carregar esses dados. Isso retorna uma matriz NumPy,\n",
    "onde cada linha corresponde a uma linha no arquivo de dados. O primeiro argumento para esta função é o nome do arquivo de dados. Alguns dos argumentos de palavra-chave opcionais são mostrados abaixo."
   ]
  },
  {
   "attachments": {},
   "cell_type": "markdown",
   "metadata": {},
   "source": [
    "- tipo d. Este é o tipo de dados dos valores na matriz, que são flutuantes por padrão.\n",
    "- delimitador. Esta é a string usada para separar valores em cada linha. Por padrão, qualquer espaços em branco, como espaços ou tabulações, são considerados delimitadores.\n",
    "- saltos. Este é o número de linhas a serem ignoradas no início do arquivo antes da leitura dos dados. Geralmente é usado para ignorar as informações do cabeçalho e o padrão é 0."
   ]
  },
  {
   "cell_type": "code",
   "execution_count": null,
   "metadata": {},
   "outputs": [],
   "source": [
    "# Importe a função loadtxt\n",
    "\n",
    "from numpy import loadtxt"
   ]
  },
  {
   "cell_type": "code",
   "execution_count": null,
   "metadata": {},
   "outputs": [],
   "source": [
    "# Carregue o arquivo ”weather.dat”, pulando a primeira linha e criando uma matriz 2 × 3 de inteiros. \n",
    "# Para floats, o argumento dtype não seria usado.\n",
    "\n",
    "data= loadtxt('data/weather.dat', dtype=int, skiprows=1)\n",
    "print(data)"
   ]
  },
  {
   "cell_type": "markdown",
   "metadata": {},
   "source": [
    "### Images"
   ]
  },
  {
   "attachments": {},
   "cell_type": "markdown",
   "metadata": {},
   "source": [
    "Matplotlib fornece funções para salvar, ler e exibir imagens. Essas imagens são arrays NumPy bidimensionais ou\n",
    "tridimensionais. Em ambos os casos, os dois primeiros eixos do array correspondem às linhas e colunas da imagem. O\n",
    "terceiro eixo corresponde à cor do pixel em cada coordenada (coluna, linha)."
   ]
  },
  {
   "attachments": {},
   "cell_type": "markdown",
   "metadata": {},
   "source": [
    "- • Para uma matriz 2D, os valores da matriz são flutuantes no intervalo [0, 1]. Estes representam a luminância (brilho)\n",
    "de uma imagem em tons de cinza de preto (0) a branco (1).\n",
    "- Para uma matriz 3D, o terceiro eixo pode ter 3 ou 4 elementos. Em ambos os casos, os três primeiros elementos\n",
    "correspondem aos componentes vermelho, verde e azul da cor do pixel. Eles podem ser flutuantes no intervalo [0,\n",
    "1] ou inteiros de 8 bits do tipo 'uint8'."
   ]
  },
  {
   "attachments": {},
   "cell_type": "markdown",
   "metadata": {},
   "source": [
    "Um quarto elemento corresponde a um valor “alfa” que representa a transparência."
   ]
  },
  {
   "attachments": {},
   "cell_type": "markdown",
   "metadata": {},
   "source": [
    "As principais funções que utilizamos são: \n",
    "\n",
    "- eu estou lendo Ler um arquivo de imagem em uma matriz.\n",
    "- imsave Salve uma imagem em um arquivo.\n",
    "- imshow Exibir uma matriz de imagens."
   ]
  },
  {
   "attachments": {},
   "cell_type": "markdown",
   "metadata": {},
   "source": [
    "O exemplo a seguir cria uma imagem como uma matriz 3D NumPy de flutuadores. Os componentes de cor vermelho,\n",
    "verde e azul da imagem são então definidos diretamente usando fatiamento de matriz."
   ]
  },
  {
   "cell_type": "code",
   "execution_count": null,
   "metadata": {},
   "outputs": [],
   "source": [
    "import numpy as np # Importar zeros\n",
    "import matplotlib.pyplot as plt # Import imsave, imread, imshow\n",
    "\n",
    "img = np.zeros((100, 100, 3)) # Crie uma matriz de imagem de 100 linhas e colunas.\n",
    "\n",
    "img[:60,:60,0] = 1. # Defina o canto superior esquerdo como vermelho.\n",
    "img[40:,40:,1] = 1. # Defina o canto inferior direito como verde.\n",
    "img[20:80,20:80,2] = 1. # Defina o quadrado central para azul.\n",
    "\n",
    "plt.imsave(\"data/squares.png\", img) # Salva o array img no arquivo \"squares.png\n",
    "\n",
    "img2 = plt.imread(\"./data/squares.png\") # Lê o arquivo de volta no array\n",
    "\n",
    "plt.imshow(img2) # Mostra a imagem"
   ]
  },
  {
   "attachments": {},
   "cell_type": "markdown",
   "metadata": {},
   "source": [
    "#### Animação"
   ]
  },
  {
   "cell_type": "code",
   "execution_count": null,
   "metadata": {},
   "outputs": [],
   "source": [
    "%matplotlib # Not %matplotlib inline\n",
    "import numpy as np\n",
    "import matplotlib.pyplot as plt\n",
    "from matplotlib import animation\n",
    "\n",
    "omega = .02 # Angular velocity\n",
    "fig, ax = plt.subplots(figsize=(4,4)) # Get the figure & axes for the plot\n",
    "ax.set_aspect('equal') # Make the axes have the same scale\n",
    "\n",
    "point, = plt.plot([], [], 'ro', ms=10) # \"point\" is the object drawn by plot\n",
    "\n",
    "plt.xlim(-1.5,1.5) # - note that \"plot\" returns a tuple\n",
    "plt.ylim(-1.5,1.5) # Set limits for the entire animation\n",
    "\n",
    "# Initialization function. This is called once to plot the background.\n",
    "def init():\n",
    "    point.set_data([], [])\n",
    "    return point, # Return a tuple of the modified objects\n",
    "\n",
    "# Animation function. This is called once per animation step.\n",
    "# The integer i is the frame number.\n",
    "\n",
    "def animate(i):\n",
    "    x = np.cos(i*omega)\n",
    "    y = np.sin(i*omega)\n",
    "    point.set_data(x, y) # Update the x, y coordinates of the point\n",
    "    return point, # Return a tuple of the modified objects\n",
    "\n",
    "# Start the animator with a call to \"FuncAnimation\"\n",
    "animation.FuncAnimation(fig, animate, init_func=init, frames=100, interval=20)"
   ]
  },
  {
   "cell_type": "markdown",
   "metadata": {},
   "source": [
    "### Random Number Generation"
   ]
  },
  {
   "cell_type": "code",
   "execution_count": null,
   "metadata": {},
   "outputs": [],
   "source": [
    "# Use random.rand to generate a single number uniformly drawn from the interval [0, 1).\n",
    "\n",
    "import numpy as np\n",
    "print(np.random.rand())"
   ]
  },
  {
   "cell_type": "code",
   "execution_count": null,
   "metadata": {},
   "outputs": [],
   "source": [
    "# Use random.rand to generate an array of 3 random numbers drawn from [0, 1).\n",
    "\n",
    "print(np.random.rand(3))"
   ]
  },
  {
   "cell_type": "code",
   "execution_count": null,
   "metadata": {},
   "outputs": [],
   "source": [
    "# Use random.rand to generate a 2 x 3 array of random numbers drawn from [0, 1).\n",
    "\n",
    "print(np.random.rand(2, 3))"
   ]
  },
  {
   "cell_type": "code",
   "execution_count": null,
   "metadata": {},
   "outputs": [],
   "source": [
    "# Use random.randint to generate an integer drawn from {f0, ..., 6g}.\n",
    "\n",
    "print(np.random.randint(7))"
   ]
  },
  {
   "cell_type": "code",
   "execution_count": null,
   "metadata": {},
   "outputs": [],
   "source": [
    "# Use random.randint to generate a 2 x 4 array of integers\n",
    "# drawn from {5, 6, 7, 8}.\n",
    "\n",
    "print(np.random.randint(5, 9, size=(2, 4)))"
   ]
  },
  {
   "cell_type": "code",
   "execution_count": null,
   "metadata": {},
   "outputs": [],
   "source": [
    "# Use random.randn to generate an array of samples drawn\n",
    "# from the \"standard\" normal distribution.\n",
    "\n",
    "print(np.random.randn(3))"
   ]
  },
  {
   "cell_type": "code",
   "execution_count": null,
   "metadata": {},
   "outputs": [],
   "source": [
    "# Use random.normal to generate a sample drawn from a\n",
    "# normal distribution with ^ = 100, ~ = 15.\n",
    "\n",
    "print(np.random.normal(100, 15))"
   ]
  },
  {
   "cell_type": "markdown",
   "metadata": {},
   "source": [
    "### Sound Files"
   ]
  },
  {
   "cell_type": "code",
   "execution_count": null,
   "metadata": {},
   "outputs": [],
   "source": [
    "import numpy as np # Import linspace, sin\n",
    "import matplotlib.pyplot as plt # Import plotting functions\n",
    "from scipy.io import wavfile\n",
    "\n",
    "rate = 44100 # Number of samples/second\n",
    "end = 10 # The file is 10 seconds long\n",
    "time = np.linspace(0, end, rate*end+1) # Time intervals are 1/rate\n",
    "freq = 261.625565 # Frequency of \"middle C\"\n",
    "data = np.sin(2*np.pi*freq*time) # Generate the sine wave\n",
    "\n",
    "wavfile.write(\"data/middleC.wav\", rate, data) # Write the array to a WAV file\n",
    "\n",
    "plt.plot(time[:1000], data[:1000]) # Plot the first 1000 samples\n",
    "plt.show() # Finally, show the figure"
   ]
  },
  {
   "cell_type": "markdown",
   "metadata": {},
   "source": [
    "### Linear Programming"
   ]
  },
  {
   "cell_type": "code",
   "execution_count": null,
   "metadata": {},
   "outputs": [],
   "source": [
    "import numpy as np\n",
    "from scipy.optimize import linprog\n",
    "\n",
    "c = np.array([-2, -3]) # Negative coefficients of f(x)\n",
    "A_ub = np.array([[1, 1], [1, 2]]) # Matrix of the inequality coefficients\n",
    "b_ub = np.array([100, 160]) # Vector of the inequality upper bounds\n",
    "\n",
    "bounds = [(0, 80), (0, None)] # Each tuple is a (lower, upper) bound\n",
    "result = linprog(c, A_ub=A_ub, b_ub=b_ub, bounds=bounds)\n",
    "\n",
    "print(result.x) # The result \"x\" field holds the solution"
   ]
  },
  {
   "cell_type": "code",
   "execution_count": null,
   "metadata": {},
   "outputs": [],
   "source": [
    "%reload_ext watermark\n",
    "%watermark -a \"Caique Miranda\" -gu \"caiquemiranda\" -iv"
   ]
  },
  {
   "cell_type": "markdown",
   "metadata": {},
   "source": [
    "### End."
   ]
  }
 ],
 "metadata": {
  "kernelspec": {
   "display_name": "Python 3.10.5 64-bit",
   "language": "python",
   "name": "python3"
  },
  "language_info": {
   "codemirror_mode": {
    "name": "ipython",
    "version": 3
   },
   "file_extension": ".py",
   "mimetype": "text/x-python",
   "name": "python",
   "nbconvert_exporter": "python",
   "pygments_lexer": "ipython3",
   "version": "3.10.5"
  },
  "orig_nbformat": 4,
  "vscode": {
   "interpreter": {
    "hash": "74af3d2f25f1e46ebd2903d59225d79e4675ec224d56c01fc30cd168c2010d53"
   }
  }
 },
 "nbformat": 4,
 "nbformat_minor": 2
}
