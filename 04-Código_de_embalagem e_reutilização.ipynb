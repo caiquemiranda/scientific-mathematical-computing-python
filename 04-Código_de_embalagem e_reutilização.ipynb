{
 "cells": [
  {
   "attachments": {},
   "cell_type": "markdown",
   "metadata": {},
   "source": [
    "### Código de Embalagem e Reutilização"
   ]
  },
  {
   "attachments": {},
   "cell_type": "markdown",
   "metadata": {},
   "source": [
    "### Funções"
   ]
  },
  {
   "attachments": {},
   "cell_type": "markdown",
   "metadata": {},
   "source": [
    "As funções fornecem uma maneira de reutilizar um bloco de código, dando-lhe um nome. O código dentro da\n",
    "função pode então ser executado chamando o nome da função. O uso de funções torna o código mais\n",
    "compreensível e fácil de manter."
   ]
  },
  {
   "attachments": {},
   "cell_type": "markdown",
   "metadata": {},
   "source": [
    "-  Problemas complexos são melhor compreendidos quando divididos em etapas mais simples. Ao colocar o\n",
    "código para cada etapa em uma função bem nomeada, a estrutura geral da solução fica mais fácil de ver\n",
    "e entender.\n",
    "- Duplicar o código em dois ou mais locais torna o código mais longo e mais difícil de manter. Isso ocorre\n",
    "porque as alterações no código precisam ser feitas em cada local em que o código é duplicado, levando\n",
    "a problemas se o código não for mantido em sincronia. Colocar código duplicado em uma função que é\n",
    "chamada onde quer que o código seja necessário evita esse problema.\n",
    "- Variáveis definidas e usadas dentro de uma função só existem dentro da função. Dizem que são variáveis\n",
    "locais, em oposição às variáveis globais que podem ser acessadas em qualquer lugar. As variáveis locais\n",
    "permitem que o mesmo nome de variável seja usado com segurança em diferentes partes de um\n",
    "programa. Isso porque modificar a variável dentro da função apenas altera seu valor dentro da função,\n",
    "sem afetar o restante do programa.\n"
   ]
  },
  {
   "attachments": {},
   "cell_type": "markdown",
   "metadata": {},
   "source": [
    "As funções podem ser definidas com a opção de passar dados adicionais para serem usados dentro da função.\n",
    "As variáveis usadas para identificar esses dados adicionais são os parâmetros da função e os valores específicos\n",
    "passados quando a função é chamada são os argumentos da função. A instrução def é usada para definir funções em Python, com a sintaxe:"
   ]
  },
  {
   "attachments": {},
   "cell_type": "markdown",
   "metadata": {},
   "source": [
    "declaração definitiva"
   ]
  },
  {
   "cell_type": "code",
   "execution_count": 1,
   "metadata": {},
   "outputs": [],
   "source": [
    "# def <nome> (<parametros>):\n",
    "#   \"\"\"Documentação string\"\"\"\n",
    "# <codigo>"
   ]
  },
  {
   "attachments": {},
   "cell_type": "markdown",
   "metadata": {},
   "source": [
    "- As funções recebem uma lista de argumentos obrigatórios, identificados por posição.\n",
    "-  As funções podem receber argumentos de palavra-chave, identificados por nome. Eles também podem\n",
    "receber valores padrão na definição da função para usar se nenhum valor for passado.\n",
    "- As funções podem retornar um ou mais valores usando a instrução return . Observe que as funções não\n",
    "precisam retornar um valor - elas podem apenas executar alguma ação. Uma função para de executar\n",
    "assim que uma instrução de retorno é encontrada.\n",
    "- Uma string de documentação opcional pode ser adicionada no início da função (antes do código) para\n",
    "descrever o que a função faz. Essa string geralmente é colocada entre aspas triplas."
   ]
  },
  {
   "attachments": {},
   "cell_type": "markdown",
   "metadata": {},
   "source": [
    "Os argumentos para uma função podem ser especificados por posição, palavra-chave ou alguma combinação\n",
    "de ambos. Alguns exemplos usando apenas argumentos posicionais são os seguintes."
   ]
  },
  {
   "cell_type": "code",
   "execution_count": 2,
   "metadata": {},
   "outputs": [
    {
     "name": "stdout",
     "output_type": "stream",
     "text": [
      "9\n"
     ]
    }
   ],
   "source": [
    "# A função sai assim que a instrução return é chamada. \n",
    "# O valor após a instrução return é enviado de volta ao código que chamou a função.\n",
    "\n",
    "def square(x):\n",
    "    \n",
    "    return x**2\n",
    "\n",
    "print(square(3))"
   ]
  },
  {
   "cell_type": "code",
   "execution_count": 3,
   "metadata": {},
   "outputs": [],
   "source": [
    "# Parameters are bound to the function arguments in the order given. \n",
    "# The documentation string is placed after the colon and before the code.\n",
    "\n",
    "def multiply(x, y):\n",
    "    \n",
    "    \"\"\" Return the product xy \"\"\"\n",
    "    return x * y"
   ]
  },
  {
   "cell_type": "code",
   "execution_count": 4,
   "metadata": {},
   "outputs": [
    {
     "name": "stdout",
     "output_type": "stream",
     "text": [
      "(1, 9)\n"
     ]
    }
   ],
   "source": [
    "# multiple values are returned as a tuple\n",
    "\n",
    "def minmax(data):\n",
    "    \n",
    "    return min(data), max(data)\n",
    "\n",
    "print(minmax([1, 3, 4, 6, 8, 2, 4, 9]))"
   ]
  },
  {
   "cell_type": "code",
   "execution_count": 5,
   "metadata": {},
   "outputs": [],
   "source": [
    "# tolerance The tolerance argument is 0.1 by default.\n",
    "\n",
    "def close_enough(x, y, tolerance=.1):\n",
    "\n",
    "    return abs(x - y) <= tolerance"
   ]
  },
  {
   "cell_type": "code",
   "execution_count": 6,
   "metadata": {},
   "outputs": [
    {
     "data": {
      "text/plain": [
       "True"
      ]
     },
     "execution_count": 6,
     "metadata": {},
     "output_type": "execute_result"
    }
   ],
   "source": [
    "# The default tolerance of 0.1 is used in this case.\n",
    "\n",
    "close_enough(1, 1.05)"
   ]
  },
  {
   "cell_type": "code",
   "execution_count": 7,
   "metadata": {},
   "outputs": [
    {
     "data": {
      "text/plain": [
       "False"
      ]
     },
     "execution_count": 7,
     "metadata": {},
     "output_type": "execute_result"
    }
   ],
   "source": [
    "# The default tolerance is overridden by the value of 0.01.\n",
    "\n",
    "close_enough(1, 1.05, tolerance=.01)"
   ]
  },
  {
   "cell_type": "code",
   "execution_count": 8,
   "metadata": {},
   "outputs": [
    {
     "data": {
      "text/plain": [
       "321"
      ]
     },
     "execution_count": 8,
     "metadata": {},
     "output_type": "execute_result"
    }
   ],
   "source": [
    "# Defining a function to compute the polynomial:\n",
    "#  a0 + a1x + a2x2 + ...\n",
    "\n",
    "# The *coefficients argument can be a sequence of anynnlength. The function call here computes\n",
    "# 1 + 2 * 10 + 3 * 10^2\n",
    "\n",
    "def poly(x, *coefficients):\n",
    "    \"Evaluate a polynomial at value x\"\n",
    "\n",
    "    total = 0\n",
    "\n",
    "    for n, a in enumerate(coefficients):\n",
    "        total += a*(x**n)\n",
    "    \n",
    "    return total\n",
    "\n",
    "poly(10, 1, 2, 3)"
   ]
  },
  {
   "cell_type": "code",
   "execution_count": 9,
   "metadata": {},
   "outputs": [],
   "source": [
    "# lambda <arguments> : <code>"
   ]
  },
  {
   "cell_type": "code",
   "execution_count": 10,
   "metadata": {},
   "outputs": [
    {
     "data": {
      "text/plain": [
       "[(18, 'Sheila'), (21, 'Bianca'), (98, 'Adam')]"
      ]
     },
     "execution_count": 10,
     "metadata": {},
     "output_type": "execute_result"
    }
   ],
   "source": [
    "# The key argument to sorted lets us sort the data based on the first list. \n",
    "# Using a lambda function avoids having to define and name a separate function for this simple task.\n",
    "\n",
    "ages = [21, 18, 98]\n",
    "names = ['Bianca', 'Sheila', 'Adam']\n",
    "data = zip(ages, names)\n",
    "\n",
    "sorted(data, key=lambda x: x[0])"
   ]
  },
  {
   "cell_type": "markdown",
   "metadata": {},
   "source": [
    "### Modules"
   ]
  },
  {
   "cell_type": "code",
   "execution_count": 11,
   "metadata": {},
   "outputs": [
    {
     "name": "stdout",
     "output_type": "stream",
     "text": [
      "3.141592653589793\n"
     ]
    }
   ],
   "source": [
    "# pi is now a variable name that we can use, but not the rest of the math module.\n",
    "\n",
    "from math import pi\n",
    "print(pi)"
   ]
  },
  {
   "cell_type": "code",
   "execution_count": 12,
   "metadata": {},
   "outputs": [
    {
     "name": "stdout",
     "output_type": "stream",
     "text": [
      "2.718281828459045\n"
     ]
    }
   ],
   "source": [
    "# Everything in the math module is now available.\n",
    "\n",
    "from math import *\n",
    "print(e)"
   ]
  },
  {
   "cell_type": "code",
   "execution_count": 13,
   "metadata": {},
   "outputs": [
    {
     "name": "stdout",
     "output_type": "stream",
     "text": [
      "1.5707963267948966\n"
     ]
    }
   ],
   "source": [
    "# Everything in numpy can be used, prefaced by \"numpy\".\n",
    "\n",
    "import numpy\n",
    "print(numpy.arcsin(1))"
   ]
  },
  {
   "cell_type": "code",
   "execution_count": 14,
   "metadata": {},
   "outputs": [
    {
     "name": "stdout",
     "output_type": "stream",
     "text": [
      "1.0\n"
     ]
    }
   ],
   "source": [
    "# Everything in numpy can be used, prefaced by the alias \"np\".\n",
    "\n",
    "import numpy as np\n",
    "print(np.cos(0))"
   ]
  },
  {
   "cell_type": "code",
   "execution_count": 15,
   "metadata": {},
   "outputs": [
    {
     "name": "stdout",
     "output_type": "stream",
     "text": [
      "['__doc__', '__loader__', '__name__', '__package__', '__spec__', 'acos', 'acosh', 'asin', 'asinh', 'atan', 'atan2', 'atanh', 'ceil', 'comb', 'copysign', 'cos', 'cosh', 'degrees', 'dist', 'e', 'erf', 'erfc', 'exp', 'expm1', 'fabs', 'factorial', 'floor', 'fmod', 'frexp', 'fsum', 'gamma', 'gcd', 'hypot', 'inf', 'isclose', 'isfinite', 'isinf', 'isnan', 'isqrt', 'lcm', 'ldexp', 'lgamma', 'log', 'log10', 'log1p', 'log2', 'modf', 'nan', 'nextafter', 'perm', 'pi', 'pow', 'prod', 'radians', 'remainder', 'sin', 'sinh', 'sqrt', 'tan', 'tanh', 'tau', 'trunc', 'ulp']\n"
     ]
    }
   ],
   "source": [
    "# The math module contains all the standard mathematical functions, as well as the constants \"e\" and \"pi\".\n",
    "\n",
    "import math\n",
    "print(dir(math))"
   ]
  },
  {
   "cell_type": "markdown",
   "metadata": {},
   "source": [
    "### Comprehensions"
   ]
  },
  {
   "cell_type": "code",
   "execution_count": 16,
   "metadata": {},
   "outputs": [],
   "source": [
    "# list comprehension\n",
    "# [<expression> for <variables> in <iterable> if <condition>]"
   ]
  },
  {
   "cell_type": "code",
   "execution_count": 17,
   "metadata": {},
   "outputs": [
    {
     "data": {
      "text/plain": [
       "[0, 1, 4, 9, 16]"
      ]
     },
     "execution_count": 17,
     "metadata": {},
     "output_type": "execute_result"
    }
   ],
   "source": [
    "# i**2 is evaluated for every item i in the list.\n",
    "\n",
    "[i**2 for i in range(5)]"
   ]
  },
  {
   "cell_type": "code",
   "execution_count": 18,
   "metadata": {},
   "outputs": [
    {
     "data": {
      "text/plain": [
       "[1, 2, 3, 6]"
      ]
     },
     "execution_count": 18,
     "metadata": {},
     "output_type": "execute_result"
    }
   ],
   "source": [
    "# Divisors of 6 - only elements passing the test 6 % d == 0 are included.\n",
    "\n",
    "[d for d in range(1, 7) if 6 % d == 0]"
   ]
  },
  {
   "cell_type": "code",
   "execution_count": 19,
   "metadata": {},
   "outputs": [],
   "source": [
    "# Dictionary comprehension\n",
    "# {<key>:<value> for <variables> in <iterable> if <condition>}"
   ]
  },
  {
   "cell_type": "code",
   "execution_count": 20,
   "metadata": {},
   "outputs": [
    {
     "data": {
      "text/plain": [
       "{0: 0, 1: 1, 2: 4, 3: 9}"
      ]
     },
     "execution_count": 20,
     "metadata": {},
     "output_type": "execute_result"
    }
   ],
   "source": [
    "# Create a dictionary from a sequence of integers. \n",
    "# Note the key:value pairs and surrounding curly brackets.\n",
    "\n",
    "{i: i**2 for i in range(4)}"
   ]
  },
  {
   "cell_type": "markdown",
   "metadata": {},
   "source": [
    "### Generator Expressions"
   ]
  },
  {
   "cell_type": "code",
   "execution_count": 21,
   "metadata": {},
   "outputs": [],
   "source": [
    "# Generator expression\n",
    "# (<expression> for <variables> in <iterable> if <condition>)"
   ]
  },
  {
   "cell_type": "code",
   "execution_count": 22,
   "metadata": {},
   "outputs": [
    {
     "name": "stdout",
     "output_type": "stream",
     "text": [
      "1\n",
      "4\n",
      "9\n"
     ]
    }
   ],
   "source": [
    "# The elements of squares are generated as needed, \n",
    "# not generated and saved in advance.\n",
    "\n",
    "squares = (i ** 2 for i in range(1, 4))\n",
    "\n",
    "for s in squares:\n",
    "    print(s)"
   ]
  },
  {
   "cell_type": "markdown",
   "metadata": {},
   "source": [
    "### Comments"
   ]
  },
  {
   "cell_type": "code",
   "execution_count": 23,
   "metadata": {},
   "outputs": [],
   "source": [
    "# No need to comment a comment\n",
    "\n",
    "# This is a single-line comment"
   ]
  },
  {
   "cell_type": "code",
   "execution_count": 24,
   "metadata": {},
   "outputs": [
    {
     "data": {
      "text/plain": [
       "'This is a documentation string'"
      ]
     },
     "execution_count": 24,
     "metadata": {},
     "output_type": "execute_result"
    }
   ],
   "source": [
    "\"\"\"This is a documentation string\"\"\""
   ]
  },
  {
   "cell_type": "code",
   "execution_count": 25,
   "metadata": {},
   "outputs": [
    {
     "name": "stdout",
     "output_type": "stream",
     "text": [
      "Author: Caique Miranda\n",
      "\n",
      "Github username: caiquemiranda\n",
      "\n",
      "sys  : 3.10.5 (tags/v3.10.5:f377153, Jun  6 2022, 16:14:13) [MSC v.1929 64 bit (AMD64)]\n",
      "numpy: 1.23.0\n",
      "\n"
     ]
    }
   ],
   "source": [
    "%reload_ext watermark\n",
    "%watermark -a \"Caique Miranda\" -gu \"caiquemiranda\" -iv"
   ]
  },
  {
   "cell_type": "markdown",
   "metadata": {},
   "source": [
    "### End."
   ]
  }
 ],
 "metadata": {
  "kernelspec": {
   "display_name": "Python 3.10.5 64-bit",
   "language": "python",
   "name": "python3"
  },
  "language_info": {
   "codemirror_mode": {
    "name": "ipython",
    "version": 3
   },
   "file_extension": ".py",
   "mimetype": "text/x-python",
   "name": "python",
   "nbconvert_exporter": "python",
   "pygments_lexer": "ipython3",
   "version": "3.10.5"
  },
  "orig_nbformat": 4,
  "vscode": {
   "interpreter": {
    "hash": "74af3d2f25f1e46ebd2903d59225d79e4675ec224d56c01fc30cd168c2010d53"
   }
  }
 },
 "nbformat": 4,
 "nbformat_minor": 2
}
