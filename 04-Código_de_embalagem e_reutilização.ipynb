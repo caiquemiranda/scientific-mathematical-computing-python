{
 "cells": [
  {
   "attachments": {},
   "cell_type": "markdown",
   "metadata": {},
   "source": [
    "### Código de Embalagem e Reutilização"
   ]
  },
  {
   "attachments": {},
   "cell_type": "markdown",
   "metadata": {},
   "source": [
    "### Funções"
   ]
  },
  {
   "attachments": {},
   "cell_type": "markdown",
   "metadata": {},
   "source": [
    "As funções fornecem uma maneira de reutilizar um bloco de código, dando-lhe um nome. O código dentro da\n",
    "função pode então ser executado chamando o nome da função. O uso de funções torna o código mais\n",
    "compreensível e fácil de manter."
   ]
  },
  {
   "attachments": {},
   "cell_type": "markdown",
   "metadata": {},
   "source": [
    "-  Problemas complexos são melhor compreendidos quando divididos em etapas mais simples. Ao colocar o\n",
    "código para cada etapa em uma função bem nomeada, a estrutura geral da solução fica mais fácil de ver\n",
    "e entender.\n",
    "- Duplicar o código em dois ou mais locais torna o código mais longo e mais difícil de manter. Isso ocorre\n",
    "porque as alterações no código precisam ser feitas em cada local em que o código é duplicado, levando\n",
    "a problemas se o código não for mantido em sincronia. Colocar código duplicado em uma função que é\n",
    "chamada onde quer que o código seja necessário evita esse problema.\n",
    "- Variáveis definidas e usadas dentro de uma função só existem dentro da função. Dizem que são variáveis\n",
    "locais, em oposição às variáveis globais que podem ser acessadas em qualquer lugar. As variáveis locais\n",
    "permitem que o mesmo nome de variável seja usado com segurança em diferentes partes de um\n",
    "programa. Isso porque modificar a variável dentro da função apenas altera seu valor dentro da função,\n",
    "sem afetar o restante do programa.\n"
   ]
  },
  {
   "attachments": {},
   "cell_type": "markdown",
   "metadata": {},
   "source": [
    "As funções podem ser definidas com a opção de passar dados adicionais para serem usados dentro da função.\n",
    "As variáveis usadas para identificar esses dados adicionais são os parâmetros da função e os valores específicos\n",
    "passados quando a função é chamada são os argumentos da função. A instrução def é usada para definir funções em Python, com a sintaxe:"
   ]
  },
  {
   "attachments": {},
   "cell_type": "markdown",
   "metadata": {},
   "source": [
    "declaração definitiva"
   ]
  },
  {
   "cell_type": "code",
   "execution_count": null,
   "metadata": {},
   "outputs": [],
   "source": [
    "# def <nome> (<parametros>):\n",
    "#   \"\"\"Documentação string\"\"\"\n",
    "# <codigo>"
   ]
  },
  {
   "attachments": {},
   "cell_type": "markdown",
   "metadata": {},
   "source": [
    "- As funções recebem uma lista de argumentos obrigatórios, identificados por posição.\n",
    "-  As funções podem receber argumentos de palavra-chave, identificados por nome. Eles também podem\n",
    "receber valores padrão na definição da função para usar se nenhum valor for passado.\n",
    "- As funções podem retornar um ou mais valores usando a instrução return . Observe que as funções não\n",
    "precisam retornar um valor - elas podem apenas executar alguma ação. Uma função para de executar\n",
    "assim que uma instrução de retorno é encontrada.\n",
    "- Uma string de documentação opcional pode ser adicionada no início da função (antes do código) para\n",
    "descrever o que a função faz. Essa string geralmente é colocada entre aspas triplas."
   ]
  },
  {
   "attachments": {},
   "cell_type": "markdown",
   "metadata": {},
   "source": [
    "Os argumentos para uma função podem ser especificados por posição, palavra-chave ou alguma combinação\n",
    "de ambos. Alguns exemplos usando apenas argumentos posicionais são os seguintes."
   ]
  },
  {
   "cell_type": "code",
   "execution_count": null,
   "metadata": {},
   "outputs": [],
   "source": [
    "# A função sai assim que a instrução return é chamada. \n",
    "# O valor após a instrução return é enviado de volta ao código que chamou a função.\n",
    "\n",
    "def square(x):\n",
    "    \n",
    "    return x**2\n",
    "\n",
    "print(square(3))"
   ]
  },
  {
   "cell_type": "code",
   "execution_count": null,
   "metadata": {},
   "outputs": [],
   "source": [
    "# Os parâmetros são vinculados aos argumentos da função na ordem fornecida. \n",
    "# A string de documentação é colocada após os dois pontos e antes do código.\n",
    "\n",
    "def multiply(x, y):\n",
    "    \n",
    "    \"\"\" Retorne o produto xy \"\"\"\n",
    "    return x * y"
   ]
  },
  {
   "cell_type": "code",
   "execution_count": null,
   "metadata": {},
   "outputs": [],
   "source": [
    "# Vários valores são retornados como uma tupla.\n",
    "\n",
    "def minmax(data):\n",
    "    \n",
    "    return min(data), max(data)\n",
    "\n",
    "print(minmax([1, 3, 4, 6, 8, 2, 4, 9]))"
   ]
  },
  {
   "attachments": {},
   "cell_type": "markdown",
   "metadata": {},
   "source": [
    "O uso de argumentos de palavra-chave permite que valores padrão sejam atribuídos. Isso é particularmente\n",
    "útil quando uma função pode ser chamada com muitas opções diferentes e evita ter que chamar funções com\n",
    "uma longa lista de argumentos."
   ]
  },
  {
   "attachments": {},
   "cell_type": "markdown",
   "metadata": {},
   "source": [
    "- Os argumentos de palavras-chave são especificados usando key=default no lugar de um argumento posicional mento $$$\n",
    "- Usar palavras-chave em vez de argumentos posicionais significa que não precisamos lembrar a ordem\n",
    "dos argumentos e permite que os padrões sejam usados na maioria das vezes.\n",
    "- Argumentos posicionais e palavras-chave podem ser usados na mesma função, desde que o argumentos posicionais vêm primeiro."
   ]
  },
  {
   "cell_type": "code",
   "execution_count": null,
   "metadata": {},
   "outputs": [],
   "source": [
    "# O argumento de tolerância é 0,1 por padrão.\n",
    "\n",
    "def close_enough(x, y, tolerance=.1):\n",
    "\n",
    "    return abs(x - y) <= tolerance"
   ]
  },
  {
   "cell_type": "code",
   "execution_count": null,
   "metadata": {},
   "outputs": [],
   "source": [
    "# A tolerância padrão de 0,1 é usada neste caso.\n",
    "\n",
    "close_enough(1, 1.05)"
   ]
  },
  {
   "cell_type": "code",
   "execution_count": null,
   "metadata": {},
   "outputs": [],
   "source": [
    "# A tolerância padrão é substituída pelo valor de 0,01.\n",
    "\n",
    "close_enough(1, 1.05, tolerance=.01)"
   ]
  },
  {
   "attachments": {},
   "cell_type": "markdown",
   "metadata": {},
   "source": [
    "Se o número de argumentos não for conhecido antecipadamente, as funções podem ser definidas para\n",
    "receber um número variável de argumentos posicionais e/ou um número variável de argumentos de palavra-chave. É improvável que estejamos usando essas opções, embora elas ocorram com frequência na documentação\n",
    "do Matplotlib."
   ]
  },
  {
   "attachments": {},
   "cell_type": "markdown",
   "metadata": {},
   "source": [
    "- Os argumentos posicionais são especificados como *args e estão disponíveis como uma tupla. Em\n",
    "argumentos posicionais individuais podem ser acessados por indexação na tupla por posição.\n",
    "- Os argumentos de palavra-chave são especificados como **kwargs e estão disponíveis como um dicionário. Argumentos de palavras-chave individuais podem ser acessados indexando neste dicionário por\n",
    "chave."
   ]
  },
  {
   "attachments": {},
   "cell_type": "markdown",
   "metadata": {},
   "source": [
    "Um exemplo usando um número variável de argumentos posicionais é dado abaixo."
   ]
  },
  {
   "cell_type": "code",
   "execution_count": null,
   "metadata": {},
   "outputs": [],
   "source": [
    "# Definindo uma função para calcular o polinômio\n",
    "#  a0 + a1x + a2x2 + ...\n",
    "\n",
    "# O argumento *coeficientes pode ser uma sequência de qualquer comprimento. \n",
    "# A chamada de função aqui calcula\n",
    "# 1 + 2 * 10 + 3 * 10^2\n",
    "\n",
    "def poly(x, *coefficients):\n",
    "    \"Avalie um polinômio no valor x\"\n",
    "\n",
    "    total = 0\n",
    "\n",
    "    for n, a in enumerate(coefficients):\n",
    "        total += a*(x**n)\n",
    "    \n",
    "    return total\n",
    "\n",
    "poly(10, 1, 2, 3)"
   ]
  },
  {
   "attachments": {},
   "cell_type": "markdown",
   "metadata": {},
   "source": [
    "Ocasionalmente, podemos precisar de uma função simples que será usada apenas em um único local e\n",
    "não desejar definir e nomear uma função separada para essa finalidade. Nesse caso, podemos definir\n",
    "uma função anônima ou lambda apenas no local onde ela é necessária. A sintaxe para uma função lamba é:"
   ]
  },
  {
   "attachments": {},
   "cell_type": "markdown",
   "metadata": {},
   "source": [
    "declaração lambda"
   ]
  },
  {
   "cell_type": "code",
   "execution_count": null,
   "metadata": {},
   "outputs": [],
   "source": [
    "# lambda <argumentos> : <código>"
   ]
  },
  {
   "attachments": {},
   "cell_type": "markdown",
   "metadata": {},
   "source": [
    "A instrução lambda retorna uma função sem nome que recebe os argumentos fornecidos antes dos dois\n",
    "pontos e retorna o resultado da execução do código após os dois pontos. Usos típicos para funções\n",
    "lambda são onde uma função precisa ser passada como um argumento para uma função diferente. "
   ]
  },
  {
   "cell_type": "code",
   "execution_count": null,
   "metadata": {},
   "outputs": [],
   "source": [
    "# O argumento chave para sorted nos permite classificar os dados com base na primeira lista.\n",
    "# Usar uma função lambda evita ter que definir e nomear uma função separada para esta tarefa simples.\n",
    "\n",
    "idades = [21, 18, 98]\n",
    "nomes = ['Bianca', 'Sheila', 'Adam']\n",
    "data = zip(idades, nomes)\n",
    "\n",
    "sorted(data, key=lambda x: x[0])"
   ]
  },
  {
   "attachments": {},
   "cell_type": "markdown",
   "metadata": {},
   "source": [
    "#### Módulos"
   ]
  },
  {
   "attachments": {},
   "cell_type": "markdown",
   "metadata": {},
   "source": [
    "Um módulo é um arquivo contendo definições e instruções do Python. Isso nos permite usar o código\n",
    "criado por outros desenvolvedores e ampliar muito o que podemos fazer com o Python. Como muitos módulos diferentes estão disponíveis, é possível que os mesmos nomes sejam usados\n",
    "por diferentes desenvolvedores. Portanto, precisamos de uma maneira de identificar de qual módulo\n",
    "uma determinada variável ou função veio."
   ]
  },
  {
   "attachments": {},
   "cell_type": "markdown",
   "metadata": {},
   "source": [
    "A instrução import é usada para tornar as variáveis e funções em um módulo disponíveis para uso. Nós\n",
    "podemos:"
   ]
  },
  {
   "attachments": {},
   "cell_type": "markdown",
   "metadata": {},
   "source": [
    "- Importe tudo de um módulo para uso imediato.\n",
    "- Importar apenas determinadas variáveis e funções nomeadas de um módulo.\n",
    "- Importe tudo de um módulo, mas exija que os nomes das variáveis e funções sejam prefaciado pelo nome do módulo ou algum alias."
   ]
  },
  {
   "cell_type": "code",
   "execution_count": null,
   "metadata": {},
   "outputs": [],
   "source": [
    "# pi agora é um nome de variável que podemos usar, mas não o resto do módulo math.\n",
    "\n",
    "from math import pi\n",
    "print(pi)"
   ]
  },
  {
   "cell_type": "code",
   "execution_count": null,
   "metadata": {},
   "outputs": [],
   "source": [
    "# Tudo no módulo de matemática está agora disponível.\n",
    "\n",
    "from math import *\n",
    "print(e)"
   ]
  },
  {
   "cell_type": "code",
   "execution_count": null,
   "metadata": {},
   "outputs": [],
   "source": [
    "# Tudo em numpy pode ser usado, precedido por ”numpy”.\n",
    "\n",
    "import numpy\n",
    "print(numpy.arcsin(1))"
   ]
  },
  {
   "cell_type": "code",
   "execution_count": null,
   "metadata": {},
   "outputs": [],
   "source": [
    "# Tudo em numpy pode ser usado, prefaciado pelo alias “np”.\n",
    "\n",
    "import numpy as np\n",
    "print(np.cos(0))"
   ]
  },
  {
   "cell_type": "code",
   "execution_count": null,
   "metadata": {},
   "outputs": [],
   "source": [
    "# O módulo math contém todas as funções matemáticas padrão, \n",
    "# bem como as constantes ”e” e ”pi”.\n",
    "\n",
    "import math\n",
    "print(dir(math))"
   ]
  },
  {
   "attachments": {},
   "cell_type": "markdown",
   "metadata": {},
   "source": [
    "#### Compreensões"
   ]
  },
  {
   "attachments": {},
   "cell_type": "markdown",
   "metadata": {},
   "source": [
    "Freqüentemente, queremos criar um contêiner modificando e filtrando os elementos de alguma outra\n",
    "sequência. As compreensões fornecem uma maneira elegante de fazer isso, semelhante à notação\n",
    "matemática do construtor de conjuntos. Para compreensões de lista, a sintaxe é:"
   ]
  },
  {
   "cell_type": "code",
   "execution_count": null,
   "metadata": {},
   "outputs": [],
   "source": [
    "# list comprehension\n",
    "# [<expressão> for <variáveis> in <iterável> if <condição>]"
   ]
  },
  {
   "attachments": {},
   "cell_type": "markdown",
   "metadata": {},
   "source": [
    "O código na expressão é avaliado para cada item no contêiner e o resultado se torna um\n",
    "elemento da nova lista. A condição não precisa estar presente, mas, se estiver, apenas\n",
    "elementos que satisfaçam a condição serão incorporados à nova lista."
   ]
  },
  {
   "cell_type": "code",
   "execution_count": null,
   "metadata": {},
   "outputs": [],
   "source": [
    "# **2 é avaliado para cada item i da lista.\n",
    "\n",
    "[i**2 for i in range(5)]"
   ]
  },
  {
   "cell_type": "code",
   "execution_count": null,
   "metadata": {},
   "outputs": [],
   "source": [
    "# Divisores de 6 - apenas os elementos que passam no teste 6 % d == 0 são incluídos.\n",
    "\n",
    "[d for d in range(1, 7) if 6 % d == 0]"
   ]
  },
  {
   "attachments": {},
   "cell_type": "markdown",
   "metadata": {},
   "source": [
    "Também podemos usar uma compreensão de dicionário para criar um dicionário sem precisar adicionar\n",
    "repetidamente pares chave:valor."
   ]
  },
  {
   "cell_type": "code",
   "execution_count": null,
   "metadata": {},
   "outputs": [],
   "source": [
    "# Dictionary comprehension\n",
    "# {<chave>:<valor> for <variáveis> in <iterável> if <condição>}"
   ]
  },
  {
   "cell_type": "code",
   "execution_count": null,
   "metadata": {},
   "outputs": [],
   "source": [
    "# Crie um dicionário a partir de uma sequência de inteiros. \n",
    "# Observe os pares chave:valor e os colchetes.\n",
    "\n",
    "{i: i**2 for i in range(4)}"
   ]
  },
  {
   "cell_type": "markdown",
   "metadata": {},
   "source": [
    "### Generator Expressions"
   ]
  },
  {
   "cell_type": "code",
   "execution_count": null,
   "metadata": {},
   "outputs": [],
   "source": [
    "# Generator expression\n",
    "# (<expression> for <variables> in <iterable> if <condition>)"
   ]
  },
  {
   "cell_type": "code",
   "execution_count": null,
   "metadata": {},
   "outputs": [],
   "source": [
    "# The elements of squares are generated as needed, \n",
    "# not generated and saved in advance.\n",
    "\n",
    "squares = (i ** 2 for i in range(1, 4))\n",
    "\n",
    "for s in squares:\n",
    "    print(s)"
   ]
  },
  {
   "cell_type": "markdown",
   "metadata": {},
   "source": [
    "### Comments"
   ]
  },
  {
   "cell_type": "code",
   "execution_count": null,
   "metadata": {},
   "outputs": [],
   "source": [
    "# No need to comment a comment\n",
    "\n",
    "# This is a single-line comment"
   ]
  },
  {
   "cell_type": "code",
   "execution_count": null,
   "metadata": {},
   "outputs": [],
   "source": [
    "\"\"\"This is a documentation string\"\"\""
   ]
  },
  {
   "cell_type": "code",
   "execution_count": null,
   "metadata": {},
   "outputs": [],
   "source": [
    "%reload_ext watermark\n",
    "%watermark -a \"Caique Miranda\" -gu \"caiquemiranda\" -iv"
   ]
  },
  {
   "cell_type": "markdown",
   "metadata": {},
   "source": [
    "### End."
   ]
  }
 ],
 "metadata": {
  "kernelspec": {
   "display_name": "Python 3.10.5 64-bit",
   "language": "python",
   "name": "python3"
  },
  "language_info": {
   "codemirror_mode": {
    "name": "ipython",
    "version": 3
   },
   "file_extension": ".py",
   "mimetype": "text/x-python",
   "name": "python",
   "nbconvert_exporter": "python",
   "pygments_lexer": "ipython3",
   "version": "3.10.5"
  },
  "orig_nbformat": 4,
  "vscode": {
   "interpreter": {
    "hash": "74af3d2f25f1e46ebd2903d59225d79e4675ec224d56c01fc30cd168c2010d53"
   }
  }
 },
 "nbformat": 4,
 "nbformat_minor": 2
}
