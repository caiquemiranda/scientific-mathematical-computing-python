{
 "cells": [
  {
   "attachments": {},
   "cell_type": "markdown",
   "metadata": {},
   "source": [
    "### Controlando o fluxo"
   ]
  },
  {
   "attachments": {},
   "cell_type": "markdown",
   "metadata": {},
   "source": [
    "#### Expressões Booleanas"
   ]
  },
  {
   "attachments": {},
   "cell_type": "markdown",
   "metadata": {},
   "source": [
    "Expressões booleanas são declarações avaliadas como Verdadeiro ou Falso. Um uso importante dessas\n",
    "expressões é para testes em código condicional que só executa se alguma condição for atendida. Exemplos de\n",
    "expressões booleanas incluem os operadores de comparação padrão abaixo."
   ]
  },
  {
   "cell_type": "code",
   "execution_count": null,
   "metadata": {},
   "outputs": [],
   "source": [
    "# Verifique a igualdade.\n",
    "\n",
    "5 == 5"
   ]
  },
  {
   "cell_type": "code",
   "execution_count": null,
   "metadata": {},
   "outputs": [],
   "source": [
    "# Verifique a desigualdade.\n",
    "\n",
    "5 != 5 "
   ]
  },
  {
   "cell_type": "code",
   "execution_count": null,
   "metadata": {},
   "outputs": [],
   "source": [
    "# Menor que.\n",
    "\n",
    "3 < 2"
   ]
  },
  {
   "cell_type": "code",
   "execution_count": null,
   "metadata": {},
   "outputs": [],
   "source": [
    "# Menor ou igual,\n",
    "\n",
    "3 <= 3"
   ]
  },
  {
   "cell_type": "code",
   "execution_count": null,
   "metadata": {},
   "outputs": [],
   "source": [
    "# Strings são comparadas por ordem lexicográfica (dicionário).\n",
    "\n",
    "'a' < 'b'"
   ]
  },
  {
   "attachments": {},
   "cell_type": "markdown",
   "metadata": {},
   "source": [
    "Observe que qualquer contêiner vazio é avaliado como Falso em uma expressão booleana. Os exemplos\n",
    "incluem strings vazias (“”), listas ([]) e dicionários ({})."
   ]
  },
  {
   "attachments": {},
   "cell_type": "markdown",
   "metadata": {},
   "source": [
    "#### Declarações `if()`"
   ]
  },
  {
   "attachments": {},
   "cell_type": "markdown",
   "metadata": {},
   "source": [
    "As instruções if do Python fornecem uma maneira de executar um bloco de código somente se alguma condição for Verdadeiro."
   ]
  },
  {
   "attachments": {},
   "cell_type": "markdown",
   "metadata": {},
   "source": [
    "declaração if"
   ]
  },
  {
   "cell_type": "code",
   "execution_count": null,
   "metadata": {},
   "outputs": [],
   "source": [
    "# if <condição>:\n",
    "#   <código a ser executado quando a condição for verdadeira>\n",
    "# <código a seguir>"
   ]
  },
  {
   "attachments": {},
   "cell_type": "markdown",
   "metadata": {},
   "source": [
    "Observe que:\n",
    "\n",
    "- condição é uma expressão booleana, que deve ser avaliada como True ou False.\n",
    "- condição deve ser seguida de dois pontos, :.\n",
    "- O bloco de código a ser executado se a condição for True começa na próxima linha e deve ser recuado.\n",
    "- A convenção em Python é que os blocos de código são recuados com 4 espaços.\n",
    "- O bloco de código a ser executado é finalizado desidentando de volta ao nível anterior."
   ]
  },
  {
   "cell_type": "code",
   "execution_count": null,
   "metadata": {},
   "outputs": [],
   "source": [
    "# O bloco de código que segue a instrução if só é executado se a condição for atendida.\n",
    "\n",
    "from math import *\n",
    "\n",
    "if pi > e:\n",
    "    print(\"Pi é o maior que e!\")"
   ]
  },
  {
   "attachments": {},
   "cell_type": "markdown",
   "metadata": {},
   "source": [
    "Uma instrução else pode ser adicionada após a conclusão de uma instrução if . Isso será seguido pelo\n",
    "código a ser executado se a condição for False."
   ]
  },
  {
   "attachments": {},
   "cell_type": "markdown",
   "metadata": {},
   "source": [
    "declaração if-else"
   ]
  },
  {
   "cell_type": "code",
   "execution_count": null,
   "metadata": {},
   "outputs": [],
   "source": [
    "# if <condição>:\n",
    "#   <código a ser executado quando a condição for verdadeira>\n",
    "# else:\n",
    "#    <código para executar quando condição False>\n",
    "#<código a seguir>    "
   ]
  },
  {
   "attachments": {},
   "cell_type": "markdown",
   "metadata": {},
   "source": [
    "O exemplo a seguir ilustra uma instrução if-else."
   ]
  },
  {
   "cell_type": "code",
   "execution_count": null,
   "metadata": {},
   "outputs": [],
   "source": [
    "# O bloco de código que segue a instrução else é executado se a condição não for atendida.\n",
    "\n",
    "x, y = 2**3, 3**2\n",
    "if x < y:\n",
    "    print(\"x < y\")\n",
    "else:\n",
    "    print(\"x >= y\")"
   ]
  },
  {
   "attachments": {},
   "cell_type": "markdown",
   "metadata": {},
   "source": [
    "Várias instruções elif (abreviação de else-if) podem ser adicionadas para criar uma série de condições que são\n",
    "testadas sucessivamente até que uma seja bem-sucedida. Cada elif também deve ser seguido por uma\n",
    "condição e dois pontos."
   ]
  },
  {
   "attachments": {},
   "cell_type": "markdown",
   "metadata": {},
   "source": [
    "declaração elif"
   ]
  },
  {
   "cell_type": "code",
   "execution_count": null,
   "metadata": {},
   "outputs": [],
   "source": [
    "# se <condição 1>:\n",
    "#   <código a ser executado quando a condição 1 for verdadeira>\n",
    "# elif <condição 2>: \n",
    "#   <código a ser executado quando a condição 2 for verdadeira>\n",
    "# else:\n",
    "#   <código a ser executado se nenhuma condição for verdadeira> \n",
    "# <código a seguir>"
   ]
  },
  {
   "attachments": {},
   "cell_type": "markdown",
   "metadata": {},
   "source": [
    "O exemplo a seguir ilustra uma série de condições sendo testadas."
   ]
  },
  {
   "cell_type": "code",
   "execution_count": null,
   "metadata": {},
   "outputs": [],
   "source": [
    "# Apenas as duas primeiras condições são testadas - as demais são ignoradas, pois a segunda condição é True.\n",
    "\n",
    "pontuação = 88\n",
    "\n",
    "if pontuação >= 90:\n",
    "    print(\"A\")\n",
    "\n",
    "elif pontuação >= 80:    \n",
    "    print(\"B\")\n",
    "\n",
    "elif pontuação >= 70:\n",
    "    print(\"C\")\n",
    "\n",
    "elif pontuação >= 60:\n",
    "    print(\"D\")\n",
    "\n",
    "else:\n",
    "    print(\"F\")"
   ]
  },
  {
   "attachments": {},
   "cell_type": "markdown",
   "metadata": {},
   "source": [
    "#### Expressões Condicionais"
   ]
  },
  {
   "attachments": {},
   "cell_type": "markdown",
   "metadata": {},
   "source": [
    "Muitas vezes, queremos atribuir a um nome de variável algum valor se uma condição for True e outro valor\n",
    "se uma condição for False. Usando uma instrução if , teríamos:"
   ]
  },
  {
   "cell_type": "code",
   "execution_count": null,
   "metadata": {},
   "outputs": [],
   "source": [
    "# if <condição>:\n",
    "#    x = <valor_verdadeiro>\n",
    "# else:\n",
    "#   x = <valor_falso>"
   ]
  },
  {
   "attachments": {},
   "cell_type": "markdown",
   "metadata": {},
   "source": [
    "Python fornece uma maneira elegante de fazer a mesma coisa em uma única linha usando uma expressão\n",
    "condicional."
   ]
  },
  {
   "attachments": {},
   "cell_type": "markdown",
   "metadata": {},
   "source": [
    "expressão condicional"
   ]
  },
  {
   "cell_type": "code",
   "execution_count": null,
   "metadata": {},
   "outputs": [],
   "source": [
    "# x = <valor_verdadeiro> if <condição> else <valor_falso>"
   ]
  },
  {
   "attachments": {},
   "cell_type": "markdown",
   "metadata": {},
   "source": [
    "Um exemplo é dado abaixo."
   ]
  },
  {
   "cell_type": "code",
   "execution_count": null,
   "metadata": {},
   "outputs": [],
   "source": [
    "# Observe que x % 2 retorna o restante quando x é dividido por 2. Qualquer valor diferente de zero é avaliado como True.\n",
    "\n",
    "x = 22\n",
    "paridade = \"impar\" if x % 2 else \"par\"\n",
    "print(x, \"tem\", paridade, \"paridade\")"
   ]
  },
  {
   "attachments": {},
   "cell_type": "markdown",
   "metadata": {},
   "source": [
    "#### `for()` Loops"
   ]
  },
  {
   "attachments": {},
   "cell_type": "markdown",
   "metadata": {},
   "source": [
    "loop for:"
   ]
  },
  {
   "cell_type": "code",
   "execution_count": null,
   "metadata": {},
   "outputs": [],
   "source": [
    "# for <variável(is) de iteração> em <iterável>:\n",
    "#   <código a ser executado a cada vez>\n",
    "# <código a seguir>"
   ]
  },
  {
   "attachments": {},
   "cell_type": "markdown",
   "metadata": {},
   "source": [
    "Observe que:\n",
    "\n",
    "- A instrução for deve ser seguida por dois pontos, :.\n",
    "- Uma ou mais variáveis de iteração são vinculadas aos valores iteráveis em sucessivas passa pelo laço.\n",
    "- O bloco de código a ser executado cada vez que o loop começa na próxima linha e deve ser recuado.\n",
    "- Este bloco de código é finalizado desidentando de volta ao nível anterior."
   ]
  },
  {
   "attachments": {},
   "cell_type": "markdown",
   "metadata": {},
   "source": [
    "Objetos de sequência, como strings, listas e tuplas, podem ser iterados da seguinte maneira."
   ]
  },
  {
   "cell_type": "code",
   "execution_count": null,
   "metadata": {},
   "outputs": [],
   "source": [
    "# Iterar sobre os elementos de uma lista. A variável de iteração i é vinculada a cada elemento por vez.\n",
    "\n",
    "for i in [2, 4, 6]:\n",
    "    print(i)"
   ]
  },
  {
   "cell_type": "code",
   "execution_count": null,
   "metadata": {},
   "outputs": [],
   "source": [
    "# Iterar sobre os caracteres em uma string. A variável de iteração char é vinculada a cada caractere por vez.\n",
    "\n",
    "for char in \"abc\":\n",
    "    print(char)"
   ]
  },
  {
   "cell_type": "code",
   "execution_count": null,
   "metadata": {},
   "outputs": [],
   "source": [
    "# enumerate permite que uma variável de iteração seja vinculada ao índice de cada item, bem como ao próprio item.\n",
    "\n",
    "for i, char in enumerate(\"abc\"):\n",
    "    print(i, char)"
   ]
  },
  {
   "attachments": {},
   "cell_type": "markdown",
   "metadata": {},
   "source": [
    "A função range gera números inteiros em um determinado intervalo. Geralmente é usado dentro de um loop\n",
    "for para iterar sobre alguma sequência de inteiros."
   ]
  },
  {
   "attachments": {},
   "cell_type": "markdown",
   "metadata": {},
   "source": [
    "- Os parâmetros de início, parada e etapa para intervalo são semelhantes aos usados para fatiar\n",
    "listas e strings.\n",
    "- Números inteiros são gerados apenas por intervalo conforme necessário, e não como uma lista."
   ]
  },
  {
   "cell_type": "code",
   "execution_count": null,
   "metadata": {},
   "outputs": [],
   "source": [
    "# range(n) gera n inteiros consecutivos, começando em 0 e terminando em n - 1.\n",
    "\n",
    "for i in range(3):\n",
    "    print(i)"
   ]
  },
  {
   "cell_type": "code",
   "execution_count": null,
   "metadata": {},
   "outputs": [],
   "source": [
    "# range(start, stop) gera números inteiros consecutivos, do início ao fim - 1.\n",
    "\n",
    "teens = range(13, 20)\n",
    "print(list(teens))"
   ]
  },
  {
   "cell_type": "code",
   "execution_count": null,
   "metadata": {},
   "outputs": [],
   "source": [
    "# O terceiro argumento step para range especifica o incremento de um inteiro para o próximo.\n",
    "\n",
    "evens = range(0, 9, 2)\n",
    "print(list(evens))"
   ]
  },
  {
   "cell_type": "code",
   "execution_count": null,
   "metadata": {},
   "outputs": [],
   "source": [
    "# range também pode contar para trás usando um tamanho de passo negativo.\n",
    "\n",
    "for i in range(5, 0, -1):\n",
    "    print(i)"
   ]
  },
  {
   "cell_type": "code",
   "execution_count": null,
   "metadata": {},
   "outputs": [],
   "source": [
    "# Soma os números de 1 a 5.\n",
    "\n",
    "total = 0\n",
    "\n",
    "for i in range(1, 6):\n",
    "    total += i\n",
    "print(total)"
   ]
  },
  {
   "cell_type": "code",
   "execution_count": null,
   "metadata": {},
   "outputs": [],
   "source": [
    "# Outra maneira (mais simples) de somar os números em um determinado intervalo.\n",
    "\n",
    "sum(range(1, 6))"
   ]
  },
  {
   "attachments": {},
   "cell_type": "markdown",
   "metadata": {},
   "source": [
    "Os elementos do dicionário consistem em pares chave:valor. Quando iteradas, as variáveis podem ser\n",
    "vinculadas à chave, ao valor ou a ambos."
   ]
  },
  {
   "cell_type": "code",
   "execution_count": null,
   "metadata": {},
   "outputs": [],
   "source": [
    "# A iteração sobre um dicionário é vinculada à chave (observe que or der não é preservado em um dicionário).\n",
    "\n",
    "mydict = {\"x\":1, \"y\":2, \"z\":3}\n",
    "for key in mydict:\n",
    "    print(key)"
   ]
  },
  {
   "cell_type": "code",
   "execution_count": null,
   "metadata": {},
   "outputs": [],
   "source": [
    "# Use valores para iterar sobre os valores do dicionário em vez das chaves.\n",
    "\n",
    "for value in mydict.values():\n",
    "    print(value)"
   ]
  },
  {
   "cell_type": "code",
   "execution_count": null,
   "metadata": {},
   "outputs": [],
   "source": [
    "# Use itens para iterar sobre as chaves e valores do dicionário juntos.\n",
    "\n",
    "for key, value in mydict.items():\n",
    "    print(key, value)"
   ]
  },
  {
   "attachments": {},
   "cell_type": "markdown",
   "metadata": {},
   "source": [
    "Também podemos iterar em paralelo em várias listas de comprimento igual usando zip. Isso gera uma\n",
    "sequência de tuplas, com um elemento de cada tupla extraído de cada lista."
   ]
  },
  {
   "cell_type": "code",
   "execution_count": null,
   "metadata": {},
   "outputs": [],
   "source": [
    "# zip(courses, ranks) gera uma sequência de tuplas. \n",
    "# Cada tupla contém um curso e uma classificação, com as tuplas na mesma ordem da lista elementos\n",
    "\n",
    "courses = [141, 142, 337]\n",
    "ranks = [\"good\", \"better\", \"best!\"]\n",
    "\n",
    "zipped = zip(courses, ranks)\n",
    "\n",
    "print(list(zipped))"
   ]
  },
  {
   "cell_type": "code",
   "execution_count": null,
   "metadata": {},
   "outputs": [],
   "source": [
    "# Várias variáveis de iteração podem ser vinculadas a cada iteração de um loop.\n",
    "\n",
    "for course, rank in zipped:\n",
    "    print(course, rank)"
   ]
  },
  {
   "attachments": {},
   "cell_type": "markdown",
   "metadata": {},
   "source": [
    "#### `While()` Loops"
   ]
  },
  {
   "attachments": {},
   "cell_type": "markdown",
   "metadata": {},
   "source": [
    "Os loops while do Python executam um bloco de código repetidamente, desde que alguma condição seja atendida."
   ]
  },
  {
   "attachments": {},
   "cell_type": "markdown",
   "metadata": {},
   "source": [
    "loop while:"
   ]
  },
  {
   "cell_type": "code",
   "execution_count": null,
   "metadata": {},
   "outputs": [],
   "source": [
    "# while <condição>:\n",
    "#    <código para executar repetidamente>\n",
    "# <código seguinte>"
   ]
  },
  {
   "attachments": {},
   "cell_type": "markdown",
   "metadata": {},
   "source": [
    "Observe que, para que o loop termine, o código deve alterar alguma parte da condição para que eventualmente retorne False."
   ]
  },
  {
   "cell_type": "code",
   "execution_count": null,
   "metadata": {},
   "outputs": [],
   "source": [
    "# A variável i é impressa enquanto permanece maior que zero. O código dentro do loop deve alterar o valor de i para garantir que o loop eventualmente termine.\n",
    "\n",
    "i = 3\n",
    "\n",
    "while i > 0:\n",
    "    print(i)\n",
    "    i -= 1"
   ]
  },
  {
   "attachments": {},
   "cell_type": "markdown",
   "metadata": {},
   "source": [
    "####  Break e Continue"
   ]
  },
  {
   "attachments": {},
   "cell_type": "markdown",
   "metadata": {},
   "source": [
    "Às vezes, precisamos terminar um loop antecipadamente, encerrando apenas a iteração atual ou encerrando o loop inteiro. As instruções break e continue fornecem uma maneira de fazer isso.\n"
   ]
  },
  {
   "attachments": {},
   "cell_type": "markdown",
   "metadata": {},
   "source": [
    "- Para finalizar o loop completamente e pular para o código a seguir, use a instrução break .\n",
    "- Para terminar a iteração atual e pular para o próximo item no loop, use o continue declaração. Isso geralmente pode ajudar a evitar instruções if-else aninhadas."
   ]
  },
  {
   "cell_type": "code",
   "execution_count": null,
   "metadata": {},
   "outputs": [],
   "source": [
    "# O laço for termina com break quando a primeira vogal é encontrada.\n",
    "\n",
    "vogais = \"aeiou\"\n",
    "\n",
    "for char in \"jabbawocky\":\n",
    "\n",
    "    if char in vogais:\n",
    "        print(\"Primeira vogal é \", char)\n",
    "        break"
   ]
  },
  {
   "cell_type": "code",
   "execution_count": null,
   "metadata": {},
   "outputs": [],
   "source": [
    "# Pule as vogais usando continue e apenas conte o consoantes.\n",
    "\n",
    "total = 0\n",
    "\n",
    "for char in \"jabbawocky\":\n",
    "    if char in vogais:\n",
    "        continue\n",
    "    total += 1\n",
    "\n",
    "print(total, \"Consoantes encontradas\")"
   ]
  },
  {
   "attachments": {},
   "cell_type": "markdown",
   "metadata": {},
   "source": [
    "### Tratamento de erros com Try-Except Try-Except"
   ]
  },
  {
   "cell_type": "code",
   "execution_count": null,
   "metadata": {},
   "outputs": [],
   "source": [
    "# try:\n",
    "#     <code to attempt to execute>\n",
    "# except:\n",
    "#     <code to execute only when an error occurs>"
   ]
  },
  {
   "cell_type": "code",
   "execution_count": null,
   "metadata": {},
   "outputs": [],
   "source": [
    "# try:\n",
    "#     <code to attempt to execute>\n",
    "# except ErrorType:\n",
    "#     <code to only execute when the named error occurs>"
   ]
  },
  {
   "cell_type": "code",
   "execution_count": null,
   "metadata": {},
   "outputs": [],
   "source": [
    "# The number 10 is being divided by a sequence of integers, one of which happens to be zero. Without error handling, the code breaks when the zero is encountered and a \"ZeroDivisionError\" is raised.\n",
    "\n",
    "for i in range(-2,3):\n",
    "    print(10/i)"
   ]
  },
  {
   "cell_type": "code",
   "execution_count": null,
   "metadata": {},
   "outputs": [],
   "source": [
    "# Using a try-except statement to handle the ZeroDivisionError allows the loop to run to completion without breaking.\n",
    "\n",
    "for i in range(-2,3):\n",
    "    try:\n",
    "        print(10/i)\n",
    "        \n",
    "    except ZeroDivisionError:\n",
    "        print(\"Cant divide by zero!\")"
   ]
  },
  {
   "cell_type": "markdown",
   "metadata": {},
   "source": [
    "### Reading and Writing Files"
   ]
  },
  {
   "cell_type": "code",
   "execution_count": null,
   "metadata": {},
   "outputs": [],
   "source": [
    "# Open \"firstnames.txt\" for reading using open.\n",
    "\n",
    "input_file = open('data/firstnames.txt')"
   ]
  },
  {
   "cell_type": "code",
   "execution_count": null,
   "metadata": {},
   "outputs": [],
   "source": [
    "# The lines of an open file can be iterated over in a for loop. Note the use of the end keyword in print(line, end=''), since each line already ends with a new line.\n",
    "\n",
    "for line in input_file:\n",
    "    print(line, end='')"
   ]
  },
  {
   "cell_type": "code",
   "execution_count": null,
   "metadata": {},
   "outputs": [],
   "source": [
    "# Close \"firstnames.txt\" using close.\n",
    "\n",
    "input_file.close()"
   ]
  },
  {
   "cell_type": "code",
   "execution_count": null,
   "metadata": {},
   "outputs": [],
   "source": [
    "# read reads in the whole file as a single string. The new-lines at the end of each line are shown as \"nn\" characters.\n",
    "\n",
    "input_file = open(\"data/firstnames.txt\")\n",
    "first_names = input_file.read()\n",
    "input_file.close()\n",
    "first_names"
   ]
  },
  {
   "cell_type": "code",
   "execution_count": null,
   "metadata": {},
   "outputs": [],
   "source": [
    "# Printing a string causes the newline characters \"nn\" to be rendered as new lines.\n",
    "\n",
    "print(first_names)"
   ]
  },
  {
   "cell_type": "code",
   "execution_count": null,
   "metadata": {},
   "outputs": [],
   "source": [
    "# readlines reads in the whole file as a list, with each line as a separate string.\n",
    "\n",
    "input_file = open(\"data/firstnames.txt\")\n",
    "data = input_file.readlines()\n",
    "input_file.close()\n",
    "data"
   ]
  },
  {
   "cell_type": "code",
   "execution_count": null,
   "metadata": {},
   "outputs": [],
   "source": [
    "# Write each string in the data list to a separate line in the file. Note that new lines are not automatically included, so they need to be added.\n",
    "\n",
    "data = [\"Hofstadter\", \"?\", \"Cooper\"]\n",
    "output_file = open(\"data/names.txt\", \"w\")\n",
    "\n",
    "for name in data:\n",
    "    output_file.write(name + \"\\n\")\n",
    "\n",
    "output_file.close()"
   ]
  },
  {
   "cell_type": "code",
   "execution_count": null,
   "metadata": {},
   "outputs": [],
   "source": [
    "# Check that the \"names.txt\" file has been written correctly.\n",
    "\n",
    "input_file = open(\"data/names.txt\")\n",
    "last_names = input_file.read()\n",
    "input_file.close()\n",
    "print(last_names)"
   ]
  },
  {
   "cell_type": "code",
   "execution_count": null,
   "metadata": {},
   "outputs": [],
   "source": [
    "%reload_ext watermark\n",
    "%watermark -a \"Caique Miranda\" -gu \"caiquemiranda\" -iv"
   ]
  },
  {
   "cell_type": "markdown",
   "metadata": {},
   "source": [
    "### End"
   ]
  }
 ],
 "metadata": {
  "kernelspec": {
   "display_name": "Python 3.10.5 64-bit",
   "language": "python",
   "name": "python3"
  },
  "language_info": {
   "codemirror_mode": {
    "name": "ipython",
    "version": 3
   },
   "file_extension": ".py",
   "mimetype": "text/x-python",
   "name": "python",
   "nbconvert_exporter": "python",
   "pygments_lexer": "ipython3",
   "version": "3.10.5"
  },
  "orig_nbformat": 4,
  "vscode": {
   "interpreter": {
    "hash": "74af3d2f25f1e46ebd2903d59225d79e4675ec224d56c01fc30cd168c2010d53"
   }
  }
 },
 "nbformat": 4,
 "nbformat_minor": 2
}
