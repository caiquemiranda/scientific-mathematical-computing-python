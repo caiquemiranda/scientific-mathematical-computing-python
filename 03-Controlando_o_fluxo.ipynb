{
 "cells": [
  {
   "attachments": {},
   "cell_type": "markdown",
   "metadata": {},
   "source": [
    "### Controlando o fluxo"
   ]
  },
  {
   "attachments": {},
   "cell_type": "markdown",
   "metadata": {},
   "source": [
    "#### Expressões Booleanas"
   ]
  },
  {
   "attachments": {},
   "cell_type": "markdown",
   "metadata": {},
   "source": [
    "Expressões booleanas são declarações avaliadas como Verdadeiro ou Falso. Um uso importante dessas\n",
    "expressões é para testes em código condicional que só executa se alguma condição for atendida. Exemplos de\n",
    "expressões booleanas incluem os operadores de comparação padrão abaixo."
   ]
  },
  {
   "cell_type": "code",
   "execution_count": 1,
   "metadata": {},
   "outputs": [
    {
     "data": {
      "text/plain": [
       "True"
      ]
     },
     "execution_count": 1,
     "metadata": {},
     "output_type": "execute_result"
    }
   ],
   "source": [
    "# Verifique a igualdade.\n",
    "\n",
    "5 == 5"
   ]
  },
  {
   "cell_type": "code",
   "execution_count": 2,
   "metadata": {},
   "outputs": [
    {
     "data": {
      "text/plain": [
       "False"
      ]
     },
     "execution_count": 2,
     "metadata": {},
     "output_type": "execute_result"
    }
   ],
   "source": [
    "# Verifique a desigualdade.\n",
    "\n",
    "5 != 5 "
   ]
  },
  {
   "cell_type": "code",
   "execution_count": 3,
   "metadata": {},
   "outputs": [
    {
     "data": {
      "text/plain": [
       "False"
      ]
     },
     "execution_count": 3,
     "metadata": {},
     "output_type": "execute_result"
    }
   ],
   "source": [
    "# Menor que.\n",
    "\n",
    "3 < 2"
   ]
  },
  {
   "cell_type": "code",
   "execution_count": 4,
   "metadata": {},
   "outputs": [
    {
     "data": {
      "text/plain": [
       "True"
      ]
     },
     "execution_count": 4,
     "metadata": {},
     "output_type": "execute_result"
    }
   ],
   "source": [
    "# Menor ou igual,\n",
    "\n",
    "3 <= 3"
   ]
  },
  {
   "cell_type": "code",
   "execution_count": 5,
   "metadata": {},
   "outputs": [
    {
     "data": {
      "text/plain": [
       "True"
      ]
     },
     "execution_count": 5,
     "metadata": {},
     "output_type": "execute_result"
    }
   ],
   "source": [
    "# Strings são comparadas por ordem lexicográfica (dicionário).\n",
    "\n",
    "'a' < 'b'"
   ]
  },
  {
   "attachments": {},
   "cell_type": "markdown",
   "metadata": {},
   "source": [
    "Observe que qualquer contêiner vazio é avaliado como Falso em uma expressão booleana. Os exemplos\n",
    "incluem strings vazias (“”), listas ([]) e dicionários ({})."
   ]
  },
  {
   "attachments": {},
   "cell_type": "markdown",
   "metadata": {},
   "source": [
    "#### Declarações `if()`"
   ]
  },
  {
   "attachments": {},
   "cell_type": "markdown",
   "metadata": {},
   "source": [
    "As instruções if do Python fornecem uma maneira de executar um bloco de código somente se alguma condição for Verdadeiro."
   ]
  },
  {
   "attachments": {},
   "cell_type": "markdown",
   "metadata": {},
   "source": [
    "declaração if"
   ]
  },
  {
   "cell_type": "code",
   "execution_count": 6,
   "metadata": {},
   "outputs": [],
   "source": [
    "# if <condição>:\n",
    "#   <código a ser executado quando a condição for verdadeira>\n",
    "# <código a seguir>"
   ]
  },
  {
   "attachments": {},
   "cell_type": "markdown",
   "metadata": {},
   "source": [
    "Observe que:\n",
    "\n",
    "- condição é uma expressão booleana, que deve ser avaliada como True ou False.\n",
    "- condição deve ser seguida de dois pontos, :.\n",
    "- O bloco de código a ser executado se a condição for True começa na próxima linha e deve ser recuado.\n",
    "- A convenção em Python é que os blocos de código são recuados com 4 espaços.\n",
    "- O bloco de código a ser executado é finalizado desidentando de volta ao nível anterior."
   ]
  },
  {
   "cell_type": "code",
   "execution_count": 7,
   "metadata": {},
   "outputs": [
    {
     "name": "stdout",
     "output_type": "stream",
     "text": [
      "Pi é o maior que e!\n"
     ]
    }
   ],
   "source": [
    "# O bloco de código que segue a instrução if só é executado se a condição for atendida.\n",
    "\n",
    "from math import *\n",
    "\n",
    "if pi > e:\n",
    "    print(\"Pi é o maior que e!\")"
   ]
  },
  {
   "attachments": {},
   "cell_type": "markdown",
   "metadata": {},
   "source": [
    "Uma instrução else pode ser adicionada após a conclusão de uma instrução if . Isso será seguido pelo\n",
    "código a ser executado se a condição for False."
   ]
  },
  {
   "attachments": {},
   "cell_type": "markdown",
   "metadata": {},
   "source": [
    "declaração if-else"
   ]
  },
  {
   "cell_type": "code",
   "execution_count": 8,
   "metadata": {},
   "outputs": [],
   "source": [
    "# if <condição>:\n",
    "#   <código a ser executado quando a condição for verdadeira>\n",
    "# else:\n",
    "#    <código para executar quando condição False>\n",
    "#<código a seguir>    "
   ]
  },
  {
   "attachments": {},
   "cell_type": "markdown",
   "metadata": {},
   "source": [
    "O exemplo a seguir ilustra uma instrução if-else."
   ]
  },
  {
   "cell_type": "code",
   "execution_count": 9,
   "metadata": {},
   "outputs": [
    {
     "name": "stdout",
     "output_type": "stream",
     "text": [
      "x < y\n"
     ]
    }
   ],
   "source": [
    "# O bloco de código que segue a instrução else é executado se a condição não for atendida.\n",
    "\n",
    "x, y = 2**3, 3**2\n",
    "if x < y:\n",
    "    print(\"x < y\")\n",
    "else:\n",
    "    print(\"x >= y\")"
   ]
  },
  {
   "attachments": {},
   "cell_type": "markdown",
   "metadata": {},
   "source": [
    "Várias instruções elif (abreviação de else-if) podem ser adicionadas para criar uma série de condições que são\n",
    "testadas sucessivamente até que uma seja bem-sucedida. Cada elif também deve ser seguido por uma\n",
    "condição e dois pontos."
   ]
  },
  {
   "attachments": {},
   "cell_type": "markdown",
   "metadata": {},
   "source": [
    "declaração elif"
   ]
  },
  {
   "cell_type": "code",
   "execution_count": 10,
   "metadata": {},
   "outputs": [],
   "source": [
    "# se <condição 1>:\n",
    "#   <código a ser executado quando a condição 1 for verdadeira>\n",
    "# elif <condição 2>: \n",
    "#   <código a ser executado quando a condição 2 for verdadeira>\n",
    "# else:\n",
    "#   <código a ser executado se nenhuma condição for verdadeira> \n",
    "# <código a seguir>"
   ]
  },
  {
   "attachments": {},
   "cell_type": "markdown",
   "metadata": {},
   "source": [
    "O exemplo a seguir ilustra uma série de condições sendo testadas."
   ]
  },
  {
   "cell_type": "code",
   "execution_count": 11,
   "metadata": {},
   "outputs": [
    {
     "name": "stdout",
     "output_type": "stream",
     "text": [
      "B\n"
     ]
    }
   ],
   "source": [
    "# Apenas as duas primeiras condições são testadas - as demais são ignoradas, pois a segunda condição é True.\n",
    "\n",
    "pontuação = 88\n",
    "\n",
    "if pontuação >= 90:\n",
    "    print(\"A\")\n",
    "\n",
    "elif pontuação >= 80:    \n",
    "    print(\"B\")\n",
    "\n",
    "elif pontuação >= 70:\n",
    "    print(\"C\")\n",
    "\n",
    "elif pontuação >= 60:\n",
    "    print(\"D\")\n",
    "\n",
    "else:\n",
    "    print(\"F\")"
   ]
  },
  {
   "attachments": {},
   "cell_type": "markdown",
   "metadata": {},
   "source": [
    "#### Expressões Condicionais"
   ]
  },
  {
   "attachments": {},
   "cell_type": "markdown",
   "metadata": {},
   "source": [
    "Muitas vezes, queremos atribuir a um nome de variável algum valor se uma condição for True e outro valor\n",
    "se uma condição for False. Usando uma instrução if , teríamos:"
   ]
  },
  {
   "cell_type": "code",
   "execution_count": 12,
   "metadata": {},
   "outputs": [],
   "source": [
    "# if <condição>:\n",
    "#    x = <valor_verdadeiro>\n",
    "# else:\n",
    "#   x = <valor_falso>"
   ]
  },
  {
   "attachments": {},
   "cell_type": "markdown",
   "metadata": {},
   "source": [
    "Python fornece uma maneira elegante de fazer a mesma coisa em uma única linha usando uma expressão\n",
    "condicional."
   ]
  },
  {
   "attachments": {},
   "cell_type": "markdown",
   "metadata": {},
   "source": [
    "expressão condicional"
   ]
  },
  {
   "cell_type": "code",
   "execution_count": 13,
   "metadata": {},
   "outputs": [],
   "source": [
    "# x = <valor_verdadeiro> if <condição> else <valor_falso>"
   ]
  },
  {
   "attachments": {},
   "cell_type": "markdown",
   "metadata": {},
   "source": [
    "Um exemplo é dado abaixo."
   ]
  },
  {
   "cell_type": "code",
   "execution_count": 14,
   "metadata": {},
   "outputs": [
    {
     "name": "stdout",
     "output_type": "stream",
     "text": [
      "22 tem par paridade\n"
     ]
    }
   ],
   "source": [
    "# Observe que x % 2 retorna o restante quando x é dividido por 2. Qualquer valor diferente de zero é avaliado como True.\n",
    "\n",
    "x = 22\n",
    "paridade = \"impar\" if x % 2 else \"par\"\n",
    "print(x, \"tem\", paridade, \"paridade\")"
   ]
  },
  {
   "attachments": {},
   "cell_type": "markdown",
   "metadata": {},
   "source": [
    "#### `for()` Loops"
   ]
  },
  {
   "attachments": {},
   "cell_type": "markdown",
   "metadata": {},
   "source": [
    "loop for:"
   ]
  },
  {
   "cell_type": "code",
   "execution_count": 15,
   "metadata": {},
   "outputs": [],
   "source": [
    "# for <variável(is) de iteração> em <iterável>:\n",
    "#   <código a ser executado a cada vez>\n",
    "# <código a seguir>"
   ]
  },
  {
   "attachments": {},
   "cell_type": "markdown",
   "metadata": {},
   "source": [
    "Observe que:\n",
    "\n",
    "- A instrução for deve ser seguida por dois pontos, :.\n",
    "- Uma ou mais variáveis de iteração são vinculadas aos valores iteráveis em sucessivas passa pelo laço.\n",
    "- O bloco de código a ser executado cada vez que o loop começa na próxima linha e deve ser recuado.\n",
    "- Este bloco de código é finalizado desidentando de volta ao nível anterior."
   ]
  },
  {
   "attachments": {},
   "cell_type": "markdown",
   "metadata": {},
   "source": [
    "Objetos de sequência, como strings, listas e tuplas, podem ser iterados da seguinte maneira."
   ]
  },
  {
   "cell_type": "code",
   "execution_count": 16,
   "metadata": {},
   "outputs": [
    {
     "name": "stdout",
     "output_type": "stream",
     "text": [
      "2\n",
      "4\n",
      "6\n"
     ]
    }
   ],
   "source": [
    "# Iterar sobre os elementos de uma lista. A variável de iteração i é vinculada a cada elemento por vez.\n",
    "\n",
    "for i in [2, 4, 6]:\n",
    "    print(i)"
   ]
  },
  {
   "cell_type": "code",
   "execution_count": 17,
   "metadata": {},
   "outputs": [
    {
     "name": "stdout",
     "output_type": "stream",
     "text": [
      "a\n",
      "b\n",
      "c\n"
     ]
    }
   ],
   "source": [
    "# Iterar sobre os caracteres em uma string. A variável de iteração char é vinculada a cada caractere por vez.\n",
    "\n",
    "for char in \"abc\":\n",
    "    print(char)"
   ]
  },
  {
   "cell_type": "code",
   "execution_count": 18,
   "metadata": {},
   "outputs": [
    {
     "name": "stdout",
     "output_type": "stream",
     "text": [
      "0 a\n",
      "1 b\n",
      "2 c\n"
     ]
    }
   ],
   "source": [
    "# enumerate permite que uma variável de iteração seja vinculada ao índice de cada item, bem como ao próprio item.\n",
    "\n",
    "for i, char in enumerate(\"abc\"):\n",
    "    print(i, char)"
   ]
  },
  {
   "attachments": {},
   "cell_type": "markdown",
   "metadata": {},
   "source": [
    "A função range gera números inteiros em um determinado intervalo. Geralmente é usado dentro de um loop\n",
    "for para iterar sobre alguma sequência de inteiros."
   ]
  },
  {
   "attachments": {},
   "cell_type": "markdown",
   "metadata": {},
   "source": [
    "- Os parâmetros de início, parada e etapa para intervalo são semelhantes aos usados para fatiar\n",
    "listas e strings.\n",
    "- Números inteiros são gerados apenas por intervalo conforme necessário, e não como uma lista."
   ]
  },
  {
   "cell_type": "code",
   "execution_count": 19,
   "metadata": {},
   "outputs": [
    {
     "name": "stdout",
     "output_type": "stream",
     "text": [
      "0\n",
      "1\n",
      "2\n"
     ]
    }
   ],
   "source": [
    "# range(n) gera n inteiros consecutivos, começando em 0 e terminando em n - 1.\n",
    "\n",
    "for i in range(3):\n",
    "    print(i)"
   ]
  },
  {
   "cell_type": "code",
   "execution_count": 20,
   "metadata": {},
   "outputs": [
    {
     "name": "stdout",
     "output_type": "stream",
     "text": [
      "[13, 14, 15, 16, 17, 18, 19]\n"
     ]
    }
   ],
   "source": [
    "# range(start, stop) gera números inteiros consecutivos, do início ao fim - 1.\n",
    "\n",
    "teens = range(13, 20)\n",
    "print(list(teens))"
   ]
  },
  {
   "cell_type": "code",
   "execution_count": 21,
   "metadata": {},
   "outputs": [
    {
     "name": "stdout",
     "output_type": "stream",
     "text": [
      "[0, 2, 4, 6, 8]\n"
     ]
    }
   ],
   "source": [
    "# O terceiro argumento step para range especifica o incremento de um inteiro para o próximo.\n",
    "\n",
    "evens = range(0, 9, 2)\n",
    "print(list(evens))"
   ]
  },
  {
   "cell_type": "code",
   "execution_count": 22,
   "metadata": {},
   "outputs": [
    {
     "name": "stdout",
     "output_type": "stream",
     "text": [
      "5\n",
      "4\n",
      "3\n",
      "2\n",
      "1\n"
     ]
    }
   ],
   "source": [
    "# range também pode contar para trás usando um tamanho de passo negativo.\n",
    "\n",
    "for i in range(5, 0, -1):\n",
    "    print(i)"
   ]
  },
  {
   "cell_type": "code",
   "execution_count": 23,
   "metadata": {},
   "outputs": [
    {
     "name": "stdout",
     "output_type": "stream",
     "text": [
      "15\n"
     ]
    }
   ],
   "source": [
    "# Soma os números de 1 a 5.\n",
    "\n",
    "total = 0\n",
    "\n",
    "for i in range(1, 6):\n",
    "    total += i\n",
    "print(total)"
   ]
  },
  {
   "cell_type": "code",
   "execution_count": 24,
   "metadata": {},
   "outputs": [
    {
     "data": {
      "text/plain": [
       "15"
      ]
     },
     "execution_count": 24,
     "metadata": {},
     "output_type": "execute_result"
    }
   ],
   "source": [
    "# Outra maneira (mais simples) de somar os números em um determinado intervalo.\n",
    "\n",
    "sum(range(1, 6))"
   ]
  },
  {
   "attachments": {},
   "cell_type": "markdown",
   "metadata": {},
   "source": [
    "Os elementos do dicionário consistem em pares chave:valor. Quando iteradas, as variáveis podem ser\n",
    "vinculadas à chave, ao valor ou a ambos."
   ]
  },
  {
   "cell_type": "code",
   "execution_count": 25,
   "metadata": {},
   "outputs": [
    {
     "name": "stdout",
     "output_type": "stream",
     "text": [
      "x\n",
      "y\n",
      "z\n"
     ]
    }
   ],
   "source": [
    "# A iteração sobre um dicionário é vinculada à chave (observe que or der não é preservado em um dicionário).\n",
    "\n",
    "mydict = {\"x\":1, \"y\":2, \"z\":3}\n",
    "for key in mydict:\n",
    "    print(key)"
   ]
  },
  {
   "cell_type": "code",
   "execution_count": 26,
   "metadata": {},
   "outputs": [
    {
     "name": "stdout",
     "output_type": "stream",
     "text": [
      "1\n",
      "2\n",
      "3\n"
     ]
    }
   ],
   "source": [
    "# Use valores para iterar sobre os valores do dicionário em vez das chaves.\n",
    "\n",
    "for value in mydict.values():\n",
    "    print(value)"
   ]
  },
  {
   "cell_type": "code",
   "execution_count": 27,
   "metadata": {},
   "outputs": [
    {
     "name": "stdout",
     "output_type": "stream",
     "text": [
      "x 1\n",
      "y 2\n",
      "z 3\n"
     ]
    }
   ],
   "source": [
    "# Use itens para iterar sobre as chaves e valores do dicionário juntos.\n",
    "\n",
    "for key, value in mydict.items():\n",
    "    print(key, value)"
   ]
  },
  {
   "attachments": {},
   "cell_type": "markdown",
   "metadata": {},
   "source": [
    "Também podemos iterar em paralelo em várias listas de comprimento igual usando zip. Isso gera uma\n",
    "sequência de tuplas, com um elemento de cada tupla extraído de cada lista."
   ]
  },
  {
   "cell_type": "code",
   "execution_count": 28,
   "metadata": {},
   "outputs": [
    {
     "name": "stdout",
     "output_type": "stream",
     "text": [
      "[(141, 'good'), (142, 'better'), (337, 'best!')]\n"
     ]
    }
   ],
   "source": [
    "# zip(courses, ranks) gera uma sequência de tuplas. \n",
    "# Cada tupla contém um curso e uma classificação, com as tuplas na mesma ordem da lista elementos\n",
    "\n",
    "courses = [141, 142, 337]\n",
    "ranks = [\"good\", \"better\", \"best!\"]\n",
    "\n",
    "zipped = zip(courses, ranks)\n",
    "\n",
    "print(list(zipped))"
   ]
  },
  {
   "cell_type": "code",
   "execution_count": 29,
   "metadata": {},
   "outputs": [],
   "source": [
    "# Várias variáveis de iteração podem ser vinculadas a cada iteração de um loop.\n",
    "\n",
    "for course, rank in zipped:\n",
    "    print(course, rank)"
   ]
  },
  {
   "attachments": {},
   "cell_type": "markdown",
   "metadata": {},
   "source": [
    "#### `While()` Loops"
   ]
  },
  {
   "attachments": {},
   "cell_type": "markdown",
   "metadata": {},
   "source": [
    "Os loops while do Python executam um bloco de código repetidamente, desde que alguma condição seja atendida."
   ]
  },
  {
   "attachments": {},
   "cell_type": "markdown",
   "metadata": {},
   "source": [
    "loop while:"
   ]
  },
  {
   "cell_type": "code",
   "execution_count": 30,
   "metadata": {},
   "outputs": [],
   "source": [
    "# while <condição>:\n",
    "#    <código para executar repetidamente>\n",
    "# <código seguinte>"
   ]
  },
  {
   "attachments": {},
   "cell_type": "markdown",
   "metadata": {},
   "source": [
    "Observe que, para que o loop termine, o código deve alterar alguma parte da condição para que eventualmente retorne False."
   ]
  },
  {
   "cell_type": "code",
   "execution_count": 31,
   "metadata": {},
   "outputs": [
    {
     "name": "stdout",
     "output_type": "stream",
     "text": [
      "3\n",
      "2\n",
      "1\n"
     ]
    }
   ],
   "source": [
    "# A variável i é impressa enquanto permanece maior que zero. O código dentro do loop deve alterar o valor de i para garantir que o loop eventualmente termine.\n",
    "\n",
    "i = 3\n",
    "\n",
    "while i > 0:\n",
    "    print(i)\n",
    "    i -= 1"
   ]
  },
  {
   "attachments": {},
   "cell_type": "markdown",
   "metadata": {},
   "source": [
    "####  Break e Continue"
   ]
  },
  {
   "attachments": {},
   "cell_type": "markdown",
   "metadata": {},
   "source": [
    "Às vezes, precisamos terminar um loop antecipadamente, encerrando apenas a iteração atual ou encerrando o loop inteiro. As instruções break e continue fornecem uma maneira de fazer isso.\n"
   ]
  },
  {
   "attachments": {},
   "cell_type": "markdown",
   "metadata": {},
   "source": [
    "- Para finalizar o loop completamente e pular para o código a seguir, use a instrução break .\n",
    "- Para terminar a iteração atual e pular para o próximo item no loop, use o continue declaração. Isso geralmente pode ajudar a evitar instruções if-else aninhadas."
   ]
  },
  {
   "cell_type": "code",
   "execution_count": 32,
   "metadata": {},
   "outputs": [
    {
     "name": "stdout",
     "output_type": "stream",
     "text": [
      "Primeira vogal é  a\n"
     ]
    }
   ],
   "source": [
    "# O laço for termina com break quando a primeira vogal é encontrada.\n",
    "\n",
    "vogais = \"aeiou\"\n",
    "\n",
    "for char in \"jabbawocky\":\n",
    "\n",
    "    if char in vogais:\n",
    "        print(\"Primeira vogal é \", char)\n",
    "        break"
   ]
  },
  {
   "cell_type": "code",
   "execution_count": 33,
   "metadata": {},
   "outputs": [
    {
     "name": "stdout",
     "output_type": "stream",
     "text": [
      "7 Consoantes encontradas\n"
     ]
    }
   ],
   "source": [
    "# Pule as vogais usando continue e apenas conte o consoantes.\n",
    "\n",
    "total = 0\n",
    "\n",
    "for char in \"jabbawocky\":\n",
    "    if char in vogais:\n",
    "        continue\n",
    "    total += 1\n",
    "\n",
    "print(total, \"Consoantes encontradas\")"
   ]
  },
  {
   "attachments": {},
   "cell_type": "markdown",
   "metadata": {},
   "source": [
    "#### Tratamento de erros com `try`/`except`"
   ]
  },
  {
   "attachments": {},
   "cell_type": "markdown",
   "metadata": {},
   "source": [
    "Se uma operação inválida for tentada ao executar o código, um erro geralmente será gerado. Os exemplos\n",
    "incluem dividir por zero, indexar após o final de uma sequência, criar um número de ponto flutuante muito\n",
    "grande ou adicionar dois arrays de tamanhos diferentes. Nessas circunstâncias, o código geralmente é\n",
    "interrompido no ponto da operação inválida."
   ]
  },
  {
   "attachments": {},
   "cell_type": "markdown",
   "metadata": {},
   "source": [
    "Uma instrução try-except pode ser usada para lidar com erros de forma mais deliberada do que com a\n",
    "quebra de código. Isso nos permite primeiro tentar executar algum código que não temos certeza se\n",
    "funcionará e, em seguida, executar algum outro código se não funcionar."
   ]
  },
  {
   "attachments": {},
   "cell_type": "markdown",
   "metadata": {},
   "source": [
    "declaração try-except"
   ]
  },
  {
   "cell_type": "code",
   "execution_count": 34,
   "metadata": {},
   "outputs": [],
   "source": [
    "# try:\n",
    "#     <código para tentar executar>\n",
    "# except:\n",
    "#     <código para executar somente quando ocorrer um erro>"
   ]
  },
  {
   "attachments": {},
   "cell_type": "markdown",
   "metadata": {},
   "source": [
    "Os erros geralmente têm um tipo associado a eles, que especifica o tipo de erro que ocorreu. Os exemplos incluem `ZeroDivisionError`, `IndexError`, `OverflowError` e `ValueError`. A parte \"except\" de uma instrução try-except pode ser especializada para lidar com esses diferentes tipos de erro."
   ]
  },
  {
   "attachments": {},
   "cell_type": "markdown",
   "metadata": {},
   "source": [
    "instrução try-except com tipos de erro nomeados"
   ]
  },
  {
   "cell_type": "code",
   "execution_count": 35,
   "metadata": {},
   "outputs": [],
   "source": [
    "# try:\n",
    "#   <código para tentar executar> \n",
    "# except ErrorType: \n",
    "#   <código paraexecutar apenas quando o erro nomeado ocorrer>"
   ]
  },
  {
   "attachments": {},
   "cell_type": "markdown",
   "metadata": {},
   "source": [
    "O exemplo a seguir mostra como lidar com um erro resultante da divisão por zero."
   ]
  },
  {
   "cell_type": "code",
   "execution_count": 36,
   "metadata": {},
   "outputs": [
    {
     "name": "stdout",
     "output_type": "stream",
     "text": [
      "-5.0\n",
      "-10.0\n"
     ]
    },
    {
     "ename": "ZeroDivisionError",
     "evalue": "division by zero",
     "output_type": "error",
     "traceback": [
      "\u001b[1;31m---------------------------------------------------------------------------\u001b[0m",
      "\u001b[1;31mZeroDivisionError\u001b[0m                         Traceback (most recent call last)",
      "\u001b[1;32md:\\GIT-repository\\github-scientific-mathematical-computing-python\\scientific-mathematical-computing-python\\03-Controlando_o_fluxo.ipynb Cell 77\u001b[0m in \u001b[0;36m<cell line: 4>\u001b[1;34m()\u001b[0m\n\u001b[0;32m      <a href='vscode-notebook-cell:/d%3A/GIT-repository/github-scientific-mathematical-computing-python/scientific-mathematical-computing-python/03-Controlando_o_fluxo.ipynb#Y136sZmlsZQ%3D%3D?line=0'>1</a>\u001b[0m \u001b[39m# O número 10 está sendo dividido por uma sequência de inteiros, um dos quais é zero. \u001b[39;00m\n\u001b[0;32m      <a href='vscode-notebook-cell:/d%3A/GIT-repository/github-scientific-mathematical-computing-python/scientific-mathematical-computing-python/03-Controlando_o_fluxo.ipynb#Y136sZmlsZQ%3D%3D?line=1'>2</a>\u001b[0m \u001b[39m# Sem manipulação de erros, o código quebra quando o zero é encontrado e um ”ZeroDivisionError” é levantado. \u001b[39;00m\n\u001b[0;32m      <a href='vscode-notebook-cell:/d%3A/GIT-repository/github-scientific-mathematical-computing-python/scientific-mathematical-computing-python/03-Controlando_o_fluxo.ipynb#Y136sZmlsZQ%3D%3D?line=3'>4</a>\u001b[0m \u001b[39mfor\u001b[39;00m i \u001b[39min\u001b[39;00m \u001b[39mrange\u001b[39m(\u001b[39m-\u001b[39m\u001b[39m2\u001b[39m,\u001b[39m3\u001b[39m):\n\u001b[1;32m----> <a href='vscode-notebook-cell:/d%3A/GIT-repository/github-scientific-mathematical-computing-python/scientific-mathematical-computing-python/03-Controlando_o_fluxo.ipynb#Y136sZmlsZQ%3D%3D?line=4'>5</a>\u001b[0m     \u001b[39mprint\u001b[39m(\u001b[39m10\u001b[39;49m\u001b[39m/\u001b[39;49mi)\n",
      "\u001b[1;31mZeroDivisionError\u001b[0m: division by zero"
     ]
    }
   ],
   "source": [
    "# O número 10 está sendo dividido por uma sequência de inteiros, um dos quais é zero. \n",
    "# Sem manipulação de erros, o código quebra quando o zero é encontrado e um ”ZeroDivisionError” é levantado. \n",
    "\n",
    "for i in range(-2,3):\n",
    "    print(10/i)"
   ]
  },
  {
   "cell_type": "code",
   "execution_count": 37,
   "metadata": {},
   "outputs": [
    {
     "name": "stdout",
     "output_type": "stream",
     "text": [
      "-5.0\n",
      "-10.0\n",
      "Cant divide by zero!\n",
      "10.0\n",
      "5.0\n"
     ]
    }
   ],
   "source": [
    "# O uso de uma instrução try-except para lidar com o Erro ZeroDivision permite que o loop seja executado até a conclusão sem interrupção.\n",
    "\n",
    "for i in range(-2,3):\n",
    "    try:\n",
    "        print(10/i)\n",
    "        \n",
    "    except ZeroDivisionError:\n",
    "        print(\"Cant divide by zero!\")"
   ]
  },
  {
   "attachments": {},
   "cell_type": "markdown",
   "metadata": {},
   "source": [
    "#### Lendo e Gravando Arquivos"
   ]
  },
  {
   "cell_type": "markdown",
   "metadata": {},
   "source": [
    "Vários relatórios para esta classe envolverão leitura e análise de dados que foram armazenados em um\n",
    "arquivo. Isso normalmente envolve três etapas:"
   ]
  },
  {
   "attachments": {},
   "cell_type": "markdown",
   "metadata": {},
   "source": [
    "- Abra o arquivo usando a função open . Isso retorna um identificador de arquivo - um objeto que então use para acessar o texto que o arquivo contém.\n",
    "- Processe o arquivo linha por linha ou como uma única string de texto.\n",
    "- Feche o arquivo. Isso é feito usando a função fechar ."
   ]
  },
  {
   "attachments": {},
   "cell_type": "markdown",
   "metadata": {},
   "source": [
    "É possível ler todo o conteúdo de um arquivo de uma só vez usando as funções read e readlines. No\n",
    "entanto, podemos não precisar ler todo o conteúdo na memória se estivermos lidando com um arquivo\n",
    "grande e quisermos apenas extrair algumas informações do texto. Nesse caso, é preferível iterar sobre as\n",
    "linhas de texto que o arquivo contém."
   ]
  },
  {
   "attachments": {},
   "cell_type": "markdown",
   "metadata": {},
   "source": [
    "Os exemplos a seguir assumem que um arquivo denominado \"primeiros_nomes.txt” foi criado no diretório em que\n",
    "o Python foi iniciado. Esse arquivo contém as três linhas:"
   ]
  },
  {
   "cell_type": "code",
   "execution_count": 38,
   "metadata": {},
   "outputs": [],
   "source": [
    "# Abra \"primeiros_nomes.txt” para leitura usando open.\n",
    "\n",
    "input_file = open('data/primeiros_nomes.txt')"
   ]
  },
  {
   "cell_type": "code",
   "execution_count": 39,
   "metadata": {},
   "outputs": [
    {
     "name": "stdout",
     "output_type": "stream",
     "text": [
      "Leonard\n",
      "Penny\n",
      "Sheldon"
     ]
    }
   ],
   "source": [
    "# As linhas de um arquivo aberto podem ser iteradas em um loop for . \n",
    "# Observe o uso da palavrachave end em print(line, end=''), pois cada linha já termina com uma nova linha.\n",
    "\n",
    "for line in input_file:\n",
    "    print(line, end='')"
   ]
  },
  {
   "cell_type": "code",
   "execution_count": 40,
   "metadata": {},
   "outputs": [],
   "source": [
    "# Feche \"primeiros_nomes.txt” usando close.\n",
    "\n",
    "input_file.close()"
   ]
  },
  {
   "cell_type": "code",
   "execution_count": 41,
   "metadata": {},
   "outputs": [
    {
     "data": {
      "text/plain": [
       "'Leonard\\nPenny\\nSheldon'"
      ]
     },
     "execution_count": 41,
     "metadata": {},
     "output_type": "execute_result"
    }
   ],
   "source": [
    "# read lê o arquivo inteiro como uma única string. \n",
    "# As novas linhas no final de cada linha são mostrados como caracteres ”\\n”.\n",
    "\n",
    "input_file = open(\"data/primeiros_nomes.txt\")\n",
    "\n",
    "primeiros_nomes = input_file.read()\n",
    "input_file.close()\n",
    "\n",
    "primeiros_nomes"
   ]
  },
  {
   "cell_type": "code",
   "execution_count": 42,
   "metadata": {},
   "outputs": [
    {
     "name": "stdout",
     "output_type": "stream",
     "text": [
      "<_io.TextIOWrapper name='data/primeiros_nomes.txt' mode='r' encoding='cp1252'>\n"
     ]
    }
   ],
   "source": [
    "# Imprimir uma string faz com que os caracteres de nova linha ”\\n” sejam renderizados como novas linhas.\n",
    "\n",
    "print(input_file)"
   ]
  },
  {
   "cell_type": "code",
   "execution_count": 43,
   "metadata": {},
   "outputs": [
    {
     "data": {
      "text/plain": [
       "['Leonard\\n', 'Penny\\n', 'Sheldon']"
      ]
     },
     "execution_count": 43,
     "metadata": {},
     "output_type": "execute_result"
    }
   ],
   "source": [
    "# readlines lê o arquivo inteiro como uma lista, com cada linha como uma string separada.\n",
    "\n",
    "input_file = open(\"data/primeiros_nomes.txt\")\n",
    "data = input_file.readlines()\n",
    "input_file.close()\n",
    "data"
   ]
  },
  {
   "attachments": {},
   "cell_type": "markdown",
   "metadata": {},
   "source": [
    "Os arquivos também podem ser abertos para gravação usando a opção ”w” para abrir."
   ]
  },
  {
   "cell_type": "code",
   "execution_count": 44,
   "metadata": {},
   "outputs": [],
   "source": [
    "# Escreva cada string na lista de dados em uma linha separada no arquivo. \n",
    "# Observe que novas linhas não são incluídas automaticamente, portanto, elas precisam ser adicio\n",
    "\n",
    "data = [\"Hofstadter\", \"?\", \"Cooper\"]\n",
    "output_file = open(\"data/nomes.txt\", \"w\")\n",
    "\n",
    "for name in data:\n",
    "    output_file.write(name + \"\\n\")\n",
    "\n",
    "output_file.close()"
   ]
  },
  {
   "cell_type": "code",
   "execution_count": 45,
   "metadata": {},
   "outputs": [
    {
     "name": "stdout",
     "output_type": "stream",
     "text": [
      "Hofstadter\n",
      "?\n",
      "Cooper\n",
      "\n"
     ]
    }
   ],
   "source": [
    "# Verifique se o arquivo ”nomes.txt” foi escrito corretamente.\n",
    "\n",
    "input_file = open(\"data/nomes.txt\")\n",
    "last_names = input_file.read()\n",
    "input_file.close()\n",
    "\n",
    "print(last_names)"
   ]
  },
  {
   "cell_type": "code",
   "execution_count": 46,
   "metadata": {},
   "outputs": [
    {
     "name": "stdout",
     "output_type": "stream",
     "text": [
      "Author: Caique Miranda\n",
      "\n",
      "Github username: caiquemiranda\n",
      "\n"
     ]
    }
   ],
   "source": [
    "%reload_ext watermark\n",
    "%watermark -a \"Caique Miranda\" -gu \"caiquemiranda\" -iv"
   ]
  },
  {
   "cell_type": "markdown",
   "metadata": {},
   "source": [
    "### End"
   ]
  }
 ],
 "metadata": {
  "kernelspec": {
   "display_name": "Python 3.10.5 64-bit",
   "language": "python",
   "name": "python3"
  },
  "language_info": {
   "codemirror_mode": {
    "name": "ipython",
    "version": 3
   },
   "file_extension": ".py",
   "mimetype": "text/x-python",
   "name": "python",
   "nbconvert_exporter": "python",
   "pygments_lexer": "ipython3",
   "version": "3.10.5"
  },
  "orig_nbformat": 4,
  "vscode": {
   "interpreter": {
    "hash": "74af3d2f25f1e46ebd2903d59225d79e4675ec224d56c01fc30cd168c2010d53"
   }
  }
 },
 "nbformat": 4,
 "nbformat_minor": 2
}
