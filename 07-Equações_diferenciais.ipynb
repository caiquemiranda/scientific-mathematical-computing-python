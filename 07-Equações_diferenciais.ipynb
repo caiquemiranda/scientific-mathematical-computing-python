{
 "cells": [
  {
   "attachments": {},
   "cell_type": "markdown",
   "metadata": {},
   "source": [
    "### Equações Diferenciais"
   ]
  },
  {
   "attachments": {},
   "cell_type": "markdown",
   "metadata": {},
   "source": [
    "#### Equações Diferenciais de Primeira Ordem"
   ]
  },
  {
   "cell_type": "code",
   "execution_count": null,
   "metadata": {},
   "outputs": [],
   "source": [
    "import numpy as np # Importar linspace\n",
    "import matplotlib.pyplot as plt # Funções de plotagem de importação\n",
    "from scipy.integrate import odeint\n",
    "def logistic(P, t, k, M): # Calcula valores derivados\n",
    "    dPdt = k*P*(M - P)\n",
    "    return dPdt\n",
    "\n",
    "P0 = 1 # Valor inicial para P\n",
    "t = np.linspace(0, 10) # Array de valores de tempo\n",
    "k = 0.1 # Controla a taxa de crescimento\n",
    "M = 10 # Tamanho máximo da população\n",
    "P = odeint(logistic, P0, t, args=(k, M)) # Chama odeint para resolver a EDO\n",
    "\n",
    "plt.plot(t, P) # Plote a solução contra o tempo\n",
    "\n",
    "plt.xlabel('Tempo') # Adicione um rótulo para o eixo x\n",
    "plt.ylabel('População') # Adicione um rótulo para o eixo y\n",
    "\n",
    "plt.title('Crescimento Populacional Logístico') # Adicione um título\n",
    "plt.show() # Finalmente, mostre a figura"
   ]
  },
  {
   "attachments": {},
   "cell_type": "markdown",
   "metadata": {},
   "source": [
    "#### Equações Lineares de Ordem Superior"
   ]
  },
  {
   "attachments": {},
   "cell_type": "markdown",
   "metadata": {},
   "source": [
    "O exemplo a seguir resolve a equação do oscilador harmônico amortecido"
   ]
  },
  {
   "attachments": {},
   "cell_type": "markdown",
   "metadata": {},
   "source": [
    "onde x é a posição de um corpo no tempo t, m é a massa do corpo, c é a constante de amortecimento\n",
    "e k é a constante da mola. Como esta é uma equação de segunda ordem, para usar odeint\n",
    "definimos o vetor y = [x, dx/dt] = [x, v]."
   ]
  },
  {
   "cell_type": "code",
   "execution_count": null,
   "metadata": {},
   "outputs": [],
   "source": [
    "import numpy as np # Importar linspace\n",
    "import matplotlib.pyplot as plt # Funções de plotagem de importação\n",
    "from scipy.integrate import odeint\n",
    "\n",
    "def damped(y, t, m, c, k): # Calcula valores derivados\n",
    "    x, v = y\n",
    "    a = -(c*v + k*x)/m\n",
    "    dydt = np.array([v, a])\n",
    "    return dydt\n",
    "\n",
    "y0 = np.array([1, 0]) # Posição inicial e velocidade\n",
    "t = np.linspace(0, 5, 200) # Array de valores de tempo\n",
    "m, c, k = 0.5, 1, 50 # Massa, amortecimento, constantes de mola\n",
    "y = odeint(damped, y0, t, args=(m, c, k)) # Chame odeint para resolver a EDO\n",
    "\n",
    "plt.plot(t, y[:, 0]) # Plote a solução contra o tempo\n",
    "plt.xlabel('time') # Adicione um rótulo para o eixo x\n",
    "plt.ylabel('x') # Adicione um rótulo para o eixo y\n",
    "\n",
    "plt.title('Movimento Harmônico Amortecido') # Adicione um título\n",
    "plt.show() # Adicione um título"
   ]
  },
  {
   "attachments": {},
   "cell_type": "markdown",
   "metadata": {},
   "source": [
    "#### Sistemas de Equações"
   ]
  },
  {
   "attachments": {},
   "cell_type": "markdown",
   "metadata": {},
   "source": [
    "O exemplo a seguir resolve um sistema de equações conhecido como modelo predador-presa. O estado\n",
    "é definido pela população de predadores y e suas presas x, juntamente com o par de equações"
   ]
  },
  {
   "attachments": {},
   "cell_type": "markdown",
   "metadata": {},
   "source": [
    "As constantes a, p, b e q controlam as taxas de crescimento e declínio devido às interações entre as\n",
    "espécies e às taxas naturais de nascimento e morte."
   ]
  },
  {
   "cell_type": "code",
   "execution_count": null,
   "metadata": {},
   "outputs": [],
   "source": [
    "import numpy as np # Importar linspace\n",
    "import matplotlib.pyplot as plt # Funções de plotagem\n",
    "from scipy.integrate import odeint\n",
    "\n",
    "def predator_prey(pp, t, a, p, b, q): # Calcula valores derivados\n",
    "    x, y = pp\n",
    "    dxdt = x*(a - p*y)\n",
    "    dydt = y*(-b + q*x)\n",
    "    dpp_dt = np.array([dxdt, dydt])\n",
    "    return dpp_dt\n",
    "\n",
    "pp0 = np.array([70, 30]) # Populações iniciais\n",
    "t = np.linspace(0, 80, 200) # Array de valores de tempo\n",
    "args = (0.2, 0.005, 0.5, 0.01) # Taxas de crescimento e declínio\n",
    "pp = odeint(predator_prey, pp0, t, args=args) # Chame odeint para resolver o sistema\n",
    "\n",
    "plt.plot(t, pp[:, 0], 'k', label='presa') # Plote a presa contra o tempo\n",
    "plt.plot(t, pp[:, 1], 'b', label='predadores') # Plote os predadores contra o tempo\n",
    "\n",
    "plt.xlabel('time') # Adicione um rótulo para o eixo x\n",
    "plt.ylabel('x, y') # Adicione um rótulo para o eixo y\n",
    "plt.title('Modelo Predador-Presa') # Adicione um título\n",
    "\n",
    "plt.legend() # Adicione uma legenda\n",
    "plt.show() # Finalmente, mostre a figura"
   ]
  },
  {
   "cell_type": "code",
   "execution_count": null,
   "metadata": {},
   "outputs": [],
   "source": [
    "%reload_ext watermark\n",
    "%watermark -a \"Caique Miranda\" -gu \"caiquemiranda\" -iv"
   ]
  },
  {
   "cell_type": "markdown",
   "metadata": {},
   "source": [
    "### End."
   ]
  }
 ],
 "metadata": {
  "kernelspec": {
   "display_name": "Python 3.10.5 64-bit",
   "language": "python",
   "name": "python3"
  },
  "language_info": {
   "codemirror_mode": {
    "name": "ipython",
    "version": 3
   },
   "file_extension": ".py",
   "mimetype": "text/x-python",
   "name": "python",
   "nbconvert_exporter": "python",
   "pygments_lexer": "ipython3",
   "version": "3.10.5"
  },
  "orig_nbformat": 4,
  "vscode": {
   "interpreter": {
    "hash": "74af3d2f25f1e46ebd2903d59225d79e4675ec224d56c01fc30cd168c2010d53"
   }
  }
 },
 "nbformat": 4,
 "nbformat_minor": 2
}
