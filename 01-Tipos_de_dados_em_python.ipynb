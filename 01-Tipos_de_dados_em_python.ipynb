{
 "cells": [
  {
   "attachments": {},
   "cell_type": "markdown",
   "metadata": {},
   "source": [
    "### Tipos de dados em python"
   ]
  },
  {
   "attachments": {},
   "cell_type": "markdown",
   "metadata": {},
   "source": [
    "Python é uma linguagem de alto nível flexível e poderosa que é adequada para computação científica e\n",
    "matemática. Ele foi projetado com uma sintaxe clara e expressiva com foco em garantir que o código seja\n",
    "legível."
   ]
  },
  {
   "attachments": {},
   "cell_type": "markdown",
   "metadata": {},
   "source": [
    "#### Números"
   ]
  },
  {
   "attachments": {},
   "cell_type": "markdown",
   "metadata": {},
   "source": [
    "Os tipos numéricos básicos usados em Python são:\n",
    "\n",
    "- Números inteiros.\n",
    "- Float (reais).\n",
    "- Números complexos (pares de floats)."
   ]
  },
  {
   "attachments": {},
   "cell_type": "markdown",
   "metadata": {},
   "source": [
    "O Python converterá automaticamente os números de um tipo para outro quando apropriado.\n",
    "Por exemplo, somar dois inteiros resulta em um inteiro, mas somar um inteiro e um float produz um float. As\n",
    "principais operações aritméticas são +, -, *, / e **. As operações são avaliadas na ordem padrão - Parênteses,\n",
    "Exponenciação, Multiplicação, Divisão, Adição, Subtração. Para evitar possíveis ambigüidades, use\n",
    "parênteses para deixar clara a ordem de avaliação."
   ]
  },
  {
   "cell_type": "code",
   "execution_count": null,
   "metadata": {},
   "outputs": [],
   "source": [
    "# adição\n",
    "\n",
    "3 + 2"
   ]
  },
  {
   "cell_type": "code",
   "execution_count": null,
   "metadata": {},
   "outputs": [],
   "source": [
    "# subtração\n",
    "\n",
    "3 - 2"
   ]
  },
  {
   "cell_type": "code",
   "execution_count": null,
   "metadata": {},
   "outputs": [],
   "source": [
    "# multiplicação\n",
    "\n",
    "3 * 2"
   ]
  },
  {
   "cell_type": "code",
   "execution_count": null,
   "metadata": {},
   "outputs": [],
   "source": [
    "# divisão \n",
    "\n",
    "3 / 2"
   ]
  },
  {
   "cell_type": "code",
   "execution_count": null,
   "metadata": {},
   "outputs": [],
   "source": [
    "# exponenciação (não 3^2)\n",
    "\n",
    "3 ** 2"
   ]
  },
  {
   "attachments": {},
   "cell_type": "markdown",
   "metadata": {},
   "source": [
    "Algumas outras operações úteis são divisão de piso (//), módulo (%) e valor absoluto (abs)."
   ]
  },
  {
   "cell_type": "code",
   "execution_count": null,
   "metadata": {},
   "outputs": [],
   "source": [
    "# A divisão por andar retorna a parte integral do quociente.\n",
    "\n",
    "3 // 2"
   ]
  },
  {
   "cell_type": "code",
   "execution_count": null,
   "metadata": {},
   "outputs": [],
   "source": [
    "# modulo retorna o restante.\n",
    "\n",
    "12 % 5 "
   ]
  },
  {
   "cell_type": "code",
   "execution_count": null,
   "metadata": {},
   "outputs": [],
   "source": [
    "# abs retorna o valor absoluto.\n",
    "\n",
    "abs(-231)"
   ]
  },
  {
   "attachments": {},
   "cell_type": "markdown",
   "metadata": {},
   "source": [
    "Python tem um tipo de número complexo integrado e conhece as regras da aritmética complexa."
   ]
  },
  {
   "cell_type": "code",
   "execution_count": null,
   "metadata": {},
   "outputs": [],
   "source": [
    "# Gere um número complexo (j é usado em vez de i).\n",
    "\n",
    "1 + 2j"
   ]
  },
  {
   "cell_type": "code",
   "execution_count": null,
   "metadata": {},
   "outputs": [],
   "source": [
    "# Outra maneira de gerar um número complexo.\n",
    "\n",
    "complex(1, 3)"
   ]
  },
  {
   "cell_type": "code",
   "execution_count": null,
   "metadata": {},
   "outputs": [],
   "source": [
    "# real retorna a parte real de um número complexo.\n",
    "\n",
    "(2 + 6j).real"
   ]
  },
  {
   "cell_type": "code",
   "execution_count": null,
   "metadata": {},
   "outputs": [],
   "source": [
    "# imag retorna a parte imaginária de um número complexo.\n",
    "\n",
    "(1 + 3j).imag"
   ]
  },
  {
   "cell_type": "code",
   "execution_count": null,
   "metadata": {},
   "outputs": [],
   "source": [
    "# abs retorna o módulo quando aplicado a um número complexo.\n",
    "\n",
    "abs(3 + 4j)"
   ]
  },
  {
   "cell_type": "code",
   "execution_count": null,
   "metadata": {},
   "outputs": [],
   "source": [
    "# Observe que um '1' é necessário na frente do j.\n",
    "\n",
    "z = 1+2j\n",
    "w = 3 -1j"
   ]
  },
  {
   "cell_type": "code",
   "execution_count": null,
   "metadata": {},
   "outputs": [],
   "source": [
    "# Adição complexa.\n",
    "\n",
    "z + w"
   ]
  },
  {
   "cell_type": "code",
   "execution_count": null,
   "metadata": {},
   "outputs": [],
   "source": [
    "# Multiplicação complexa.\n",
    "\n",
    "z * w"
   ]
  },
  {
   "attachments": {},
   "cell_type": "markdown",
   "metadata": {},
   "source": [
    "#### Booleanos"
   ]
  },
  {
   "attachments": {},
   "cell_type": "markdown",
   "metadata": {},
   "source": [
    "Python também possui um tipo booleano, que aceita apenas os valores True ou False. Eles também\n",
    "podem ser usados como números, onde True tem o valor 1 e False o valor 0."
   ]
  },
  {
   "cell_type": "code",
   "execution_count": null,
   "metadata": {},
   "outputs": [],
   "source": [
    "# disjunção lógica\n",
    "\n",
    "True or False"
   ]
  },
  {
   "cell_type": "code",
   "execution_count": null,
   "metadata": {},
   "outputs": [],
   "source": [
    "# conjunção lógica\n",
    "\n",
    "True and False"
   ]
  },
  {
   "cell_type": "code",
   "execution_count": null,
   "metadata": {},
   "outputs": [],
   "source": [
    "# negação lógica\n",
    "\n",
    "not True"
   ]
  },
  {
   "cell_type": "code",
   "execution_count": null,
   "metadata": {},
   "outputs": [],
   "source": [
    "# Verdadeiro tem o valor numérico 1.\n",
    "\n",
    "True + 41"
   ]
  },
  {
   "cell_type": "code",
   "execution_count": null,
   "metadata": {},
   "outputs": [],
   "source": [
    "# Falso tem o valor numérico 0.\n",
    "\n",
    "False * 41"
   ]
  },
  {
   "attachments": {},
   "cell_type": "markdown",
   "metadata": {},
   "source": [
    "#### Strings"
   ]
  },
  {
   "attachments": {},
   "cell_type": "markdown",
   "metadata": {},
   "source": [
    "Strings são sequências de caracteres. Eles são identificados por aspas."
   ]
  },
  {
   "attachments": {},
   "cell_type": "markdown",
   "metadata": {},
   "source": [
    "- Para gerar uma string, coloque uma sequência de caracteres entre aspas simples ('') ou duplas (””)\n",
    "(o Python não se importa com qual).\n",
    "- Um único caractere em Python é apenas uma string de um elemento.\n",
    "- As strings do Python são imutáveis - uma vez definidas, não podem ser alteradas. eles podem de curso ainda pode ser copiado ou operado para criar novas strings."
   ]
  },
  {
   "cell_type": "code",
   "execution_count": null,
   "metadata": {},
   "outputs": [],
   "source": [
    "# imprimir envia o texto para a tela (descartando as aspas).\n",
    "\n",
    "print(\"abc\")"
   ]
  },
  {
   "cell_type": "code",
   "execution_count": null,
   "metadata": {},
   "outputs": [],
   "source": [
    "# Adicionar duas strings cria uma nova string por concatenação.\n",
    "\n",
    "'abc' + 'def'"
   ]
  },
  {
   "cell_type": "code",
   "execution_count": null,
   "metadata": {},
   "outputs": [],
   "source": [
    "# Multiplicar uma string por um inteiro repete a string.\n",
    "\n",
    "'abc' * 3"
   ]
  },
  {
   "cell_type": "code",
   "execution_count": null,
   "metadata": {},
   "outputs": [],
   "source": [
    "# O caractere ”\\n” especifica uma nova linha.\n",
    "\n",
    "print(\"I love 'MTH 337' !\")"
   ]
  },
  {
   "attachments": {},
   "cell_type": "markdown",
   "metadata": {},
   "source": [
    "Um ”\\” dentro de uma string é usado para especificar caracteres especiais, como novas linhas e tabulações."
   ]
  },
  {
   "cell_type": "code",
   "execution_count": null,
   "metadata": {},
   "outputs": [],
   "source": [
    "# O caractere ”\\n” especifica uma nova linha.\n",
    "\n",
    "string_1 = 'abc\\ndef'\n",
    "print(string_1)"
   ]
  },
  {
   "cell_type": "code",
   "execution_count": null,
   "metadata": {},
   "outputs": [],
   "source": [
    "# O caractere ”\\t” especifica uma tabulação.\n",
    "\n",
    "string_2 = 'abc\\tdef'"
   ]
  },
  {
   "attachments": {},
   "cell_type": "markdown",
   "metadata": {},
   "source": [
    "Os elementos strings são acessados usando colchetes, []."
   ]
  },
  {
   "attachments": {},
   "cell_type": "markdown",
   "metadata": {},
   "source": [
    "- A indexação obtém caracteres da string usando um único inteiro para identificar a posição do\n",
    "caractere.\n",
    "- O fatiamento obtém uma substring usando start:stop:step para especificar os caracteres a serem selecionados.\n",
    "- A indexação e divisão são baseadas em zero - o primeiro caractere está na posição 0.\n",
    "- Indexar e fatiar é “até, mas não incluindo” a posição de parada.\n",
    "- Um ”:” pode ser usado para selecionar todos os caracteres antes ou depois de uma determinada posição."
   ]
  },
  {
   "attachments": {},
   "cell_type": "markdown",
   "metadata": {},
   "source": [
    "Indexando a string ”abcde”\n",
    "\n",
    "|a|b|c|d|e|\n",
    "|---|---|---|---|---|\n",
    "|0|1|2|3|4|"
   ]
  },
  {
   "cell_type": "code",
   "execution_count": null,
   "metadata": {},
   "outputs": [],
   "source": [
    "# Indexando o caractere no índice 1 (os índices começam em 0, não em 1).\n",
    "\n",
    "\"abcde\"[1]"
   ]
  },
  {
   "cell_type": "code",
   "execution_count": null,
   "metadata": {},
   "outputs": [],
   "source": [
    "# Indices negativos contam para trás a partir do final da string.\n",
    "\n",
    "'abcde'[-1]"
   ]
  },
  {
   "cell_type": "code",
   "execution_count": null,
   "metadata": {},
   "outputs": [],
   "source": [
    "# Fatiar uma corda da posição 1 até (mas não incluindo) a posição 4.\n",
    "\n",
    "\"abcde\"[1:4]"
   ]
  },
  {
   "cell_type": "code",
   "execution_count": null,
   "metadata": {},
   "outputs": [],
   "source": [
    "# Selecione todos os caracteres da posição 2 até o final da string.\n",
    "\n",
    "\"abcde\"[2:]"
   ]
  },
  {
   "cell_type": "code",
   "execution_count": null,
   "metadata": {},
   "outputs": [],
   "source": [
    "# Selecione todos os caracteres desde o início da string até (mas não incluindo) a posição 2.\n",
    "\n",
    "\"abcde\"[:2]"
   ]
  },
  {
   "cell_type": "code",
   "execution_count": null,
   "metadata": {},
   "outputs": [],
   "source": [
    "# Selecione cada segundo caractere de toda a string.\n",
    "\n",
    "\"abcde\"[::2]"
   ]
  },
  {
   "cell_type": "code",
   "execution_count": null,
   "metadata": {},
   "outputs": [],
   "source": [
    "# Selecione cada segundo caractere das posições 1 até 5.\n",
    "\n",
    "\"abcdefg\"[1:5:2]"
   ]
  },
  {
   "cell_type": "code",
   "execution_count": null,
   "metadata": {},
   "outputs": [],
   "source": [
    "# Invertendo uma string lendo-a de trás para frente.\n",
    "\n",
    "\"abcde\"[::-1]"
   ]
  },
  {
   "attachments": {},
   "cell_type": "markdown",
   "metadata": {},
   "source": [
    "Métodos de string são comandos específicos para strings que executam alguma ação na string. Eles são chamados seguindo a string com um '.' seguido do nome do método."
   ]
  },
  {
   "cell_type": "code",
   "execution_count": null,
   "metadata": {},
   "outputs": [],
   "source": [
    "# upper converte todas as letras em maiúsculas.\n",
    "\n",
    "\"mth337\".upper()"
   ]
  },
  {
   "cell_type": "code",
   "execution_count": null,
   "metadata": {},
   "outputs": [],
   "source": [
    "# lower converte todas as letras em minúsculas.\n",
    "\n",
    "\"ABCDE\".lower()"
   ]
  },
  {
   "cell_type": "code",
   "execution_count": null,
   "metadata": {},
   "outputs": [],
   "source": [
    "# capitalize coloca a primeira letra em maiúscula.\n",
    "\n",
    "\"mth337\".capitalize()"
   ]
  },
  {
   "cell_type": "code",
   "execution_count": null,
   "metadata": {},
   "outputs": [],
   "source": [
    "# replace substitui todas as ocorrências de uma substring por outra substring.\n",
    "\n",
    "\"abcabcabc\".replace(\"c\", \"z\")"
   ]
  },
  {
   "cell_type": "code",
   "execution_count": null,
   "metadata": {},
   "outputs": [],
   "source": [
    "# split divide uma string em uma lista de palavras.\n",
    "\n",
    "\"I love MTH337!\".split()"
   ]
  },
  {
   "attachments": {},
   "cell_type": "markdown",
   "metadata": {},
   "source": [
    "Os métodos de string também podem ser usados para contar o número de vezes que uma determinada substring\n",
    "ocorre e para descobrir onde ela ocorre."
   ]
  },
  {
   "cell_type": "code",
   "execution_count": null,
   "metadata": {},
   "outputs": [],
   "source": [
    "# count conta o número de vezes que um item ocorre em uma lista.\n",
    "\n",
    "\"avada kedavra\".count(\"a\")"
   ]
  },
  {
   "cell_type": "code",
   "execution_count": null,
   "metadata": {},
   "outputs": [],
   "source": [
    "# index localiza o índice onde uma substring ocorre em uma string.\n",
    "\n",
    "\"avada kedavra\".index(\"ked\")"
   ]
  },
  {
   "attachments": {},
   "cell_type": "markdown",
   "metadata": {},
   "source": [
    "#### Formatação de strings"
   ]
  },
  {
   "attachments": {},
   "cell_type": "markdown",
   "metadata": {},
   "source": [
    "Strings podem ser formatadas usando a função format . Isso permite que “campos de substituição” entre\n",
    "chaves {} em uma string sejam substituídos por alguns outros dados. ”Especificações de formato” nos\n",
    "campos de substituição definem como os dados devem ser formatados, incluindo a largura do campo,\n",
    "preenchimento e número de casas decimais."
   ]
  },
  {
   "attachments": {},
   "cell_type": "markdown",
   "metadata": {},
   "source": [
    "- Campos de substituição vazios {} são preenchidos em ordem com os argumentos fornecidos.\n",
    "- Os números dentro dos campos de substituição especificam os argumentos por posição, começando com zero."
   ]
  },
  {
   "cell_type": "code",
   "execution_count": null,
   "metadata": {},
   "outputs": [],
   "source": [
    "# ”Campos de substituição” {} são preenchidos em ordem por formato.\n",
    " \n",
    "\"{} {}\".format(\"a\", \"b\")"
   ]
  },
  {
   "cell_type": "code",
   "execution_count": null,
   "metadata": {},
   "outputs": [],
   "source": [
    "# Os argumentos para formatar também podem ser identificados por posição, começando em 0.\n",
    "\n",
    "\"1st: {0}, 2nd: {1}\".format(3,4)"
   ]
  },
  {
   "attachments": {},
   "cell_type": "markdown",
   "metadata": {},
   "source": [
    "As especificações de formato para a largura e preenchimento do campo são fornecidas após dois pontos ':'."
   ]
  },
  {
   "attachments": {},
   "cell_type": "markdown",
   "metadata": {},
   "source": [
    "- Uma largura de campo pode ser especificada usando :n onde n é um número inteiro que especifica o\n",
    "número de caracteres no campo.\n",
    "- Se os dados tiverem menos caracteres que a largura do campo, o padrão é inserir caracteres extras espaços à direita, ou seja, \"pad\" à direita.\n",
    "- Para preencher à esquerda, use :>n. Para preencher explicitamente à direita, use :<n. Os > e < são como\n",
    "setas direcionais “enviando” os dados para o lado indicado do campo.\n",
    "- Os dados podem ser centralizados em um campo de substituição usando :ˆn."
   ]
  },
  {
   "cell_type": "code",
   "execution_count": null,
   "metadata": {},
   "outputs": [],
   "source": [
    "# Usando um campo de largura 5 com o preenchimento padrão.\n",
    "\n",
    "print(\"{:5} {}\".format(\"a\", 2))"
   ]
  },
  {
   "cell_type": "code",
   "execution_count": null,
   "metadata": {},
   "outputs": [],
   "source": [
    "# Observe o preenchimento esquerdo neste exemplo.\n",
    "\n",
    "print(\"{:>5} {}\".format(\"a\", 2))"
   ]
  },
  {
   "cell_type": "code",
   "execution_count": null,
   "metadata": {},
   "outputs": [],
   "source": [
    "# Agora centralizando 'a' no campo de largura 5.\n",
    "\n",
    "print(\"{:^5} {}\".format(\"a\", 2))"
   ]
  },
  {
   "attachments": {},
   "cell_type": "markdown",
   "metadata": {},
   "source": [
    "As especificações de formato para floats permitem que as tabelas de dados numéricos sejam impressas e alinhadas de forma\n",
    "organizada."
   ]
  },
  {
   "attachments": {},
   "cell_type": "markdown",
   "metadata": {},
   "source": [
    "- Inteiros são referidos usando :d.\n",
    "- Os floats são referidos usando :f.\n",
    "- Um número inteiro após um ponto decimal é usado para indicar quantas casas decimais mostrar.\n",
    "- Use :n.mf para indicar um campo de substituição de largura n para um float impresso em m decimal lugares"
   ]
  },
  {
   "cell_type": "code",
   "execution_count": null,
   "metadata": {},
   "outputs": [],
   "source": [
    "# Imprimir pi em um campo de largura de 5 a 2 casas decimais\n",
    "\n",
    "from cmath import pi\n",
    "\n",
    "print(\"{:5.2f}\".format(pi))"
   ]
  },
  {
   "cell_type": "code",
   "execution_count": null,
   "metadata": {},
   "outputs": [],
   "source": [
    "# O preenchimento pode ser combinado com outras opções se o preenchimento for especificado primeiro.\n",
    "\n",
    "print(\"{:^10.4f}\".format(pi))"
   ]
  },
  {
   "attachments": {},
   "cell_type": "markdown",
   "metadata": {},
   "source": [
    "#### Conversões de Tipo"
   ]
  },
  {
   "attachments": {},
   "cell_type": "markdown",
   "metadata": {},
   "source": [
    "Os objetos podem ser explicitamente convertidos de um tipo para outro, desde que a conversão faça sentido.\n",
    "Isso é chamado de conversão de tipo."
   ]
  },
  {
   "attachments": {},
   "cell_type": "markdown",
   "metadata": {},
   "source": [
    "- Ints podem ser convertidos em floats, e tanto ints quanto floats podem ser convertidos em números complexos.\n",
    "- Números complexos não podem ser convertidos em ints ou floats.\n",
    "- Qualquer objeto pode ser convertido em uma string.\n",
    "- As strings podem ser convertidas em tipos numéricos se a string representar um número válido."
   ]
  },
  {
   "attachments": {},
   "cell_type": "markdown",
   "metadata": {},
   "source": [
    "A conversão é feita usando as funções bool, int, float, complex e str."
   ]
  },
  {
   "cell_type": "code",
   "execution_count": null,
   "metadata": {},
   "outputs": [],
   "source": [
    "# Convert integer to boolean.\n",
    "\n",
    "bool(1)"
   ]
  },
  {
   "cell_type": "code",
   "execution_count": null,
   "metadata": {},
   "outputs": [],
   "source": [
    "# Any nonzero value counts as True.\n",
    "\n",
    "bool(42)"
   ]
  },
  {
   "cell_type": "code",
   "execution_count": null,
   "metadata": {},
   "outputs": [],
   "source": [
    "# Zero equates to False.\n",
    "\n",
    "bool(0)"
   ]
  },
  {
   "cell_type": "code",
   "execution_count": null,
   "metadata": {},
   "outputs": [],
   "source": [
    "# An empty string is also False.\n",
    "\n",
    "bool(\"\")"
   ]
  },
  {
   "cell_type": "code",
   "execution_count": null,
   "metadata": {},
   "outputs": [],
   "source": [
    "# Convert float to integer (the decimal part is discarded).\n",
    "\n",
    "int(2.99)"
   ]
  },
  {
   "cell_type": "code",
   "execution_count": null,
   "metadata": {},
   "outputs": [],
   "source": [
    "# Convert string to int.\n",
    "\n",
    "int(\"22\")"
   ]
  },
  {
   "cell_type": "code",
   "execution_count": null,
   "metadata": {},
   "outputs": [],
   "source": [
    "# Convert string to float.\n",
    "\n",
    "float(\"4.567\")"
   ]
  },
  {
   "cell_type": "code",
   "execution_count": null,
   "metadata": {},
   "outputs": [],
   "source": [
    "# Convert string to complex.\n",
    "\n",
    "complex(\"1+2j\")"
   ]
  },
  {
   "cell_type": "code",
   "execution_count": null,
   "metadata": {},
   "outputs": [],
   "source": [
    "# Convert integer to float.\n",
    "\n",
    "float(10)"
   ]
  },
  {
   "cell_type": "code",
   "execution_count": null,
   "metadata": {},
   "outputs": [],
   "source": [
    "# convert integer to complex number\n",
    "\n",
    "complex(10)"
   ]
  },
  {
   "cell_type": "code",
   "execution_count": null,
   "metadata": {},
   "outputs": [],
   "source": [
    "# convert boolean to string\n",
    "\n",
    "str(True)"
   ]
  },
  {
   "cell_type": "code",
   "execution_count": null,
   "metadata": {},
   "outputs": [],
   "source": [
    "# convert integer 1 to string\n",
    "\n",
    "str(1)"
   ]
  },
  {
   "cell_type": "code",
   "execution_count": null,
   "metadata": {},
   "outputs": [],
   "source": [
    "# convert float to string\n",
    "\n",
    "str(1.234)"
   ]
  },
  {
   "cell_type": "markdown",
   "metadata": {},
   "source": [
    "### Variable Names"
   ]
  },
  {
   "cell_type": "code",
   "execution_count": null,
   "metadata": {},
   "outputs": [],
   "source": [
    "# assign x the value 5(note that '=' is used for assignment, not '==').\n",
    "\n",
    "x = 5\n",
    "print(x)"
   ]
  },
  {
   "cell_type": "code",
   "execution_count": null,
   "metadata": {},
   "outputs": [],
   "source": [
    "# assign y the value of x + 3.\n",
    "\n",
    "y = x + 3\n",
    "print(y)"
   ]
  },
  {
   "cell_type": "code",
   "execution_count": null,
   "metadata": {},
   "outputs": [],
   "source": [
    "# course is a string (printed without quotes)\n",
    "\n",
    "course = 'MTH 337'\n",
    "print(course)"
   ]
  },
  {
   "cell_type": "code",
   "execution_count": null,
   "metadata": {},
   "outputs": [],
   "source": [
    "# multiple variables can be assigned the same time\n",
    "\n",
    "a, b = 2, 3\n",
    "print(a, b)"
   ]
  },
  {
   "cell_type": "code",
   "execution_count": null,
   "metadata": {},
   "outputs": [],
   "source": [
    "# the values of a and b are swapped(note that the right hand side is evaluated completely before the assignment is done).\n",
    "\n",
    "a, b = b, a\n",
    "print(a, b)"
   ]
  },
  {
   "cell_type": "code",
   "execution_count": null,
   "metadata": {},
   "outputs": [],
   "source": [
    "# same as z = z + 2\n",
    "\n",
    "z = 3\n",
    "z += 2\n",
    "print(z)"
   ]
  },
  {
   "cell_type": "code",
   "execution_count": null,
   "metadata": {},
   "outputs": [],
   "source": [
    "# same as z = z -1\n",
    "\n",
    "z -= 1\n",
    "print(z)"
   ]
  },
  {
   "cell_type": "code",
   "execution_count": null,
   "metadata": {},
   "outputs": [],
   "source": [
    "# same as z = z * 3\n",
    "\n",
    "z *= 3\n",
    "print(z)"
   ]
  },
  {
   "cell_type": "code",
   "execution_count": null,
   "metadata": {},
   "outputs": [],
   "source": [
    "# same as z = z / 2\n",
    "\n",
    "z /= 2\n",
    "print(z)"
   ]
  },
  {
   "cell_type": "code",
   "execution_count": null,
   "metadata": {},
   "outputs": [],
   "source": [
    "# same as z = z % 5\n",
    "\n",
    "z %= 5\n",
    "print(z) "
   ]
  },
  {
   "cell_type": "code",
   "execution_count": null,
   "metadata": {},
   "outputs": [],
   "source": [
    "%reload_ext watermark\n",
    "%watermark -a \"Caique Miranda\" -gu \"caiquemiranda\" -iv"
   ]
  },
  {
   "cell_type": "markdown",
   "metadata": {},
   "source": [
    "### End"
   ]
  }
 ],
 "metadata": {
  "kernelspec": {
   "display_name": "Python 3.10.5 64-bit",
   "language": "python",
   "name": "python3"
  },
  "language_info": {
   "codemirror_mode": {
    "name": "ipython",
    "version": 3
   },
   "file_extension": ".py",
   "mimetype": "text/x-python",
   "name": "python",
   "nbconvert_exporter": "python",
   "pygments_lexer": "ipython3",
   "version": "3.10.5"
  },
  "orig_nbformat": 4,
  "vscode": {
   "interpreter": {
    "hash": "74af3d2f25f1e46ebd2903d59225d79e4675ec224d56c01fc30cd168c2010d53"
   }
  }
 },
 "nbformat": 4,
 "nbformat_minor": 2
}
