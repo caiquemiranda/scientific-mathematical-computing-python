{
 "cells": [
  {
   "attachments": {},
   "cell_type": "markdown",
   "metadata": {},
   "source": [
    "### NumPy"
   ]
  },
  {
   "attachments": {},
   "cell_type": "markdown",
   "metadata": {},
   "source": [
    "NumPy (Numerical Python) é o pacote fundamental para computação científica com Python. Ele define\n",
    "um novo tipo de contêiner - o ndarray (geralmente chamado apenas de array) - que suporta computação\n",
    "rápida e eficiente. O NumPy também define as rotinas básicas para acessar e manipular esses arrays."
   ]
  },
  {
   "attachments": {},
   "cell_type": "markdown",
   "metadata": {},
   "source": [
    "Arrays têm as seguintes propriedades (entre outras):\n",
    "\n",
    "- Uma forma, que é uma tupla de inteiros. O número de inteiros é o número de dimensões na matriz e\n",
    "os inteiros especificam o tamanho de cada dimensão.\n",
    "- A dtype (data-type), que especifica o tipo dos objetos armazenados no array.\n",
    "  "
   ]
  },
  {
   "attachments": {},
   "cell_type": "markdown",
   "metadata": {},
   "source": [
    "No NumPy, as dimensões de uma matriz são chamadas de eixos. Um exemplo de array com dtype int e\n",
    "shape ((4, 5)) é mostrado abaixo. O primeiro eixo tem quatro elementos, cada um dos quais é uma matriz\n",
    "unidimensional com 5 elementos."
   ]
  },
  {
   "attachments": {},
   "cell_type": "markdown",
   "metadata": {},
   "source": [
    "[[ 0 1 2 3 4 ] [ 5 6 7 8 9 ] [ 10\n",
    "11 12 13 14 ] [ 15 16 17 18\n",
    "19 ]]"
   ]
  },
  {
   "attachments": {},
   "cell_type": "markdown",
   "metadata": {},
   "source": [
    "As principais diferenças entre arrays NumPy e listas Python são:\n",
    "\n",
    "- Os objetos em uma matriz NumPy devem ser todos do mesmo tipo - booleanos, inteiros, floats, números complexos ou strings.\n",
    "- • O tamanho de uma matriz é fixado na criação e não pode ser alterado posteriormente.\n",
    "- Os arrays podem ser multidimensionais.\n",
    "- Operações matemáticas podem ser aplicadas diretamente a arrays. Quando isso é feito, eles são\n",
    "aplicados elemento a elemento ao array, gerando outro array como saída. Isso é muito mais rápido\n",
    "do que iterar em uma lista.\n",
    "- A indexação para arrays é mais poderosa do que para listas e inclui a indexação usando arrays\n",
    "inteiros e booleanos.\n",
    "- Fatiar um array produz uma visualização do array original, não uma cópia. Modificando isso view mudará o array original."
   ]
  },
  {
   "attachments": {},
   "cell_type": "markdown",
   "metadata": {},
   "source": [
    "####  Criação de Array"
   ]
  },
  {
   "attachments": {},
   "cell_type": "markdown",
   "metadata": {},
   "source": [
    "Array NumPy podem ser criadas: \n",
    "\n",
    "- De uma lista. Os elementos da lista precisam ser todos do mesmo tipo ou de um tipo que possa ser convertido\n",
    "para o mesmo tipo. Por exemplo, uma lista que consiste em inteiros e flutuantes gerará uma matriz de flutuantes,\n",
    "pois os inteiros podem ser convertidos em flutuantes.\n",
    "- De acordo com uma determinada forma. A matriz será inicializada de forma diferente, dependendo do função usada.\n",
    "- De outra matriz. A nova matriz terá o mesmo formato da matriz existente, e pode ser uma cópia ou inicializado com alguns outros valores.\n",
    "- Como resultado de uma operação em outros arrays. Os operadores matemáticos padrão podem ser aplicados\n",
    "diretamente a arrays. O resultado é um array da mesma forma onde a operação foi realizada separadamente\n",
    "nos elementos correspondentes."
   ]
  },
  {
   "attachments": {},
   "cell_type": "markdown",
   "metadata": {},
   "source": [
    "As funções a seguir são as principais:\n",
    "\n",
    "|func|Des|\n",
    "|---|---|\n",
    "|-|Crie uma matriz a partir de uma lista.|\n",
    "|-|Retorna uma matriz de números espaçados uniformemente em um intervalo especificado|\n",
    "|-|Retorna uma matriz de inteiros espaçados uniformemente dentro de um determinado intervalo|\n",
    "|-|Retorna um novo array de uma determinada forma e tipo, sem inicializar as entradas.|\n",
    "|-|Retorna um novo array de uma determinada forma e tipo, preenchido com zeros.|\n",
    "|-|Retorna um novo array de uma determinada forma e tipo, preenchido com uns.|\n",
    "|-|Retorna uma nova matriz com a mesma forma e tipo de uma determinada matriz.|\n",
    "|-|Retorna uma matriz de zeros com a mesma forma e tipo de uma determinada matriz.|\n",
    "|-|Retorne uma matriz de uns com a mesma forma e tipo de uma determinada matriz.|\n",
    "|-|Retorna uma cópia de array do objeto fornecido.|\n",
    "|-|Retorna um par de matrizes de grade 2D x e y de matrizes de coordenadas 1D x e y.|"
   ]
  },
  {
   "attachments": {},
   "cell_type": "markdown",
   "metadata": {},
   "source": [
    "Estas funções são ilustradas abaixo. O alias \"np\" é uma prática padrão ao usar o NumPy."
   ]
  },
  {
   "cell_type": "code",
   "execution_count": null,
   "metadata": {},
   "outputs": [],
   "source": [
    "# array(object) cria um array a partir de uma lista - \n",
    "# observe que os arrays são impressos sem vírgulas.\n",
    "\n",
    "import numpy as np\n",
    "\n",
    "x=np.array([1,2,3])\n",
    "print(x)"
   ]
  },
  {
   "cell_type": "code",
   "execution_count": null,
   "metadata": {},
   "outputs": [],
   "source": [
    "# array(object, dtype) cria um array do tipo dtype - \n",
    "# os inteiros agora são convertidos em floats.\n",
    "\n",
    "x = np.array([1, 2, 3], dtype=float)\n",
    "print(x)"
   ]
  },
  {
   "cell_type": "code",
   "execution_count": null,
   "metadata": {},
   "outputs": [],
   "source": [
    "# linspace(start, stop, num) retorna num pontos igualmente espaçados, incluindo pontos finais.\n",
    "\n",
    "x = np.linspace(0, 1, 6)\n",
    "print(x)"
   ]
  },
  {
   "cell_type": "code",
   "execution_count": null,
   "metadata": {},
   "outputs": [],
   "source": [
    "# arange returns an array of evenly spaced values within a given interval.\n",
    "\n",
    "x = np.arange(5)\n",
    "print(x)"
   ]
  },
  {
   "cell_type": "markdown",
   "metadata": {},
   "source": [
    "The functions empty, zeros and ones all take a shape argument and create an array of\n",
    "that shape, initialized as appropriate."
   ]
  },
  {
   "cell_type": "code",
   "execution_count": null,
   "metadata": {},
   "outputs": [],
   "source": [
    "# empty(shape) returns an array of shape shape, \n",
    "# initially filled with garbage.\n",
    " \n",
    "x = np.empty((3, 2))\n",
    "print(x)"
   ]
  },
  {
   "cell_type": "code",
   "execution_count": null,
   "metadata": {},
   "outputs": [],
   "source": [
    "# zeros(shape) returns an array of shape shape filled with zeros - \n",
    "# note the default type is float.\n",
    "\n",
    "x = np.zeros((2, 3))\n",
    "print(x)"
   ]
  },
  {
   "cell_type": "code",
   "execution_count": null,
   "metadata": {},
   "outputs": [],
   "source": [
    "# ones(shape, dtype) returns an array of shape shape filled with\n",
    "# ones - using dtype=int casts the elements to type int.\n",
    "\n",
    "x = np.ones((2, 3), dtype=int)\n",
    "print(x)"
   ]
  },
  {
   "cell_type": "markdown",
   "metadata": {},
   "source": [
    "Arrays can be created directly from other arrays using empty like, zeros like, ones like\n",
    "and copy."
   ]
  },
  {
   "cell_type": "code",
   "execution_count": null,
   "metadata": {},
   "outputs": [],
   "source": [
    "# Create an array of floats using arange.\n",
    "\n",
    "x = np.arange(3, dtype=float)\n",
    "print(x)"
   ]
  },
  {
   "cell_type": "code",
   "execution_count": null,
   "metadata": {},
   "outputs": [],
   "source": [
    "# y has the same shape as x, but is initially filled with garbage.\n",
    "\n",
    "y = np.empty_like(x)\n",
    "print(y)"
   ]
  },
  {
   "cell_type": "code",
   "execution_count": null,
   "metadata": {},
   "outputs": [],
   "source": [
    "# y has the same shape as x, but is initialized with zeros.\n",
    "\n",
    "y = np.zeros_like(x)\n",
    "print(y)"
   ]
  },
  {
   "cell_type": "code",
   "execution_count": null,
   "metadata": {},
   "outputs": [],
   "source": [
    "# y has the same shape as x, but is initialized with ones.\n",
    "\n",
    "y = np.ones_like(x)\n",
    "print(y)"
   ]
  },
  {
   "cell_type": "code",
   "execution_count": null,
   "metadata": {},
   "outputs": [],
   "source": [
    "# y is a copy of x - changing y will not change x.\n",
    "\n",
    "y = np.copy(x)\n",
    "print(y)"
   ]
  },
  {
   "cell_type": "code",
   "execution_count": null,
   "metadata": {},
   "outputs": [],
   "source": [
    "# meshgrid creates 2D x- and\n",
    "# y- coordinate arrays from 1D\n",
    "# x- and y- coordinate arrays.\n",
    "\n",
    "x = np.arange(4)\n",
    "y = np.arange(3)\n",
    "X, Y = np.meshgrid(x, y)"
   ]
  },
  {
   "cell_type": "code",
   "execution_count": null,
   "metadata": {},
   "outputs": [],
   "source": [
    "# X is a 2D array containing just the x-coordinates of points in the xy plane.\n",
    "\n",
    "print(X)"
   ]
  },
  {
   "cell_type": "code",
   "execution_count": null,
   "metadata": {},
   "outputs": [],
   "source": [
    "# Y is a 2D array containing just the y-coordinates of points in the xy plane.\n",
    "\n",
    "print(Y)"
   ]
  },
  {
   "cell_type": "code",
   "execution_count": null,
   "metadata": {},
   "outputs": [],
   "source": [
    "# The function distance finds the distance of a point (x, y)\n",
    "# from the origin, rounded to 3 decimal places by the around function.\n",
    "from math import sqrt\n",
    "\n",
    "def distance(x, y):\n",
    "    return np.round(sqrt(x**2 + y**2), 3)\n",
    "\n",
    "print(distance(X, Y))"
   ]
  },
  {
   "cell_type": "markdown",
   "metadata": {},
   "source": [
    "### Array Properties"
   ]
  },
  {
   "cell_type": "code",
   "execution_count": null,
   "metadata": {},
   "outputs": [],
   "source": [
    "# x is of type numpy number\n",
    "import numpy as np\n",
    "\n",
    "x = np.arange(6)\n",
    "type(x)"
   ]
  },
  {
   "cell_type": "code",
   "execution_count": null,
   "metadata": {},
   "outputs": [],
   "source": [
    "# dtype return the element type a 32-bit integer\n",
    "\n",
    "x.dtype"
   ]
  },
  {
   "cell_type": "code",
   "execution_count": null,
   "metadata": {},
   "outputs": [],
   "source": [
    "# x is a 1-dimensional array with 6 elements in the first axis\n",
    "\n",
    "x.shape"
   ]
  },
  {
   "cell_type": "code",
   "execution_count": null,
   "metadata": {},
   "outputs": [],
   "source": [
    "# reshape creates a view of an array with the same number of elements, but a different shape.\n",
    "\n",
    "x = np.arange(6).reshape((2, 3))\n",
    "print(x)"
   ]
  },
  {
   "cell_type": "code",
   "execution_count": null,
   "metadata": {},
   "outputs": [],
   "source": [
    "# astype casts the integers in x to floats in y. This creates a\n",
    "# new array - modifying it will not alter the original.\n",
    "\n",
    "y = x.astype(float)\n",
    "print(y)"
   ]
  },
  {
   "cell_type": "markdown",
   "metadata": {},
   "source": [
    "### Array Operations"
   ]
  },
  {
   "cell_type": "code",
   "execution_count": null,
   "metadata": {},
   "outputs": [],
   "source": [
    "# Create an array of consecutive integers using arange.\n",
    "\n",
    "import numpy as np\n",
    "\n",
    "x = np.arange(4)\n",
    "print(x)"
   ]
  },
  {
   "cell_type": "code",
   "execution_count": null,
   "metadata": {},
   "outputs": [],
   "source": [
    "# 1 is added to every element of the array x\n",
    "\n",
    "print(x +1)"
   ]
  },
  {
   "cell_type": "code",
   "execution_count": null,
   "metadata": {},
   "outputs": [],
   "source": [
    "# Every element of the array x is mutiplied by 2\n",
    "\n",
    "print(x *2)"
   ]
  },
  {
   "cell_type": "code",
   "execution_count": null,
   "metadata": {},
   "outputs": [],
   "source": [
    "# Every element of the array x is squared\n",
    "\n",
    "print(x ** 2)"
   ]
  },
  {
   "cell_type": "code",
   "execution_count": null,
   "metadata": {},
   "outputs": [],
   "source": [
    "# create a second array\n",
    "\n",
    "# y = array([3, 2, 5, 1])"
   ]
  },
  {
   "cell_type": "code",
   "execution_count": null,
   "metadata": {},
   "outputs": [],
   "source": [
    "# The elements of x are added to the corresponding elements \n",
    "# of y on an element-by-element basis.\n",
    "\n",
    "print(x)\n",
    "print(y)\n",
    "print(x + y)"
   ]
  },
  {
   "cell_type": "code",
   "execution_count": null,
   "metadata": {},
   "outputs": [],
   "source": [
    "# Exponentiation is done using corresponding elements of the arrays x and y.\n",
    "\n",
    "print( x**y )"
   ]
  },
  {
   "cell_type": "code",
   "execution_count": null,
   "metadata": {},
   "outputs": [],
   "source": [
    "# The Boolean expression is evaluated for each element\n",
    "# separately, resulting in an array of booleans\n",
    "\n",
    "x = np.arange(5)\n",
    "print(x)\n",
    "print(x % 2 == 0)"
   ]
  },
  {
   "cell_type": "code",
   "execution_count": null,
   "metadata": {},
   "outputs": [],
   "source": [
    "# The comparison is done on an elementwise basis between elements \n",
    "# of arrays x amd y. The result is an array of booleans.\n",
    "\n",
    "x = np.arange(4)\n",
    "y = np.array([3, 2, 5, 1])\n",
    "print(x)\n",
    "print(y)\n",
    "print(x < y)"
   ]
  },
  {
   "cell_type": "code",
   "execution_count": null,
   "metadata": {},
   "outputs": [],
   "source": [
    "# Create an array\n",
    "\n",
    "x = np.arange(3)\n",
    "print(x)"
   ]
  },
  {
   "cell_type": "code",
   "execution_count": null,
   "metadata": {},
   "outputs": [],
   "source": [
    "# sin is applied to each element to create a new array\n",
    "\n",
    "print(np.sin(x))"
   ]
  },
  {
   "cell_type": "code",
   "execution_count": null,
   "metadata": {},
   "outputs": [],
   "source": [
    "# exp is the exponetial operator\n",
    "\n",
    "print(np.exp(x))"
   ]
  },
  {
   "cell_type": "code",
   "execution_count": null,
   "metadata": {},
   "outputs": [],
   "source": [
    "# random.randint return an array of a given size filled with randomly selected intergers form a given range.count\n",
    "\n",
    "x = np.random.randint(5, size=(2, 3))\n",
    "print(x)"
   ]
  },
  {
   "cell_type": "code",
   "execution_count": null,
   "metadata": {},
   "outputs": [],
   "source": [
    "# min and max calculate the minimum and maximum values across the entire array\n",
    "\n",
    "print(x.min(), x.max())"
   ]
  },
  {
   "cell_type": "code",
   "execution_count": null,
   "metadata": {},
   "outputs": [],
   "source": [
    "# The axis argument finds each minimum along a given axis.\n",
    "# The resulting array is the shape of the original array, but with the given axis removed.\n",
    "\n",
    "print(x.min(axis= 0))\n",
    "print(x.min(axis= 1))"
   ]
  },
  {
   "cell_type": "code",
   "execution_count": null,
   "metadata": {},
   "outputs": [],
   "source": [
    "# sum sums all the elements of an array\n",
    "\n",
    "print(x.sum())"
   ]
  },
  {
   "cell_type": "code",
   "execution_count": null,
   "metadata": {},
   "outputs": [],
   "source": [
    "# Providing the axis argument sums along the given axis.\n",
    "\n",
    "print(x.sum(axis= 0))"
   ]
  },
  {
   "cell_type": "markdown",
   "metadata": {},
   "source": [
    "### Array Indexing and Slicing"
   ]
  },
  {
   "cell_type": "code",
   "execution_count": null,
   "metadata": {},
   "outputs": [],
   "source": [
    "# reshape provides a fast way to create a 2D array from a 1D array.\n",
    "\n",
    "import numpy as np\n",
    "x = np.arange(20).reshape((4, 5))\n",
    "print(x)"
   ]
  },
  {
   "cell_type": "code",
   "execution_count": null,
   "metadata": {},
   "outputs": [],
   "source": [
    "# Indexing is done into each axis in order - row 1, column 2.\n",
    "\n",
    "print(x[1,2])"
   ]
  },
  {
   "cell_type": "code",
   "execution_count": null,
   "metadata": {},
   "outputs": [],
   "source": [
    "# Row 1 can be selected using an integer.\n",
    "\n",
    "print(x[1])"
   ]
  },
  {
   "cell_type": "code",
   "execution_count": null,
   "metadata": {},
   "outputs": [],
   "source": [
    "# Slicing can be used to select the first element of every axis (i.e. column 1).\n",
    "\n",
    "print(x[:,1])"
   ]
  },
  {
   "cell_type": "code",
   "execution_count": null,
   "metadata": {},
   "outputs": [],
   "source": [
    "# Slice rows 1 and 2 using 1:3, then slice columns 1, 2 and 3 using 1:4.\n",
    "\n",
    "print(x[1:3, 1:4])"
   ]
  },
  {
   "cell_type": "markdown",
   "metadata": {},
   "source": [
    "### Indexing with Integer Arrays"
   ]
  },
  {
   "cell_type": "code",
   "execution_count": null,
   "metadata": {},
   "outputs": [],
   "source": [
    "# First create the array using arange, \n",
    "# then square each element.\n",
    "\n",
    "import numpy as np\n",
    "x = np.arange(9)**2\n",
    "print(x)"
   ]
  },
  {
   "cell_type": "code",
   "execution_count": null,
   "metadata": {},
   "outputs": [],
   "source": [
    "# An array is returned containing elements from the first array,\n",
    "# selected according to the integers in the second array.\n",
    "\n",
    "index = np.array([2, 5])\n",
    "print(x[index])"
   ]
  },
  {
   "cell_type": "code",
   "execution_count": null,
   "metadata": {},
   "outputs": [],
   "source": [
    "# The indexing array contains integers that are used to index\n",
    "# into the target array. Note that the same elements (2, in this case) \n",
    "# can be selected more than once.\n",
    "\n",
    "index = np.array([[2, 3], [7, 2]])\n",
    "print(index)"
   ]
  },
  {
   "cell_type": "code",
   "execution_count": null,
   "metadata": {},
   "outputs": [],
   "source": [
    "# When indexing a one-dimensional array using an integer array, \n",
    "# the returned array has the same shape as the indexing array.\n",
    "\n",
    "print(x[index])"
   ]
  },
  {
   "cell_type": "code",
   "execution_count": null,
   "metadata": {},
   "outputs": [],
   "source": [
    "# The colors array is a two-dimensional array, so the\n",
    "# elements of colors are one-dimensional arrays (the rows).\n",
    "\n",
    "colors = np.array([[1., 0., 0.],\n",
    "                   [0., 1., 0.],\n",
    "                   [0., 0., 1.]])\n",
    "\n",
    "index = np.array([1, 0, 2, 1, 1, 0])\n",
    "\n",
    "print(colors[index])"
   ]
  },
  {
   "cell_type": "markdown",
   "metadata": {},
   "source": [
    "dimensional arrays (the rows). The colors array can be thought of as a \"lookup table\" - integer indexing looks up the elements of this table, and uses the values found to construct the result."
   ]
  },
  {
   "cell_type": "markdown",
   "metadata": {},
   "source": [
    "### Indexing with Boolean Arrays"
   ]
  },
  {
   "cell_type": "code",
   "execution_count": null,
   "metadata": {},
   "outputs": [],
   "source": [
    "# Only the elements with a matching True in the mask are selected.\n",
    "\n",
    "import numpy as np\n",
    "\n",
    "x = np.arange(4)\n",
    "mask = np.array([True, True, False, True])\n",
    "\n",
    "print(x)\n",
    "print(x[mask])"
   ]
  },
  {
   "cell_type": "code",
   "execution_count": null,
   "metadata": {},
   "outputs": [],
   "source": [
    "# index3 and index5 are boolean arrays containing\n",
    "# True elements for the integers that are divisible \n",
    "# by 3 and 5 respectively.\n",
    "\n",
    "x = np.arange(20)\n",
    "index3 = (x % 3 == 0)\n",
    "index5 = (x % 5 == 0)"
   ]
  },
  {
   "cell_type": "code",
   "execution_count": null,
   "metadata": {},
   "outputs": [],
   "source": [
    "# Select just the elements of x that are divisible by 3.\n",
    "\n",
    "print(x[index3])"
   ]
  },
  {
   "cell_type": "code",
   "execution_count": null,
   "metadata": {},
   "outputs": [],
   "source": [
    "# Select just the elements of x that are divisible by 5.\n",
    "\n",
    "print(x[index5])"
   ]
  },
  {
   "cell_type": "code",
   "execution_count": null,
   "metadata": {},
   "outputs": [],
   "source": [
    "# The function logical or performs an elementwise \"or\".\n",
    "# The result is the integers divisible by either 3 or 5.\n",
    "\n",
    "print(x[np.logical_or(index3, index5)])"
   ]
  },
  {
   "cell_type": "code",
   "execution_count": null,
   "metadata": {},
   "outputs": [],
   "source": [
    "%reload_ext watermark\n",
    "%watermark -a \"Caique Miranda\" -gu \"caiquemiranda\" -iv"
   ]
  },
  {
   "cell_type": "markdown",
   "metadata": {},
   "source": [
    "### End."
   ]
  }
 ],
 "metadata": {
  "kernelspec": {
   "display_name": "Python 3.10.5 64-bit",
   "language": "python",
   "name": "python3"
  },
  "language_info": {
   "codemirror_mode": {
    "name": "ipython",
    "version": 3
   },
   "file_extension": ".py",
   "mimetype": "text/x-python",
   "name": "python",
   "nbconvert_exporter": "python",
   "pygments_lexer": "ipython3",
   "version": "3.10.5"
  },
  "orig_nbformat": 4,
  "vscode": {
   "interpreter": {
    "hash": "74af3d2f25f1e46ebd2903d59225d79e4675ec224d56c01fc30cd168c2010d53"
   }
  }
 },
 "nbformat": 4,
 "nbformat_minor": 2
}
