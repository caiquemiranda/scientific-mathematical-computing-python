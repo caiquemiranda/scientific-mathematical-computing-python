{
 "cells": [
  {
   "cell_type": "markdown",
   "metadata": {},
   "source": [
    "### Array Creation"
   ]
  },
  {
   "cell_type": "markdown",
   "metadata": {},
   "source": [
    "- array - Create an array from a list.\n",
    "---\n",
    "- linspace - Return an array of evenly spaced numbers over a specified interval.\n",
    "---\n",
    "- arange - Return an array of evenly spaced integers within a given interval.\n",
    "---\n",
    "- empty - Return an a new array of a given shape and type, without initializing entries.\n",
    "---\n",
    "- zeros - Return an a new array of a given shape and type, filled with zeros.\n",
    "---\n",
    "- ones - Return an a new array of a given shape and type, filled with ones.\n",
    "---\n",
    "- empty_like - Return a new array with the same shape and type as a given array.\n",
    "---\n",
    "- zeros_like - Return an array of zeros with the same shape and type as a given array.\n",
    "---\n",
    "- ones_like - Return an array of ones with the same shape and type as a given array.\n",
    "---\n",
    "- copy - Return an array copy of the given object.\n",
    "---\n",
    "- meshgrid - Returns a pair of 2D x and y grid arrays from 1D x and y coordinate arrays."
   ]
  },
  {
   "cell_type": "code",
   "execution_count": 1,
   "metadata": {},
   "outputs": [
    {
     "name": "stdout",
     "output_type": "stream",
     "text": [
      "[1 2 3]\n"
     ]
    }
   ],
   "source": [
    "# array(object) creates an array from a list - \n",
    "# note that arrays are printed without commas.\n",
    "import numpy as np\n",
    "\n",
    "x=np.array([1,2,3])\n",
    "\n",
    "print(x)"
   ]
  },
  {
   "cell_type": "code",
   "execution_count": null,
   "metadata": {},
   "outputs": [],
   "source": [
    "array(object, dtype) creates\n",
    "an array of type dtype - the\n",
    "integers are now cast to \n",
    "oats.\n",
    "\n",
    "x = np.array([1, 2, 3], dtype=float)\n",
    "print(x)"
   ]
  },
  {
   "cell_type": "code",
   "execution_count": null,
   "metadata": {},
   "outputs": [],
   "source": [
    "linspace(start, stop, num)\n",
    "returns num equally spaced\n",
    "points, including endpoints.\n",
    "\n",
    "x = np.linspace(0, 1, 6)\n",
    "print(x)"
   ]
  },
  {
   "cell_type": "code",
   "execution_count": null,
   "metadata": {},
   "outputs": [],
   "source": [
    "arange returns an array of\n",
    "evenly spaced values within a\n",
    "given interval.\n",
    "\n",
    "x = np.arange(5)\n",
    "print(x)"
   ]
  },
  {
   "cell_type": "markdown",
   "metadata": {},
   "source": [
    "The functions empty, zeros and ones all take a shape argument and create an array of\n",
    "that shape, initialized as appropriate."
   ]
  },
  {
   "cell_type": "code",
   "execution_count": null,
   "metadata": {},
   "outputs": [],
   "source": [
    "empty(shape) returns an ar-\n",
    "ray of shape shape, initially\n",
    "\flled with garbage.\n",
    " \n",
    "x = np.empty((3, 2))\n",
    "print(x)"
   ]
  },
  {
   "cell_type": "code",
   "execution_count": null,
   "metadata": {},
   "outputs": [],
   "source": [
    "zeros(shape) returns an array\n",
    "of shape shape \flled with ze-\n",
    "ros - note the default type is float.\n",
    "\n",
    "x = np.zeros((2, 3))\n",
    "print(x)"
   ]
  },
  {
   "cell_type": "code",
   "execution_count": null,
   "metadata": {},
   "outputs": [],
   "source": [
    "ones(shape, dtype) returns an\n",
    "array of shape shape \flled with\n",
    "ones - using dtype=int casts\n",
    "the elements to type int.\n",
    "\n",
    "x = np.ones((2, 3), dtype=int)\n",
    "print(x)"
   ]
  },
  {
   "cell_type": "markdown",
   "metadata": {},
   "source": [
    "Arrays can be created directly from other arrays using empty like, zeros like, ones like\n",
    "and copy."
   ]
  },
  {
   "cell_type": "code",
   "execution_count": null,
   "metadata": {},
   "outputs": [],
   "source": [
    "Create an array of \n",
    "oats using\n",
    "arange.\n",
    "\n",
    "x = np.arange(3, dtype=float)\n",
    "print(x)"
   ]
  },
  {
   "cell_type": "code",
   "execution_count": null,
   "metadata": {},
   "outputs": [],
   "source": [
    "y has the same shape as x, but\n",
    "is initially \flled with garbage.\n",
    "\n",
    "y = np.empty_like(x)\n",
    "print(y)"
   ]
  },
  {
   "cell_type": "code",
   "execution_count": null,
   "metadata": {},
   "outputs": [],
   "source": [
    "y has the same shape as x, but\n",
    "is initialized with zeros.\n",
    "\n",
    "y = np.zeros_like(x)\n",
    "print(y)"
   ]
  },
  {
   "cell_type": "code",
   "execution_count": null,
   "metadata": {},
   "outputs": [],
   "source": [
    "y has the same shape as x, but\n",
    "is initialized with ones.\n",
    "\n",
    "y = np.ones_like(x)\n",
    "print(y)"
   ]
  },
  {
   "cell_type": "code",
   "execution_count": null,
   "metadata": {},
   "outputs": [],
   "source": [
    "y is a copy of x - changing y\n",
    "will not change x.\n",
    "\n",
    "y = np.copy(x)\n",
    "print(y)"
   ]
  },
  {
   "cell_type": "code",
   "execution_count": null,
   "metadata": {},
   "outputs": [],
   "source": [
    "meshgrid creates 2D x- and\n",
    "y- coordinate arrays from 1D\n",
    "x- and y- coordinate arrays.\n",
    "\n",
    "x = np.arange(4)\n",
    "y = np.arange(3)\n",
    "X, Y = np.meshgrid(x, y)"
   ]
  },
  {
   "cell_type": "code",
   "execution_count": null,
   "metadata": {},
   "outputs": [],
   "source": [
    "X is a 2D array containing just\n",
    "the x-coordinates of points in\n",
    "the xy plane.\n",
    "\n",
    "print(X)"
   ]
  },
  {
   "cell_type": "code",
   "execution_count": null,
   "metadata": {},
   "outputs": [],
   "source": [
    "Y is a 2D array containing just\n",
    "the y-coordinates of points in\n",
    "the xy plane.\n",
    "\n",
    "print(Y)"
   ]
  },
  {
   "cell_type": "code",
   "execution_count": null,
   "metadata": {},
   "outputs": [],
   "source": [
    "The function distance \fnds\n",
    "the distance of a point (x, y)\n",
    "from the origin, rounded to 3\n",
    "decimal places by the around\n",
    "function.\n",
    "\n",
    "def distance(x, y):\n",
    "return np.round(sqrt(x**2 + y**2), 3)\n",
    "print(distance(X, Y))"
   ]
  },
  {
   "cell_type": "markdown",
   "metadata": {},
   "source": [
    "### Array Properties"
   ]
  },
  {
   "cell_type": "code",
   "execution_count": null,
   "metadata": {},
   "outputs": [],
   "source": [
    "<code>"
   ]
  },
  {
   "cell_type": "markdown",
   "metadata": {},
   "source": [
    "### Array Operations"
   ]
  },
  {
   "cell_type": "code",
   "execution_count": null,
   "metadata": {},
   "outputs": [],
   "source": [
    "<code>"
   ]
  },
  {
   "cell_type": "markdown",
   "metadata": {},
   "source": [
    "### Array Indexing and Slicing"
   ]
  },
  {
   "cell_type": "code",
   "execution_count": null,
   "metadata": {},
   "outputs": [],
   "source": [
    "<code>"
   ]
  },
  {
   "cell_type": "markdown",
   "metadata": {},
   "source": [
    "### Indexing with Integer Arrays"
   ]
  },
  {
   "cell_type": "code",
   "execution_count": null,
   "metadata": {},
   "outputs": [],
   "source": [
    "<code>"
   ]
  },
  {
   "cell_type": "markdown",
   "metadata": {},
   "source": [
    "### Indexing with Boolean Arrays"
   ]
  },
  {
   "cell_type": "code",
   "execution_count": null,
   "metadata": {},
   "outputs": [],
   "source": [
    "<code>"
   ]
  },
  {
   "cell_type": "markdown",
   "metadata": {},
   "source": [
    "### End."
   ]
  }
 ],
 "metadata": {
  "kernelspec": {
   "display_name": "Python 3.10.5 64-bit",
   "language": "python",
   "name": "python3"
  },
  "language_info": {
   "codemirror_mode": {
    "name": "ipython",
    "version": 3
   },
   "file_extension": ".py",
   "mimetype": "text/x-python",
   "name": "python",
   "nbconvert_exporter": "python",
   "pygments_lexer": "ipython3",
   "version": "3.10.5"
  },
  "orig_nbformat": 4,
  "vscode": {
   "interpreter": {
    "hash": "74af3d2f25f1e46ebd2903d59225d79e4675ec224d56c01fc30cd168c2010d53"
   }
  }
 },
 "nbformat": 4,
 "nbformat_minor": 2
}
