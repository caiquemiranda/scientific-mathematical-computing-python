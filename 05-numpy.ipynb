{
 "cells": [
  {
   "attachments": {},
   "cell_type": "markdown",
   "metadata": {},
   "source": [
    "### NumPy"
   ]
  },
  {
   "attachments": {},
   "cell_type": "markdown",
   "metadata": {},
   "source": [
    "NumPy (Numerical Python) é o pacote fundamental para computação científica com Python. Ele define\n",
    "um novo tipo de contêiner - o ndarray (geralmente chamado apenas de array) - que suporta computação\n",
    "rápida e eficiente. O NumPy também define as rotinas básicas para acessar e manipular esses arrays."
   ]
  },
  {
   "attachments": {},
   "cell_type": "markdown",
   "metadata": {},
   "source": [
    "Arrays têm as seguintes propriedades (entre outras):\n",
    "\n",
    "- Uma forma, que é uma tupla de inteiros. O número de inteiros é o número de dimensões na matriz e\n",
    "os inteiros especificam o tamanho de cada dimensão.\n",
    "- A dtype (data-type), que especifica o tipo dos objetos armazenados no array.\n",
    "  "
   ]
  },
  {
   "attachments": {},
   "cell_type": "markdown",
   "metadata": {},
   "source": [
    "No NumPy, as dimensões de uma matriz são chamadas de eixos. Um exemplo de array com dtype int e\n",
    "shape ((4, 5)) é mostrado abaixo. O primeiro eixo tem quatro elementos, cada um dos quais é uma matriz\n",
    "unidimensional com 5 elementos."
   ]
  },
  {
   "attachments": {},
   "cell_type": "markdown",
   "metadata": {},
   "source": [
    "[[ 0 1 2 3 4 ] [ 5 6 7 8 9 ] [ 10\n",
    "11 12 13 14 ] [ 15 16 17 18\n",
    "19 ]]"
   ]
  },
  {
   "attachments": {},
   "cell_type": "markdown",
   "metadata": {},
   "source": [
    "As principais diferenças entre arrays NumPy e listas Python são:\n",
    "\n",
    "- Os objetos em uma matriz NumPy devem ser todos do mesmo tipo - booleanos, inteiros, floats, números complexos ou strings.\n",
    "- • O tamanho de uma matriz é fixado na criação e não pode ser alterado posteriormente.\n",
    "- Os arrays podem ser multidimensionais.\n",
    "- Operações matemáticas podem ser aplicadas diretamente a arrays. Quando isso é feito, eles são\n",
    "aplicados elemento a elemento ao array, gerando outro array como saída. Isso é muito mais rápido\n",
    "do que iterar em uma lista.\n",
    "- A indexação para arrays é mais poderosa do que para listas e inclui a indexação usando arrays\n",
    "inteiros e booleanos.\n",
    "- Fatiar um array produz uma visualização do array original, não uma cópia. Modificando isso view mudará o array original."
   ]
  },
  {
   "attachments": {},
   "cell_type": "markdown",
   "metadata": {},
   "source": [
    "####  Criação de Array"
   ]
  },
  {
   "attachments": {},
   "cell_type": "markdown",
   "metadata": {},
   "source": [
    "Array NumPy podem ser criadas: \n",
    "\n",
    "- De uma lista. Os elementos da lista precisam ser todos do mesmo tipo ou de um tipo que possa ser convertido\n",
    "para o mesmo tipo. Por exemplo, uma lista que consiste em inteiros e flutuantes gerará uma matriz de flutuantes,\n",
    "pois os inteiros podem ser convertidos em flutuantes.\n",
    "- De acordo com uma determinada forma. A matriz será inicializada de forma diferente, dependendo do função usada.\n",
    "- De outra matriz. A nova matriz terá o mesmo formato da matriz existente, e pode ser uma cópia ou inicializado com alguns outros valores.\n",
    "- Como resultado de uma operação em outros arrays. Os operadores matemáticos padrão podem ser aplicados\n",
    "diretamente a arrays. O resultado é um array da mesma forma onde a operação foi realizada separadamente\n",
    "nos elementos correspondentes."
   ]
  },
  {
   "attachments": {},
   "cell_type": "markdown",
   "metadata": {},
   "source": [
    "As funções a seguir são as principais:\n",
    "\n",
    "|func|Des|\n",
    "|---|---|\n",
    "|-|Crie uma matriz a partir de uma lista.|\n",
    "|-|Retorna uma matriz de números espaçados uniformemente em um intervalo especificado|\n",
    "|-|Retorna uma matriz de inteiros espaçados uniformemente dentro de um determinado intervalo|\n",
    "|-|Retorna um novo array de uma determinada forma e tipo, sem inicializar as entradas.|\n",
    "|-|Retorna um novo array de uma determinada forma e tipo, preenchido com zeros.|\n",
    "|-|Retorna um novo array de uma determinada forma e tipo, preenchido com uns.|\n",
    "|-|Retorna uma nova matriz com a mesma forma e tipo de uma determinada matriz.|\n",
    "|-|Retorna uma matriz de zeros com a mesma forma e tipo de uma determinada matriz.|\n",
    "|-|Retorne uma matriz de uns com a mesma forma e tipo de uma determinada matriz.|\n",
    "|-|Retorna uma cópia de array do objeto fornecido.|\n",
    "|-|Retorna um par de matrizes de grade 2D x e y de matrizes de coordenadas 1D x e y.|"
   ]
  },
  {
   "attachments": {},
   "cell_type": "markdown",
   "metadata": {},
   "source": [
    "Estas funções são ilustradas abaixo. O alias \"np\" é uma prática padrão ao usar o NumPy."
   ]
  },
  {
   "cell_type": "code",
   "execution_count": 1,
   "metadata": {},
   "outputs": [
    {
     "name": "stdout",
     "output_type": "stream",
     "text": [
      "[1 2 3]\n"
     ]
    }
   ],
   "source": [
    "# array(object) cria um array a partir de uma lista - \n",
    "# observe que os arrays são impressos sem vírgulas.\n",
    "\n",
    "import numpy as np\n",
    "\n",
    "x=np.array([1,2,3])\n",
    "print(x)"
   ]
  },
  {
   "cell_type": "code",
   "execution_count": 2,
   "metadata": {},
   "outputs": [
    {
     "name": "stdout",
     "output_type": "stream",
     "text": [
      "[1. 2. 3.]\n"
     ]
    }
   ],
   "source": [
    "# array(object, dtype) cria um array do tipo dtype - \n",
    "# os inteiros agora são convertidos em floats.\n",
    "\n",
    "x = np.array([1, 2, 3], dtype=float)\n",
    "print(x)"
   ]
  },
  {
   "cell_type": "code",
   "execution_count": 3,
   "metadata": {},
   "outputs": [
    {
     "name": "stdout",
     "output_type": "stream",
     "text": [
      "[0.  0.2 0.4 0.6 0.8 1. ]\n"
     ]
    }
   ],
   "source": [
    "# linspace(start, stop, num) retorna num pontos igualmente espaçados, incluindo pontos finais.\n",
    "\n",
    "x = np.linspace(0, 1, 6)\n",
    "print(x)"
   ]
  },
  {
   "cell_type": "code",
   "execution_count": 4,
   "metadata": {},
   "outputs": [
    {
     "name": "stdout",
     "output_type": "stream",
     "text": [
      "[0 1 2 3 4]\n"
     ]
    }
   ],
   "source": [
    "# arange retorna uma matriz de valores uniformemente espaçados dentro de um determinado intervalo.\n",
    "\n",
    "x = np.arange(5)\n",
    "print(x)"
   ]
  },
  {
   "attachments": {},
   "cell_type": "markdown",
   "metadata": {},
   "source": [
    "As funções vazias, zeros e uns pegam um argumento de forma e criam uma matriz dessa\n",
    "forma, inicializada conforme apropriado."
   ]
  },
  {
   "cell_type": "code",
   "execution_count": 5,
   "metadata": {},
   "outputs": [
    {
     "name": "stdout",
     "output_type": "stream",
     "text": [
      "[[0.  0.2]\n",
      " [0.4 0.6]\n",
      " [0.8 1. ]]\n"
     ]
    }
   ],
   "source": [
    "# empty(shape) retorna um array de shape shape, inicialmente preenchido com lixo.\n",
    " \n",
    "x = np.empty((3, 2))\n",
    "print(x)"
   ]
  },
  {
   "cell_type": "code",
   "execution_count": 6,
   "metadata": {},
   "outputs": [
    {
     "name": "stdout",
     "output_type": "stream",
     "text": [
      "[[0. 0. 0.]\n",
      " [0. 0. 0.]]\n"
     ]
    }
   ],
   "source": [
    "# zeros(shape) retorna um array de shape shape preenchido com zeros - \n",
    "# observe que o tipo padrão é float.\n",
    "\n",
    "x = np.zeros((2, 3))\n",
    "print(x)"
   ]
  },
  {
   "cell_type": "code",
   "execution_count": 7,
   "metadata": {},
   "outputs": [
    {
     "name": "stdout",
     "output_type": "stream",
     "text": [
      "[[1 1 1]\n",
      " [1 1 1]]\n"
     ]
    }
   ],
   "source": [
    "# ones(shape, dtype) retorna um array de shape shape preenchido com uns - \n",
    "# usando dtype=int converte os elementos para o tipo int.\n",
    "\n",
    "x = np.ones((2, 3), dtype=int)\n",
    "print(x)"
   ]
  },
  {
   "attachments": {},
   "cell_type": "markdown",
   "metadata": {},
   "source": [
    "Arrays podem ser criados diretamente de outros arrays usando like vazio, like zero, like\n",
    "uns e copy."
   ]
  },
  {
   "cell_type": "code",
   "execution_count": 8,
   "metadata": {},
   "outputs": [
    {
     "name": "stdout",
     "output_type": "stream",
     "text": [
      "[0. 1. 2.]\n"
     ]
    }
   ],
   "source": [
    "# Crie um array de floats usando arange.\n",
    "\n",
    "x = np.arange(3, dtype=float)\n",
    "print(x)"
   ]
  },
  {
   "cell_type": "code",
   "execution_count": 9,
   "metadata": {},
   "outputs": [
    {
     "name": "stdout",
     "output_type": "stream",
     "text": [
      "[0. 1. 2.]\n"
     ]
    }
   ],
   "source": [
    "# y tem a mesma forma que x, mas inicialmente está cheio de lixo.\n",
    "\n",
    "y = np.empty_like(x)\n",
    "print(y)"
   ]
  },
  {
   "cell_type": "code",
   "execution_count": 10,
   "metadata": {},
   "outputs": [
    {
     "name": "stdout",
     "output_type": "stream",
     "text": [
      "[0. 0. 0.]\n"
     ]
    }
   ],
   "source": [
    "# y tem a mesma forma que x, mas é inicializado com zeros.\n",
    "\n",
    "y = np.zeros_like(x)\n",
    "print(y)"
   ]
  },
  {
   "cell_type": "code",
   "execution_count": 11,
   "metadata": {},
   "outputs": [
    {
     "name": "stdout",
     "output_type": "stream",
     "text": [
      "[1. 1. 1.]\n"
     ]
    }
   ],
   "source": [
    "# y tem a mesma forma que x, mas é inicializado com uns.\n",
    "\n",
    "y = np.ones_like(x)\n",
    "print(y)"
   ]
  },
  {
   "cell_type": "code",
   "execution_count": 12,
   "metadata": {},
   "outputs": [
    {
     "name": "stdout",
     "output_type": "stream",
     "text": [
      "[0. 1. 2.]\n"
     ]
    }
   ],
   "source": [
    "# y é uma cópia de x - mudar y não mudará x.\n",
    "\n",
    "y = np.copy(x)\n",
    "print(y)"
   ]
  },
  {
   "attachments": {},
   "cell_type": "markdown",
   "metadata": {},
   "source": [
    "A função meshgrid(x, y) cria arrays bidimensionais a partir de eixos de coordenadas xey\n",
    "unidimensionais. Uma matriz contém as coordenadas x de todos os pontos no plano xy definidos por\n",
    "esses eixos e a outra contém as coordenadas y. Um exemplo é mostrado abaixo."
   ]
  },
  {
   "cell_type": "code",
   "execution_count": 13,
   "metadata": {},
   "outputs": [],
   "source": [
    "# meshgrid cria matrizes de coordenadas 2D x e y a partir de matrizes de coordenadas 1D x e y.\n",
    "\n",
    "x = np.arange(4)\n",
    "y = np.arange(3)\n",
    "X, Y = np.meshgrid(x, y)"
   ]
  },
  {
   "cell_type": "code",
   "execution_count": 14,
   "metadata": {},
   "outputs": [
    {
     "name": "stdout",
     "output_type": "stream",
     "text": [
      "[[0 1 2 3]\n",
      " [0 1 2 3]\n",
      " [0 1 2 3]]\n"
     ]
    }
   ],
   "source": [
    "# X é uma matriz 2D contendo apenas as coordenadas x de pontos no plano xy.\n",
    "\n",
    "print(X)"
   ]
  },
  {
   "cell_type": "code",
   "execution_count": 15,
   "metadata": {},
   "outputs": [
    {
     "name": "stdout",
     "output_type": "stream",
     "text": [
      "[[0 0 0 0]\n",
      " [1 1 1 1]\n",
      " [2 2 2 2]]\n"
     ]
    }
   ],
   "source": [
    "# Y é uma matriz 2D contendo apenas as coordenadas y de pontos no plano xy.\n",
    "\n",
    "print(Y)"
   ]
  },
  {
   "attachments": {},
   "cell_type": "markdown",
   "metadata": {},
   "source": [
    "A função meshgrid é frequentemente usada quando queremos aplicar uma função de duas variáveis\n",
    "a pontos no plano xy. O exemplo a seguir usa as matrizes X e Y acima."
   ]
  },
  {
   "cell_type": "code",
   "execution_count": null,
   "metadata": {},
   "outputs": [],
   "source": [
    "# A função distância encontra a distância de um ponto (x, y) da origem, \n",
    "# arredondada para 3 casas decimais pela função around .\n",
    "\n",
    "from math import sqrt\n",
    "\n",
    "def distance(x, y):\n",
    "    return np.round(sqrt(x**2 + y**2), 3)\n",
    "\n",
    "print(distance(X, Y))"
   ]
  },
  {
   "attachments": {},
   "cell_type": "markdown",
   "metadata": {},
   "source": [
    "#### Propriedades de Arrays"
   ]
  },
  {
   "attachments": {},
   "cell_type": "markdown",
   "metadata": {},
   "source": [
    "As propriedades de uma matriz podem ser acessadas da seguinte maneira."
   ]
  },
  {
   "cell_type": "code",
   "execution_count": 17,
   "metadata": {},
   "outputs": [
    {
     "data": {
      "text/plain": [
       "numpy.ndarray"
      ]
     },
     "execution_count": 17,
     "metadata": {},
     "output_type": "execute_result"
    }
   ],
   "source": [
    "# x é do tipo numpy.ndarray.\n",
    "import numpy as np\n",
    "\n",
    "x = np.arange(6)\n",
    "type(x)"
   ]
  },
  {
   "cell_type": "code",
   "execution_count": 18,
   "metadata": {},
   "outputs": [
    {
     "data": {
      "text/plain": [
       "dtype('int32')"
      ]
     },
     "execution_count": 18,
     "metadata": {},
     "output_type": "execute_result"
    }
   ],
   "source": [
    "# dtype retorna o tipo de elemento - um inteiro de 64 bits.\n",
    "\n",
    "x.dtype"
   ]
  },
  {
   "cell_type": "code",
   "execution_count": 19,
   "metadata": {},
   "outputs": [
    {
     "data": {
      "text/plain": [
       "(6,)"
      ]
     },
     "execution_count": 19,
     "metadata": {},
     "output_type": "execute_result"
    }
   ],
   "source": [
    "# x é uma matriz unidimensional com 6 elementos no primeiro eixo.\n",
    "\n",
    "x.shape"
   ]
  },
  {
   "attachments": {},
   "cell_type": "markdown",
   "metadata": {},
   "source": [
    "É possível criar um array a partir dos elementos de um array existente, mas com as propriedades\n",
    "alteradas."
   ]
  },
  {
   "attachments": {},
   "cell_type": "markdown",
   "metadata": {},
   "source": [
    "- O número de dimensões e o tamanho de cada dimensão podem ser alterados usando reshape\n",
    "(desde que o número total de elementos permaneça inalterado).\n",
    "- O dtype pode ser alterado usando astype."
   ]
  },
  {
   "cell_type": "code",
   "execution_count": 20,
   "metadata": {},
   "outputs": [
    {
     "name": "stdout",
     "output_type": "stream",
     "text": [
      "[[0 1 2]\n",
      " [3 4 5]]\n"
     ]
    }
   ],
   "source": [
    "# reshape cria uma exibição de uma matriz com o mesmo número de elementos, mas com uma forma diferente.\n",
    "\n",
    "x = np.arange(6).reshape((2, 3))\n",
    "print(x)"
   ]
  },
  {
   "cell_type": "code",
   "execution_count": 21,
   "metadata": {},
   "outputs": [
    {
     "name": "stdout",
     "output_type": "stream",
     "text": [
      "[[0. 1. 2.]\n",
      " [3. 4. 5.]]\n"
     ]
    }
   ],
   "source": [
    "# astype converte os inteiros em x em floats em y. \n",
    "# Isso cria um novo array - modificá-lo não alterará o original.\n",
    "\n",
    "y = x.astype(float)\n",
    "print(y)"
   ]
  },
  {
   "attachments": {},
   "cell_type": "markdown",
   "metadata": {},
   "source": [
    "#### Operações de Arrays"
   ]
  },
  {
   "attachments": {},
   "cell_type": "markdown",
   "metadata": {},
   "source": [
    "A aritmética de matriz é feita elemento por elemento. As operações são aplicadas a cada\n",
    "elemento de um array, com cada resultado tornando-se um elemento em um novo array."
   ]
  },
  {
   "cell_type": "code",
   "execution_count": 22,
   "metadata": {},
   "outputs": [
    {
     "name": "stdout",
     "output_type": "stream",
     "text": [
      "[0 1 2 3]\n"
     ]
    }
   ],
   "source": [
    "# Crie um array de inteiros consecutivos usando arange.\n",
    "\n",
    "import numpy as np\n",
    "\n",
    "x = np.arange(4)\n",
    "print(x)"
   ]
  },
  {
   "cell_type": "code",
   "execution_count": 23,
   "metadata": {},
   "outputs": [
    {
     "name": "stdout",
     "output_type": "stream",
     "text": [
      "[1 2 3 4]\n"
     ]
    }
   ],
   "source": [
    "# 1 é adicionado a cada elemento do array x.\n",
    "\n",
    "print(x +1)"
   ]
  },
  {
   "cell_type": "code",
   "execution_count": 24,
   "metadata": {},
   "outputs": [
    {
     "name": "stdout",
     "output_type": "stream",
     "text": [
      "[0 2 4 6]\n"
     ]
    }
   ],
   "source": [
    "# Cada elemento do array x é multiplicado por 2.\n",
    "\n",
    "print(x *2)"
   ]
  },
  {
   "cell_type": "code",
   "execution_count": 25,
   "metadata": {},
   "outputs": [
    {
     "name": "stdout",
     "output_type": "stream",
     "text": [
      "[0 1 4 9]\n"
     ]
    }
   ],
   "source": [
    "# Cada elemento do array x é elevado ao quadrado.\n",
    "\n",
    "print(x ** 2)"
   ]
  },
  {
   "cell_type": "code",
   "execution_count": 26,
   "metadata": {},
   "outputs": [],
   "source": [
    "# Crie um segundo array\n",
    "\n",
    "# y = array([3, 2, 5, 1])"
   ]
  },
  {
   "cell_type": "code",
   "execution_count": null,
   "metadata": {},
   "outputs": [],
   "source": [
    "# Os elementos de x são adicionados aos elementos correspondentes de y elemento por elemento.\n",
    "\n",
    "print(x)\n",
    "print(y)\n",
    "print(x + y)"
   ]
  },
  {
   "cell_type": "code",
   "execution_count": null,
   "metadata": {},
   "outputs": [],
   "source": [
    "# A exponenciação é feita usando elementos correspondentes dos arrays x e y.\n",
    "\n",
    "print( x**y )"
   ]
  },
  {
   "attachments": {},
   "cell_type": "markdown",
   "metadata": {},
   "source": [
    "Os operadores de comparação e outras expressões booleanas também são aplicados elemento\n",
    "por elemento. A expressão booleana é aplicada a cada elemento da matriz, com cada resultado\n",
    "tornando-se um elemento em uma nova matriz booleana."
   ]
  },
  {
   "cell_type": "code",
   "execution_count": 29,
   "metadata": {},
   "outputs": [
    {
     "name": "stdout",
     "output_type": "stream",
     "text": [
      "[0 1 2 3 4]\n",
      "[ True False  True False  True]\n"
     ]
    }
   ],
   "source": [
    "# A expressão booleana é avaliada para cada elemento separadamente, resultando em um array de booleanos.\n",
    "\n",
    "x = np.arange(5)\n",
    "\n",
    "print(x)\n",
    "print(x % 2 == 0)"
   ]
  },
  {
   "cell_type": "code",
   "execution_count": 30,
   "metadata": {},
   "outputs": [
    {
     "name": "stdout",
     "output_type": "stream",
     "text": [
      "[0 1 2 3]\n",
      "[3 2 5 1]\n",
      "[ True  True  True False]\n"
     ]
    }
   ],
   "source": [
    "# A comparação é feita elemento a elemento entre os elementos dos arrays x e y. O resultado é uma matriz de booleanos.\n",
    "\n",
    "x = np.arange(4)\n",
    "y = np.array([3, 2, 5, 1])\n",
    "\n",
    "print(x)\n",
    "print(y)\n",
    "\n",
    "print(x < y)"
   ]
  },
  {
   "attachments": {},
   "cell_type": "markdown",
   "metadata": {},
   "source": [
    "O NumPy contém versões vetorizadas de todas as funções matemáticas básicas. Observe que\n",
    "eles precisam ser importados antes de podermos usá-los. Alguns exemplos são dados a seguir."
   ]
  },
  {
   "cell_type": "code",
   "execution_count": 31,
   "metadata": {},
   "outputs": [
    {
     "name": "stdout",
     "output_type": "stream",
     "text": [
      "[0 1 2]\n"
     ]
    }
   ],
   "source": [
    "# Crie um array.\n",
    "\n",
    "x = np.arange(3)\n",
    "print(x)"
   ]
  },
  {
   "cell_type": "code",
   "execution_count": 32,
   "metadata": {},
   "outputs": [
    {
     "name": "stdout",
     "output_type": "stream",
     "text": [
      "[0.         0.84147098 0.90929743]\n"
     ]
    }
   ],
   "source": [
    "# sin é aplicado a cada elemento, para criar uma nova matriz.\n",
    "\n",
    "print(np.sin(x))"
   ]
  },
  {
   "cell_type": "code",
   "execution_count": 33,
   "metadata": {},
   "outputs": [
    {
     "name": "stdout",
     "output_type": "stream",
     "text": [
      "[1.         2.71828183 7.3890561 ]\n"
     ]
    }
   ],
   "source": [
    "# exp é a ópera exponencial tor\n",
    "\n",
    "print(np.exp(x))"
   ]
  },
  {
   "cell_type": "code",
   "execution_count": 34,
   "metadata": {},
   "outputs": [
    {
     "name": "stdout",
     "output_type": "stream",
     "text": [
      "[[1 0 3]\n",
      " [1 1 2]]\n"
     ]
    }
   ],
   "source": [
    "# random.randint retorna uma matriz de um determinado tamanho preenchida com inteiros selecionados aleatoriamente de um determinado intervalo.\n",
    "\n",
    "x = np.random.randint(5, size=(2, 3))\n",
    "print(x)"
   ]
  },
  {
   "cell_type": "code",
   "execution_count": 35,
   "metadata": {},
   "outputs": [
    {
     "name": "stdout",
     "output_type": "stream",
     "text": [
      "0 3\n"
     ]
    }
   ],
   "source": [
    "# min e max calculam os valores mínimo e máximo em todo o array.\n",
    "\n",
    "print(x.min(), x.max())"
   ]
  },
  {
   "cell_type": "code",
   "execution_count": 36,
   "metadata": {},
   "outputs": [
    {
     "name": "stdout",
     "output_type": "stream",
     "text": [
      "[1 0 2]\n",
      "[0 1]\n"
     ]
    }
   ],
   "source": [
    "# O argumento do eixo localiza cada mínimo ao longo de um determinado eixo. \n",
    "# A matriz resultante tem a forma da matriz original, mas com o eixo especificado removido.\n",
    "\n",
    "print(x.min(axis= 0))\n",
    "print(x.min(axis= 1))"
   ]
  },
  {
   "cell_type": "code",
   "execution_count": 37,
   "metadata": {},
   "outputs": [
    {
     "name": "stdout",
     "output_type": "stream",
     "text": [
      "8\n"
     ]
    }
   ],
   "source": [
    "# soma soma todos os elementos de uma matriz.\n",
    "\n",
    "print(x.sum())"
   ]
  },
  {
   "cell_type": "code",
   "execution_count": 38,
   "metadata": {},
   "outputs": [
    {
     "name": "stdout",
     "output_type": "stream",
     "text": [
      "[2 1 5]\n"
     ]
    }
   ],
   "source": [
    "# Fornecer as somas dos argumentos do eixo ao longo do eixo especificado.\n",
    "\n",
    "print(x.sum(axis= 0))"
   ]
  },
  {
   "attachments": {},
   "cell_type": "markdown",
   "metadata": {},
   "source": [
    "#### Indexação e divisão de Arrays"
   ]
  },
  {
   "attachments": {},
   "cell_type": "markdown",
   "metadata": {},
   "source": [
    "As matrizes podem ser indexadas e divididas usando colchetes da mesma forma que as listas."
   ]
  },
  {
   "attachments": {},
   "cell_type": "markdown",
   "metadata": {},
   "source": [
    "- Um índice ou filtro start:stop:step precisa ser fornecido para cada eixo, separado por virgulas\n",
    "- A indexação é baseada em zero, assim como nas listas.\n",
    "- Fatiar um array produz uma visualização do array original, não uma cópia. Modificando isso view mudará o array original."
   ]
  },
  {
   "cell_type": "code",
   "execution_count": 39,
   "metadata": {},
   "outputs": [
    {
     "name": "stdout",
     "output_type": "stream",
     "text": [
      "[[ 0  1  2  3  4]\n",
      " [ 5  6  7  8  9]\n",
      " [10 11 12 13 14]\n",
      " [15 16 17 18 19]]\n"
     ]
    }
   ],
   "source": [
    "# reshape fornece uma maneira rápida de criar uma matriz 2D a partir de uma matriz 1D.\n",
    "\n",
    "import numpy as np\n",
    "\n",
    "x = np.arange(20).reshape((4, 5))\n",
    "print(x)"
   ]
  },
  {
   "cell_type": "code",
   "execution_count": 40,
   "metadata": {},
   "outputs": [
    {
     "name": "stdout",
     "output_type": "stream",
     "text": [
      "7\n"
     ]
    }
   ],
   "source": [
    "# A indexação é feita em cada eixo em ordem - linha 1, coluna 2.\n",
    "\n",
    "print(x[1,2])"
   ]
  },
  {
   "cell_type": "code",
   "execution_count": 41,
   "metadata": {},
   "outputs": [
    {
     "name": "stdout",
     "output_type": "stream",
     "text": [
      "[5 6 7 8 9]\n"
     ]
    }
   ],
   "source": [
    "# A linha 1 pode ser selecionada usando um número inteiro.\n",
    "\n",
    "print(x[1])"
   ]
  },
  {
   "cell_type": "code",
   "execution_count": 42,
   "metadata": {},
   "outputs": [
    {
     "name": "stdout",
     "output_type": "stream",
     "text": [
      "[ 1  6 11 16]\n"
     ]
    }
   ],
   "source": [
    "# O fatiamento pode ser usado para selecionar o primeiro elemento de cada eixo (ou seja, coluna 1).\n",
    "\n",
    "print(x[:,1])"
   ]
  },
  {
   "cell_type": "code",
   "execution_count": 43,
   "metadata": {},
   "outputs": [
    {
     "name": "stdout",
     "output_type": "stream",
     "text": [
      "[[ 6  7  8]\n",
      " [11 12 13]]\n"
     ]
    }
   ],
   "source": [
    "# Divida as linhas 1 e 2 usando 1:3, depois divida as colunas 1, 2 e 3 usando 1:4.\n",
    "\n",
    "print(x[1:3, 1:4])"
   ]
  },
  {
   "attachments": {},
   "cell_type": "markdown",
   "metadata": {},
   "source": [
    "#### Indexação com Arrays Inteiros"
   ]
  },
  {
   "attachments": {},
   "cell_type": "markdown",
   "metadata": {},
   "source": [
    "Embora o fatiamento possa ser usado para retornar um subconjunto de elementos de uma matriz, seu\n",
    "uso é restrito à seleção de elementos consecutivos ou à seleção de elementos separados pelo mesmo\n",
    "valor fixo. Às vezes, queremos selecionar algum subconjunto arbitrário de uma matriz, possivelmente\n",
    "até mesmo selecionando o mesmo elemento mais de uma vez. A indexação de matriz inteira fornece\n",
    "uma maneira de fazer isso."
   ]
  },
  {
   "attachments": {},
   "cell_type": "markdown",
   "metadata": {},
   "source": [
    "- O índice é um array NumPy de números inteiros.\n",
    "- Cada inteiro na matriz de índice seleciona um elemento correspondente da matriz de destino.\n",
    "- O resultado é uma matriz em que os primeiros eixos têm a mesma forma da matriz de índice."
   ]
  },
  {
   "attachments": {},
   "cell_type": "markdown",
   "metadata": {},
   "source": [
    "fazer indexãoas"
   ]
  },
  {
   "cell_type": "code",
   "execution_count": 44,
   "metadata": {},
   "outputs": [
    {
     "name": "stdout",
     "output_type": "stream",
     "text": [
      "[ 0  1  4  9 16 25 36 49 64]\n"
     ]
    }
   ],
   "source": [
    "# Primeiro crie o array usando arange, depois eleve ao quadrado cada elemento\n",
    "\n",
    "import numpy as np\n",
    "\n",
    "x = np.arange(9)**2\n",
    "print(x)"
   ]
  },
  {
   "cell_type": "code",
   "execution_count": 45,
   "metadata": {},
   "outputs": [
    {
     "name": "stdout",
     "output_type": "stream",
     "text": [
      "[ 4 25]\n"
     ]
    }
   ],
   "source": [
    "# Um array é retornado contendo elementos do primeiro array, \n",
    "# selecionados de acordo com os inteiros do segundo array.\n",
    "\n",
    "index = np.array([2, 5])\n",
    "print(x[index])"
   ]
  },
  {
   "attachments": {},
   "cell_type": "markdown",
   "metadata": {},
   "source": [
    "O índice pode ser uma matriz inteira de qualquer forma e pode incluir duplicatas, conforme mostrado\n",
    "abaixo."
   ]
  },
  {
   "cell_type": "code",
   "execution_count": 46,
   "metadata": {},
   "outputs": [
    {
     "name": "stdout",
     "output_type": "stream",
     "text": [
      "[[2 3]\n",
      " [7 2]]\n"
     ]
    }
   ],
   "source": [
    "# A matriz de indexação contém em números que são usados para indexar na matriz de destino.\n",
    "# Observe que os mesmos elementos (2, neste caso) podem ser selecionados mais de uma vez.\n",
    "\n",
    "index = np.array([[2, 3], [7, 2]])\n",
    "print(index)"
   ]
  },
  {
   "cell_type": "code",
   "execution_count": 47,
   "metadata": {},
   "outputs": [
    {
     "name": "stdout",
     "output_type": "stream",
     "text": [
      "[[ 4  9]\n",
      " [49  4]]\n"
     ]
    }
   ],
   "source": [
    "# Ao indexar um array unidimensional usando um array inteiro, o array retornado tem o mesmo formato do array de indexação.\n",
    "\n",
    "print(x[index])"
   ]
  },
  {
   "attachments": {},
   "cell_type": "markdown",
   "metadata": {},
   "source": [
    "A matriz de destino também pode ser uma matriz multidimensional. Nesse caso, os elementos\n",
    "selecionados pelo array de índice serão os elementos do array do alvo."
   ]
  },
  {
   "cell_type": "code",
   "execution_count": 48,
   "metadata": {},
   "outputs": [
    {
     "name": "stdout",
     "output_type": "stream",
     "text": [
      "[[0. 1. 0.]\n",
      " [1. 0. 0.]\n",
      " [0. 0. 1.]\n",
      " [0. 1. 0.]\n",
      " [0. 1. 0.]\n",
      " [1. 0. 0.]]\n"
     ]
    }
   ],
   "source": [
    "# A matriz de cores é uma matriz bidimensional, portanto, os elementos das cores são um matrizes dimensionais (as linhas). \n",
    "\n",
    "\n",
    "\n",
    "colors = np.array([[1., 0., 0.],\n",
    "                   [0., 1., 0.],\n",
    "                   [0., 0., 1.]])\n",
    "\n",
    "index = np.array([1, 0, 2, 1, 1, 0])\n",
    "\n",
    "print(colors[index])"
   ]
  },
  {
   "attachments": {},
   "cell_type": "markdown",
   "metadata": {},
   "source": [
    "A matriz de cores pode ser considerada como uma “tabela de pesquisa” - a indexação de inteiros procura os elementos dessa tabela e usa os valores encontrados para construir o resultado."
   ]
  },
  {
   "attachments": {},
   "cell_type": "markdown",
   "metadata": {},
   "source": [
    "#### Indexação com Arrays booleanas"
   ]
  },
  {
   "attachments": {},
   "cell_type": "markdown",
   "metadata": {},
   "source": [
    "Também podemos indexar usando matrizes de booleanos. Nesse caso, a matriz de indexação age como\n",
    "uma máscara, deixando passar apenas os elementos na matriz de destino que correspondem aos\n",
    "valores True na matriz de indexação."
   ]
  },
  {
   "cell_type": "code",
   "execution_count": 49,
   "metadata": {},
   "outputs": [
    {
     "name": "stdout",
     "output_type": "stream",
     "text": [
      "[0 1 2 3]\n",
      "[0 1 3]\n"
     ]
    }
   ],
   "source": [
    "# Somente os elementos com um correspondente a True na máscara print(x[mask]) são selecionados.\n",
    "\n",
    "import numpy as np\n",
    "\n",
    "x = np.arange(4)\n",
    "mask = np.array([True, True, False, True])\n",
    "\n",
    "print(x)\n",
    "print(x[mask])"
   ]
  },
  {
   "attachments": {},
   "cell_type": "markdown",
   "metadata": {},
   "source": [
    "Um uso comum dessa técnica é selecionar os elementos de uma matriz que satisfaçam alguma\n",
    "condição. Isso pode ser feito primeiro aplicando a condição à matriz para gerar uma matriz de booleanos\n",
    "e, em seguida, usando a matriz resultante como um índice. O resultado é que apenas os elementos\n",
    "para os quais a condição é verdadeira são selecionados."
   ]
  },
  {
   "cell_type": "code",
   "execution_count": 50,
   "metadata": {},
   "outputs": [],
   "source": [
    "# index3 e index5 são arrays booleanos contendo elementos True para os inteiros que são divisíveis por 3 e 5, respectivamente.\n",
    "\n",
    "x = np.arange(20)\n",
    "\n",
    "index3 = (x % 3 == 0)\n",
    "index5 = (x % 5 == 0)"
   ]
  },
  {
   "cell_type": "code",
   "execution_count": 51,
   "metadata": {},
   "outputs": [
    {
     "name": "stdout",
     "output_type": "stream",
     "text": [
      "[ 0  3  6  9 12 15 18]\n"
     ]
    }
   ],
   "source": [
    "# Selecione apenas os elementos de x que são divisíveis por 3.\n",
    "\n",
    "print(x[index3])"
   ]
  },
  {
   "cell_type": "code",
   "execution_count": 52,
   "metadata": {},
   "outputs": [
    {
     "name": "stdout",
     "output_type": "stream",
     "text": [
      "[ 0  5 10 15]\n"
     ]
    }
   ],
   "source": [
    "# Selecione apenas os elementos de x que são divisíveis por 5.\n",
    "\n",
    "print(x[index5])"
   ]
  },
  {
   "cell_type": "code",
   "execution_count": 53,
   "metadata": {},
   "outputs": [
    {
     "name": "stdout",
     "output_type": "stream",
     "text": [
      "[ 0  3  5  6  9 10 12 15 18]\n"
     ]
    }
   ],
   "source": [
    "# A função lógica ou executa um ”ou” elementar. O resultado são os inteiros divisíveis por 3 ou 5.\n",
    "\n",
    "print(x[np.logical_or(index3, index5)])"
   ]
  },
  {
   "cell_type": "code",
   "execution_count": 54,
   "metadata": {},
   "outputs": [
    {
     "name": "stdout",
     "output_type": "stream",
     "text": [
      "Author: Caique Miranda\n",
      "\n",
      "Github username: caiquemiranda\n",
      "\n",
      "numpy: 1.23.0\n",
      "\n"
     ]
    }
   ],
   "source": [
    "%reload_ext watermark\n",
    "%watermark -a \"Caique Miranda\" -gu \"caiquemiranda\" -iv"
   ]
  },
  {
   "cell_type": "markdown",
   "metadata": {},
   "source": [
    "### End."
   ]
  }
 ],
 "metadata": {
  "kernelspec": {
   "display_name": "Python 3.10.5 64-bit",
   "language": "python",
   "name": "python3"
  },
  "language_info": {
   "codemirror_mode": {
    "name": "ipython",
    "version": 3
   },
   "file_extension": ".py",
   "mimetype": "text/x-python",
   "name": "python",
   "nbconvert_exporter": "python",
   "pygments_lexer": "ipython3",
   "version": "3.10.5"
  },
  "orig_nbformat": 4,
  "vscode": {
   "interpreter": {
    "hash": "74af3d2f25f1e46ebd2903d59225d79e4675ec224d56c01fc30cd168c2010d53"
   }
  }
 },
 "nbformat": 4,
 "nbformat_minor": 2
}
