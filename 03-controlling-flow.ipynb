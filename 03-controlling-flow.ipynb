{
 "cells": [
  {
   "cell_type": "markdown",
   "metadata": {},
   "source": [
    "### Boolean Expressions"
   ]
  },
  {
   "cell_type": "code",
   "execution_count": 1,
   "metadata": {},
   "outputs": [
    {
     "data": {
      "text/plain": [
       "True"
      ]
     },
     "execution_count": 1,
     "metadata": {},
     "output_type": "execute_result"
    }
   ],
   "source": [
    "# check for equality\n",
    "\n",
    "5 == 5"
   ]
  },
  {
   "cell_type": "code",
   "execution_count": 2,
   "metadata": {},
   "outputs": [
    {
     "data": {
      "text/plain": [
       "False"
      ]
     },
     "execution_count": 2,
     "metadata": {},
     "output_type": "execute_result"
    }
   ],
   "source": [
    "# check for inequality\n",
    "\n",
    "5 != 5 "
   ]
  },
  {
   "cell_type": "code",
   "execution_count": 3,
   "metadata": {},
   "outputs": [
    {
     "data": {
      "text/plain": [
       "False"
      ]
     },
     "execution_count": 3,
     "metadata": {},
     "output_type": "execute_result"
    }
   ],
   "source": [
    "# less than\n",
    "\n",
    "3 < 2"
   ]
  },
  {
   "cell_type": "code",
   "execution_count": 4,
   "metadata": {},
   "outputs": [
    {
     "data": {
      "text/plain": [
       "True"
      ]
     },
     "execution_count": 4,
     "metadata": {},
     "output_type": "execute_result"
    }
   ],
   "source": [
    "# less than or equals\n",
    "\n",
    "3 <= 3"
   ]
  },
  {
   "cell_type": "code",
   "execution_count": 5,
   "metadata": {},
   "outputs": [
    {
     "data": {
      "text/plain": [
       "True"
      ]
     },
     "execution_count": 5,
     "metadata": {},
     "output_type": "execute_result"
    }
   ],
   "source": [
    "# strings are compared by lexicographic\n",
    "\n",
    "'a' < 'b'"
   ]
  },
  {
   "cell_type": "markdown",
   "metadata": {},
   "source": [
    "### If statements"
   ]
  },
  {
   "cell_type": "code",
   "execution_count": 6,
   "metadata": {},
   "outputs": [],
   "source": [
    "# if <condition>:\n",
    "#    <code to execute when condition True>"
   ]
  },
  {
   "cell_type": "code",
   "execution_count": 7,
   "metadata": {},
   "outputs": [
    {
     "name": "stdout",
     "output_type": "stream",
     "text": [
      "Pi is bigger than e!\n"
     ]
    }
   ],
   "source": [
    "# The block of code following the if statement only executes if the condition is met.\n",
    "\n",
    "from math import *\n",
    "if pi > e:\n",
    "    print(\"Pi is bigger than e!\")"
   ]
  },
  {
   "cell_type": "code",
   "execution_count": 8,
   "metadata": {},
   "outputs": [],
   "source": [
    "# if <condition>:\n",
    "#    <code to execute when condition True>\n",
    "#else:\n",
    "#    <code to execute when condition False>\n",
    "#\n",
    "#<following code>"
   ]
  },
  {
   "cell_type": "code",
   "execution_count": 9,
   "metadata": {},
   "outputs": [
    {
     "name": "stdout",
     "output_type": "stream",
     "text": [
      "x < y\n"
     ]
    }
   ],
   "source": [
    "# The block of code following the else statement executes if the condition is not met.\n",
    "\n",
    "x, y = 2**3, 3**2\n",
    "if x < y:\n",
    "    print(\"x < y\")\n",
    "else:\n",
    "    print(\"x >= y\")"
   ]
  },
  {
   "cell_type": "code",
   "execution_count": 10,
   "metadata": {},
   "outputs": [],
   "source": [
    "# if <condition 1>:\n",
    "#     <code to execute when condition 1 True>\n",
    "# elif <condition 2>:\n",
    "#     <code to execute when condition 2 True>\n",
    "# else:\n",
    "#     <code to execute if neither condition is True>\n",
    "# <following code>"
   ]
  },
  {
   "cell_type": "code",
   "execution_count": 11,
   "metadata": {},
   "outputs": [
    {
     "name": "stdout",
     "output_type": "stream",
     "text": [
      "B\n"
     ]
    }
   ],
   "source": [
    "# Only the first two conditions are tested - the rest are skipped since the second condition is True.\n",
    "\n",
    "score = 88\n",
    "\n",
    "if score >= 90:\n",
    "    print(\"A\")\n",
    "\n",
    "elif score >= 80:\n",
    "    print(\"B\")\n",
    "elif score >= 70:\n",
    "    print(\"C\")\n",
    "elif score >= 60:\n",
    "    print(\"D\")\n",
    "\n",
    "else:\n",
    "    print(\"F\")"
   ]
  },
  {
   "cell_type": "markdown",
   "metadata": {},
   "source": [
    "### Conditional Expressions"
   ]
  },
  {
   "cell_type": "code",
   "execution_count": 12,
   "metadata": {},
   "outputs": [],
   "source": [
    "# if <condition>:\n",
    "#     x = <true_value>\n",
    "# else:\n",
    "#     x = <false_value>"
   ]
  },
  {
   "cell_type": "code",
   "execution_count": 13,
   "metadata": {},
   "outputs": [],
   "source": [
    "# x = <true_value> if <condition> else <false_value>"
   ]
  },
  {
   "cell_type": "code",
   "execution_count": 14,
   "metadata": {},
   "outputs": [
    {
     "name": "stdout",
     "output_type": "stream",
     "text": [
      "22 has even parity\n"
     ]
    }
   ],
   "source": [
    "# Note that x % 2 returns the remainder when x is divided by 2. Any nonzero value evaluates as True.\n",
    "\n",
    "x = 22\n",
    "parity = \"odd\" if x % 2 else \"even\"\n",
    "print(x, \"has\", parity, \"parity\")"
   ]
  },
  {
   "cell_type": "markdown",
   "metadata": {},
   "source": [
    "### For Loops"
   ]
  },
  {
   "cell_type": "code",
   "execution_count": 15,
   "metadata": {},
   "outputs": [],
   "source": [
    "# for <iteration variable(s)> in <iterable>:\n",
    "#     <code to execute each time>\n",
    "# <following code>"
   ]
  },
  {
   "cell_type": "code",
   "execution_count": 16,
   "metadata": {},
   "outputs": [
    {
     "name": "stdout",
     "output_type": "stream",
     "text": [
      "2\n",
      "4\n",
      "6\n"
     ]
    }
   ],
   "source": [
    "# Iterate over the elements of a list. The iteration variable i gets bound to each element in turn.\n",
    "\n",
    "for i in [2, 4, 6]:\n",
    "    print(i)"
   ]
  },
  {
   "cell_type": "code",
   "execution_count": 17,
   "metadata": {},
   "outputs": [
    {
     "name": "stdout",
     "output_type": "stream",
     "text": [
      "a\n",
      "b\n",
      "c\n"
     ]
    }
   ],
   "source": [
    "# Iterate over the characters in a string. The iteration variable char gets bound to each character in turn.\n",
    "\n",
    "for char in \"abc\":\n",
    "    print(char)"
   ]
  },
  {
   "cell_type": "code",
   "execution_count": 18,
   "metadata": {},
   "outputs": [
    {
     "name": "stdout",
     "output_type": "stream",
     "text": [
      "0 a\n",
      "1 b\n",
      "2 c\n"
     ]
    }
   ],
   "source": [
    "# enumerate allows an iteration variable to be bound to the index of each item, as well as to the item itself.\n",
    "\n",
    "for i, char in enumerate(\"abc\"):\n",
    "    print(i, char)"
   ]
  },
  {
   "cell_type": "code",
   "execution_count": 19,
   "metadata": {},
   "outputs": [
    {
     "name": "stdout",
     "output_type": "stream",
     "text": [
      "0\n",
      "1\n",
      "2\n"
     ]
    }
   ],
   "source": [
    "# range(n) generates n consecutive integers, starting at 0 and ending at n - 1.\n",
    "\n",
    "for i in range(3):\n",
    "    print(i)"
   ]
  },
  {
   "cell_type": "code",
   "execution_count": 20,
   "metadata": {},
   "outputs": [
    {
     "name": "stdout",
     "output_type": "stream",
     "text": [
      "[13, 14, 15, 16, 17, 18, 19]\n"
     ]
    }
   ],
   "source": [
    "# range(start, stop) generates consecutive integers, from start to stop - 1.\n",
    "\n",
    "teens = range(13, 20)\n",
    "print(list(teens))"
   ]
  },
  {
   "cell_type": "code",
   "execution_count": 21,
   "metadata": {},
   "outputs": [
    {
     "name": "stdout",
     "output_type": "stream",
     "text": [
      "[0, 2, 4, 6, 8]\n"
     ]
    }
   ],
   "source": [
    "# The third step argument to range specifies the increment from one integer to the next.\n",
    "\n",
    "evens = range(0, 9, 2)\n",
    "print(list(evens))"
   ]
  },
  {
   "cell_type": "code",
   "execution_count": 22,
   "metadata": {},
   "outputs": [
    {
     "name": "stdout",
     "output_type": "stream",
     "text": [
      "5\n",
      "4\n",
      "3\n",
      "2\n",
      "1\n"
     ]
    }
   ],
   "source": [
    "# range can also count backwards using a negative step size.\n",
    "\n",
    "for i in range(5, 0, -1):\n",
    "    print(i)"
   ]
  },
  {
   "cell_type": "code",
   "execution_count": 23,
   "metadata": {},
   "outputs": [
    {
     "name": "stdout",
     "output_type": "stream",
     "text": [
      "15\n"
     ]
    }
   ],
   "source": [
    "# Sum the numbers from 1 to 5.\n",
    "\n",
    "total = 0\n",
    "\n",
    "for i in range(1, 6):\n",
    "    total += i\n",
    "print(total)"
   ]
  },
  {
   "cell_type": "code",
   "execution_count": 24,
   "metadata": {},
   "outputs": [
    {
     "data": {
      "text/plain": [
       "15"
      ]
     },
     "execution_count": 24,
     "metadata": {},
     "output_type": "execute_result"
    }
   ],
   "source": [
    "# Another (simpler) way to sum the numbers in a given range.\n",
    "\n",
    "sum(range(1, 6))"
   ]
  },
  {
   "cell_type": "code",
   "execution_count": 25,
   "metadata": {},
   "outputs": [
    {
     "name": "stdout",
     "output_type": "stream",
     "text": [
      "x\n",
      "y\n",
      "z\n"
     ]
    }
   ],
   "source": [
    "# Iteration over a dictionary binds to the key (note that order is not preserved in a dictionary).\n",
    "\n",
    "mydict = {\"x\":1, \"y\":2, \"z\":3}\n",
    "for key in mydict:\n",
    "    print(key)"
   ]
  },
  {
   "cell_type": "code",
   "execution_count": 26,
   "metadata": {},
   "outputs": [
    {
     "name": "stdout",
     "output_type": "stream",
     "text": [
      "1\n",
      "2\n",
      "3\n"
     ]
    }
   ],
   "source": [
    "# Use values to iterate over the dictionary values rather than the keys.\n",
    "\n",
    "for value in mydict.values():\n",
    "    print(value)"
   ]
  },
  {
   "cell_type": "code",
   "execution_count": 27,
   "metadata": {},
   "outputs": [
    {
     "name": "stdout",
     "output_type": "stream",
     "text": [
      "x 1\n",
      "y 2\n",
      "z 3\n"
     ]
    }
   ],
   "source": [
    "# Use items to iterate over the dictionary keys and values together.\n",
    "\n",
    "for key, value in mydict.items():\n",
    "    print(key, value)"
   ]
  },
  {
   "cell_type": "code",
   "execution_count": 28,
   "metadata": {},
   "outputs": [
    {
     "name": "stdout",
     "output_type": "stream",
     "text": [
      "[(141, 'good'), (142, 'better'), (337, 'best!')]\n"
     ]
    }
   ],
   "source": [
    "# zip(courses, ranks) generates a sequence of tuples. Each tuple contains one course and one rank, with the tuples in the same order as the list elements.\n",
    "\n",
    "courses = [141, 142, 337]\n",
    "ranks = [\"good\", \"better\", \"best!\"]\n",
    "zipped = zip(courses, ranks)\n",
    "print(list(zipped))"
   ]
  },
  {
   "cell_type": "code",
   "execution_count": 29,
   "metadata": {},
   "outputs": [],
   "source": [
    "# Multiple iteration variables can be bound at each iteration of a loop.\n",
    "\n",
    "for course, rank in zipped:\n",
    "    print(course, rank)"
   ]
  },
  {
   "cell_type": "markdown",
   "metadata": {},
   "source": [
    "### While Loops"
   ]
  },
  {
   "cell_type": "code",
   "execution_count": 30,
   "metadata": {},
   "outputs": [],
   "source": [
    "# while <condition>:\n",
    "#    <code to execute repeatedly>\n",
    "# <following code>"
   ]
  },
  {
   "cell_type": "code",
   "execution_count": 31,
   "metadata": {},
   "outputs": [
    {
     "name": "stdout",
     "output_type": "stream",
     "text": [
      "3\n",
      "2\n",
      "1\n"
     ]
    }
   ],
   "source": [
    "# The variable i is printed while it remains greater than zero. The code inside the loop must change the value of i to ensure that the loop eventually terminates.\n",
    "\n",
    "i = 3\n",
    "\n",
    "while i > 0:\n",
    "    print(i)\n",
    "    i -= 1"
   ]
  },
  {
   "cell_type": "markdown",
   "metadata": {},
   "source": [
    "###  Break and Continue"
   ]
  },
  {
   "cell_type": "code",
   "execution_count": 32,
   "metadata": {},
   "outputs": [
    {
     "name": "stdout",
     "output_type": "stream",
     "text": [
      "First vowel is a\n"
     ]
    }
   ],
   "source": [
    "# The for loop is terminated by break once the first vowel is found.\n",
    "\n",
    "vowels = \"aeiou\"\n",
    "\n",
    "for char in \"jabbawocky\":\n",
    "\n",
    "    if char in vowels:\n",
    "        print(\"First vowel is\", char)\n",
    "        break"
   ]
  },
  {
   "cell_type": "code",
   "execution_count": 33,
   "metadata": {},
   "outputs": [
    {
     "name": "stdout",
     "output_type": "stream",
     "text": [
      "7 consonants found\n"
     ]
    }
   ],
   "source": [
    "# Skip over the vowels using continue, and just count the consonants.\n",
    "\n",
    "total = 0\n",
    "\n",
    "for char in \"jabbawocky\":\n",
    "    if char in vowels:\n",
    "        continue\n",
    "    total += 1\n",
    "\n",
    "print(total, \"consonants found\")"
   ]
  },
  {
   "cell_type": "markdown",
   "metadata": {},
   "source": [
    "### Error Handling with Try-Except"
   ]
  },
  {
   "cell_type": "code",
   "execution_count": 34,
   "metadata": {},
   "outputs": [],
   "source": [
    "# try:\n",
    "#     <code to attempt to execute>\n",
    "# except:\n",
    "#     <code to execute only when an error occurs>"
   ]
  },
  {
   "cell_type": "code",
   "execution_count": 35,
   "metadata": {},
   "outputs": [],
   "source": [
    "# try:\n",
    "#     <code to attempt to execute>\n",
    "# except ErrorType:\n",
    "#     <code to only execute when the named error occurs>"
   ]
  },
  {
   "cell_type": "code",
   "execution_count": null,
   "metadata": {},
   "outputs": [],
   "source": [
    "# The number 10 is being divided by a sequence of integers, one of which happens to be zero. Without error handling, the code breaks when the zero is encountered and a \"ZeroDivisionError\" is raised.\n",
    "\n",
    "for i in range(-2,3):\n",
    "    print(10/i)"
   ]
  },
  {
   "cell_type": "code",
   "execution_count": 37,
   "metadata": {},
   "outputs": [
    {
     "name": "stdout",
     "output_type": "stream",
     "text": [
      "-5.0\n",
      "-10.0\n",
      "Cant divide by zero!\n",
      "10.0\n",
      "5.0\n"
     ]
    }
   ],
   "source": [
    "# Using a try-except statement to handle the ZeroDivisionError allows the loop to run to completion without breaking.\n",
    "\n",
    "for i in range(-2,3):\n",
    "    try:\n",
    "        print(10/i)\n",
    "        \n",
    "    except ZeroDivisionError:\n",
    "        print(\"Cant divide by zero!\")"
   ]
  },
  {
   "cell_type": "markdown",
   "metadata": {},
   "source": [
    "### Reading and Writing Files"
   ]
  },
  {
   "cell_type": "code",
   "execution_count": 38,
   "metadata": {},
   "outputs": [],
   "source": [
    "# Open \"firstnames.txt\" for reading using open.\n",
    "\n",
    "input_file = open('data/firstnames.txt')"
   ]
  },
  {
   "cell_type": "code",
   "execution_count": 39,
   "metadata": {},
   "outputs": [
    {
     "name": "stdout",
     "output_type": "stream",
     "text": [
      "Leonard\n",
      "Penny\n",
      "Sheldon"
     ]
    }
   ],
   "source": [
    "# The lines of an open file can be iterated over in a for loop. Note the use of the end keyword in print(line, end=''), since each line already ends with a new line.\n",
    "\n",
    "for line in input_file:\n",
    "    print(line, end='')"
   ]
  },
  {
   "cell_type": "code",
   "execution_count": 40,
   "metadata": {},
   "outputs": [],
   "source": [
    "# Close \"firstnames.txt\" using close.\n",
    "\n",
    "input_file.close()"
   ]
  },
  {
   "cell_type": "code",
   "execution_count": 41,
   "metadata": {},
   "outputs": [
    {
     "data": {
      "text/plain": [
       "'Leonard\\nPenny\\nSheldon'"
      ]
     },
     "execution_count": 41,
     "metadata": {},
     "output_type": "execute_result"
    }
   ],
   "source": [
    "# read reads in the whole file as a single string. The new-lines at the end of each line are shown as \"nn\" characters.\n",
    "\n",
    "input_file = open(\"data/firstnames.txt\")\n",
    "first_names = input_file.read()\n",
    "input_file.close()\n",
    "first_names"
   ]
  },
  {
   "cell_type": "code",
   "execution_count": 42,
   "metadata": {},
   "outputs": [
    {
     "name": "stdout",
     "output_type": "stream",
     "text": [
      "Leonard\n",
      "Penny\n",
      "Sheldon\n"
     ]
    }
   ],
   "source": [
    "# Printing a string causes the newline characters \"nn\" to be rendered as new lines.\n",
    "\n",
    "print(first_names)"
   ]
  },
  {
   "cell_type": "code",
   "execution_count": 43,
   "metadata": {},
   "outputs": [
    {
     "data": {
      "text/plain": [
       "['Leonard\\n', 'Penny\\n', 'Sheldon']"
      ]
     },
     "execution_count": 43,
     "metadata": {},
     "output_type": "execute_result"
    }
   ],
   "source": [
    "# readlines reads in the whole file as a list, with each line as a separate string.\n",
    "\n",
    "input_file = open(\"data/firstnames.txt\")\n",
    "data = input_file.readlines()\n",
    "input_file.close()\n",
    "data"
   ]
  },
  {
   "cell_type": "code",
   "execution_count": 44,
   "metadata": {},
   "outputs": [],
   "source": [
    "# Write each string in the data list to a separate line in the file. Note that new lines are not automatically included, so they need to be added.\n",
    "\n",
    "data = [\"Hofstadter\", \"?\", \"Cooper\"]\n",
    "output_file = open(\"data/names.txt\", \"w\")\n",
    "\n",
    "for name in data:\n",
    "    output_file.write(name + \"\\n\")\n",
    "\n",
    "output_file.close()"
   ]
  },
  {
   "cell_type": "code",
   "execution_count": 45,
   "metadata": {},
   "outputs": [
    {
     "name": "stdout",
     "output_type": "stream",
     "text": [
      "Hofstadter\n",
      "?\n",
      "Cooper\n",
      "\n"
     ]
    }
   ],
   "source": [
    "# Check that the \"names.txt\" file has been written correctly.\n",
    "\n",
    "input_file = open(\"data/names.txt\")\n",
    "last_names = input_file.read()\n",
    "input_file.close()\n",
    "print(last_names)"
   ]
  },
  {
   "cell_type": "code",
   "execution_count": 46,
   "metadata": {},
   "outputs": [
    {
     "name": "stdout",
     "output_type": "stream",
     "text": [
      "Author: Caique Miranda\n",
      "\n",
      "Github username: caiquemiranda\n",
      "\n",
      "sys: 3.10.5 (tags/v3.10.5:f377153, Jun  6 2022, 16:14:13) [MSC v.1929 64 bit (AMD64)]\n",
      "\n"
     ]
    }
   ],
   "source": [
    "%reload_ext watermark\n",
    "%watermark -a \"Caique Miranda\" -gu \"caiquemiranda\" -iv"
   ]
  },
  {
   "cell_type": "markdown",
   "metadata": {},
   "source": [
    "### End"
   ]
  }
 ],
 "metadata": {
  "kernelspec": {
   "display_name": "Python 3.10.5 64-bit",
   "language": "python",
   "name": "python3"
  },
  "language_info": {
   "codemirror_mode": {
    "name": "ipython",
    "version": 3
   },
   "file_extension": ".py",
   "mimetype": "text/x-python",
   "name": "python",
   "nbconvert_exporter": "python",
   "pygments_lexer": "ipython3",
   "version": "3.10.5"
  },
  "orig_nbformat": 4,
  "vscode": {
   "interpreter": {
    "hash": "74af3d2f25f1e46ebd2903d59225d79e4675ec224d56c01fc30cd168c2010d53"
   }
  }
 },
 "nbformat": 4,
 "nbformat_minor": 2
}
