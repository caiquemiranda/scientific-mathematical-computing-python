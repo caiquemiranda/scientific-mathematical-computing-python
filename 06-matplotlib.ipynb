{
 "cells": [
  {
   "cell_type": "markdown",
   "metadata": {},
   "source": [
    "- plot - Plot lines and/or markers.\n",
    "---\n",
    "- scatter - Scatter plot of x vs y.\n",
    "----\n",
    "- show - Display a figure.\n",
    "---\n",
    "- title - Set a title for the graph.\n",
    "---\n",
    "- xlabel/ylabel - Set labels for the x and y axes.\n",
    "---\n",
    "- xlim/ylim - Get or set the range of x and y values to be displayed.\n",
    "---\n",
    "- xticks/yticks - Get or set the locations and labels for the tick marks on the x and y axes.\n",
    "---\n",
    "- subplot - Plot multiple graphs in one figure.\n",
    "---\n",
    "- figure - Create a new figure.\n",
    "---\n",
    "- fill_between - Fill the area between two curves.\n",
    "---\n",
    "- legend - Put a legend on the graph."
   ]
  },
  {
   "cell_type": "markdown",
   "metadata": {},
   "source": [
    "### Basic Plotting"
   ]
  },
  {
   "cell_type": "markdown",
   "metadata": {},
   "source": [
    "### A More Complex Plotting Example"
   ]
  },
  {
   "cell_type": "markdown",
   "metadata": {},
   "source": [
    "### Bar Plots"
   ]
  },
  {
   "cell_type": "markdown",
   "metadata": {},
   "source": [
    "### Polar Plots"
   ]
  },
  {
   "cell_type": "markdown",
   "metadata": {},
   "source": [
    "### Histograms"
   ]
  },
  {
   "cell_type": "markdown",
   "metadata": {},
   "source": [
    "### Pie Charts"
   ]
  },
  {
   "cell_type": "markdown",
   "metadata": {},
   "source": [
    "### Contour Plots"
   ]
  },
  {
   "cell_type": "markdown",
   "metadata": {},
   "source": [
    "### Clope Fields"
   ]
  },
  {
   "cell_type": "markdown",
   "metadata": {},
   "source": [
    "### Stream Plots"
   ]
  },
  {
   "cell_type": "markdown",
   "metadata": {},
   "source": [
    "### Multiple Plots"
   ]
  },
  {
   "cell_type": "markdown",
   "metadata": {},
   "source": [
    "### Formatting Text"
   ]
  },
  {
   "cell_type": "markdown",
   "metadata": {},
   "source": [
    "### Formatting Mathematical Expressions"
   ]
  },
  {
   "cell_type": "markdown",
   "metadata": {},
   "source": [
    "### End."
   ]
  }
 ],
 "metadata": {
  "language_info": {
   "name": "python"
  },
  "orig_nbformat": 4
 },
 "nbformat": 4,
 "nbformat_minor": 2
}
