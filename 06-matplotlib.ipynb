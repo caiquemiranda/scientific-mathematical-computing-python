{
 "cells": [
  {
   "attachments": {},
   "cell_type": "markdown",
   "metadata": {},
   "source": [
    "### Matplotlib"
   ]
  },
  {
   "attachments": {},
   "cell_type": "markdown",
   "metadata": {},
   "source": [
    "Matplotlib é uma biblioteca de plotagem 2D para Python. Ele pode ser usado para gerar gráficos, seus togramas,\n",
    "gráficos de barras, gráficos de contorno, gráficos polares, gráficos de dispersão e muitos outros tipos de gráficos\n",
    "matemáticos. A interface ”pyplot” fornece uma interface semelhante ao MATLAB para plotagem simples e é a\n",
    "principal que usaremos"
   ]
  },
  {
   "attachments": {},
   "cell_type": "markdown",
   "metadata": {},
   "source": [
    "Os comandos a seguir são os principais usados para criar e formatar gráficos.\n",
    "\n",
    "Traçar linhas e/ou marcadores.\n",
    "Gráfico de dispersão de x vs y.\n",
    "Exiba uma figura.\n"
   ]
  },
  {
   "attachments": {},
   "cell_type": "markdown",
   "metadata": {},
   "source": [
    "Cores, estilos de linha e estilos de marcadores podem ser definidos para criar gráficos personalizados. Geralmente\n",
    "são especificados como strings, com as opções usadas com mais frequência"
   ]
  },
  {
   "attachments": {},
   "cell_type": "markdown",
   "metadata": {},
   "source": [
    "Opções de estilo"
   ]
  },
  {
   "attachments": {},
   "cell_type": "markdown",
   "metadata": {},
   "source": [
    "#### Plotagem Básica"
   ]
  },
  {
   "attachments": {},
   "cell_type": "markdown",
   "metadata": {},
   "source": [
    "As funções podem ser representadas graficamente usando uma chamada para plot(x, y), seguida por uma chamada para show.\n",
    "Observe que:\n",
    "\n",
    "- O parâmetro x contém as coordenadas x dos pontos a serem plotados e o parâmetro y contém as coordenadas y.\n",
    "- Precisamos importar as funções NumPy e Matplotlib necessárias para manipulação e plotagem de array.\n",
    "- Se estiver usando o Jupyter Notebook, chamando as chamadas inline %matplotlib do IPython magic, elas são\n",
    "exibidas automaticamente quando a célula é executada.\n",
    "- O comportamento de plotagem padrão é conectar os pontos com uma linha azul."
   ]
  },
  {
   "attachments": {},
   "cell_type": "markdown",
   "metadata": {},
   "source": [
    "O exemplo a seguir plota a função exponencial no intervalo [0, 5]."
   ]
  },
  {
   "cell_type": "code",
   "execution_count": null,
   "metadata": {},
   "outputs": [],
   "source": [
    "import numpy as np # Funções NumPy disponíveis com \"np.\"\n",
    "import matplotlib.pyplot as plt # Importa funções de plotagem do Matplotlib\n",
    "\n",
    "x = np.linspace(0, 5) # Cria array de valores igualmente espaçados\n",
    "\n",
    "plt.plot(x, np.exp(x)) # Plota a função exponencial\n",
    "plt.show() # Finalmente, mostre a figura"
   ]
  },
  {
   "attachments": {},
   "cell_type": "markdown",
   "metadata": {},
   "source": [
    "#### Um exemplo de plotagem mais complexo"
   ]
  },
  {
   "attachments": {},
   "cell_type": "markdown",
   "metadata": {},
   "source": [
    "Uma variedade de opções está disponível para personalizar plotagens. Eles são ilustrados no exemplo abaixo, que\n",
    "traça uma curva de seno e cosseno no mesmo gráfico."
   ]
  },
  {
   "attachments": {},
   "cell_type": "markdown",
   "metadata": {},
   "source": [
    "- O terceiro argumento para plotar pode ser usado para definir cores, tipos de linha e tipos de marcadores.\n",
    "- Múltiplos gráficos podem ser desenhados em uma figura, seguidos por uma única chamada para mostrar."
   ]
  },
  {
   "cell_type": "code",
   "execution_count": null,
   "metadata": {},
   "outputs": [],
   "source": [
    "import numpy as np # # Importa linspace, sin, cos\n",
    "import matplotlib.pyplot as plt # Importa funções de plotagem\n",
    "\n",
    "x = np.linspace(0, 2*np.pi, 50) # Plote 50 pontos no eixo x\n",
    "\n",
    "plt.figure(figsize=(10,7)) # Defina o tamanho da figura\n",
    "plt.plot(x, np.sin(x), label= 'sine') # O estilo padrão é uma linha azul\n",
    "plt.scatter(x, np.cos(x), c='r', label= 'cosine') # Use 'r' para círculos vermelhos\n",
    "plt.xlabel('theta') # Rotule o eixo x\n",
    "plt.xlim(0, 2*np.pi) # Limite o eixo x a este intervalo\n",
    "\n",
    "ticks = [i*np.pi/2 for i in range(5)] # Localização dos ticks no eixo x\n",
    "labels = [r'$0$', r'$\\pi/2$', r'$\\pi$', # Rótulos para os tiques do eixo x\n",
    "         r'$3\\pi/2$', r'$2\\pi$'] # - são strings LaTeX\n",
    "\n",
    "plt.xticks(ticks, labels, size='large') # Adicione os x-ticks e rótulos\n",
    "plt.title('Sine and Cosine') # Adicione um título\n",
    "plt.legend() # A legenda usa os rótulos do gráfico\n",
    "plt.show() # Finalmente, mostre a figura"
   ]
  },
  {
   "attachments": {},
   "cell_type": "markdown",
   "metadata": {},
   "source": [
    "#### Gráficos de barras"
   ]
  },
  {
   "attachments": {},
   "cell_type": "markdown",
   "metadata": {},
   "source": [
    "A barra de funções é usada para criar gráficos de barra."
   ]
  },
  {
   "attachments": {},
   "cell_type": "markdown",
   "metadata": {},
   "source": [
    "- As barras são descritas por sua altura, largura e posição das bordas esquerda e inferior.\n",
    "- O argumento de largura pode ser usado para tornar as barras mais finas ou mais grossas.\n",
    "- A cor da face e a cor da borda das barras podem ser especificadas independentemente."
   ]
  },
  {
   "attachments": {},
   "cell_type": "markdown",
   "metadata": {},
   "source": [
    "O exemplo a seguir mostra um gráfico de barras com a cor da face definida como ”c” (ciano) e a cor da borda definida\n",
    "como ”b” (azul). Os rótulos são posicionados no centro das barras."
   ]
  },
  {
   "cell_type": "code",
   "execution_count": null,
   "metadata": {},
   "outputs": [],
   "source": [
    "import matplotlib.pyplot as plt # Funções de plotagem de importação\n",
    "\n",
    "grades = ['A', 'B', 'C', 'D', 'F'] # Usado para rotular as barras\n",
    "freqs = [30, 35, 20, 10, 5] # As alturas das barras são frequências\n",
    "width = 0.8 # Largura relativa de cada barra\n",
    "ticks = [width/2 + i for i in range(5)] # Ticks no centro das barras\n",
    "\n",
    "plt.bar(range(5), freqs, fc='c', ec='b') # fc/ec são cores de face/borda\n",
    "plt.xticks(ticks, grades) # Coloque rótulos para as barras\n",
    "plt.ylim(0, 40) # Defina o espaço no topo\n",
    "\n",
    "plt.title('Grade distribution') # Adicione um título\n",
    "\n",
    "plt.xlabel('Grade') # Adicione um rótulo para o eixo x\n",
    "plt.ylabel('Frequency (%)') # Adicione um rótulo para o eixo y\n",
    "\n",
    "plt.show() # Finalmente, mostre a figura"
   ]
  },
  {
   "attachments": {},
   "cell_type": "markdown",
   "metadata": {},
   "source": [
    "#### Gráficos Polares"
   ]
  },
  {
   "attachments": {},
   "cell_type": "markdown",
   "metadata": {},
   "source": [
    "A função polar é usada para criar gráficos polares. Estes traçam o raio contra o ângulo em coordenadas polares"
   ]
  },
  {
   "attachments": {},
   "cell_type": "markdown",
   "metadata": {},
   "source": [
    "- O primeiro argumento para polar é uma matriz de ângulos e o segundo argumento os raios correspondentes.\n",
    "- Cores, tipos de linha e tipos de marcadores são especificados da mesma forma que plotagem.\n",
    "- Polar pode ser chamado várias vezes, seguido de uma única chamada para mostrar."
   ]
  },
  {
   "attachments": {},
   "cell_type": "markdown",
   "metadata": {},
   "source": [
    "O exemplo a seguir mostra uma plotagem polar com o estilo do marcador em ”d” (diamante) e a cor definida em\n",
    "”m” (magenta)."
   ]
  },
  {
   "cell_type": "code",
   "execution_count": null,
   "metadata": {},
   "outputs": [],
   "source": [
    "import numpy as np # Importar linspace, cos, pi\n",
    "import matplotlib.pyplot as plt # Funções de plotagem de importação\n",
    "\n",
    "theta = np.linspace(0, 2*np.pi, 100) # Cria array de valores igualmente espaçados\n",
    "r = 2 + np.cos(5*theta) # Gerar raio como uma função do ângulo\n",
    "plt.polar(theta, r, marker='d', ls='None', color='m') # Marcador de diamante 'd'\n",
    "\n",
    "plt.title('Polar plot') # Adicione o título\n",
    "plt.show() # Finalmente, mostre a figura"
   ]
  },
  {
   "attachments": {},
   "cell_type": "markdown",
   "metadata": {},
   "source": [
    "#### Histogramas"
   ]
  },
  {
   "attachments": {},
   "cell_type": "markdown",
   "metadata": {},
   "source": [
    "A função hist é usada para plotar histogramas. Estes agrupam dados numéricos em “bins”, geralmente de\n",
    "largura igual, para mostrar como os dados são distribuídos."
   ]
  },
  {
   "attachments": {},
   "cell_type": "markdown",
   "metadata": {},
   "source": [
    "- Cada compartimento cobre uma faixa de valores, com a altura de cada compartimento indicando o número de pontos que se enquadram nesse intervalo.\n",
    "- O primeiro argumento é uma matriz ou sequência de matrizes.\n",
    "- O argumento bins especifica o número de bins a serem usados.\n",
    "- O argumento range especifica o intervalo de valores a serem incluídos."
   ]
  },
  {
   "attachments": {},
   "cell_type": "markdown",
   "metadata": {},
   "source": [
    "O exemplo a seguir plota um histograma de 1.000 amostras extraídas de uma distribuição de probabilidade\n",
    "uniforme em [0, 1)."
   ]
  },
  {
   "cell_type": "code",
   "execution_count": null,
   "metadata": {},
   "outputs": [],
   "source": [
    "import numpy as np # Tornar random.rand disponível\n",
    "import matplotlib.pyplot as plt # Importar funções de plotagem\n",
    "\n",
    "x = np.random.rand(1000) # Importar funções de plotagem\n",
    "\n",
    "plt.hist(x, bins=20, range=(0,1), fc='g') # Cria histograma com 20 bins\n",
    "plt.title('Uniform distribution') # Adicione um título\n",
    "\n",
    "plt.xlabel('Value') # Adicione um rótulo para o eixo x\n",
    "plt.ylabel('Frequency') # Adicione um rótulo para o eixo y\n",
    "\n",
    "plt.show() # Finalmente, mostre a figura"
   ]
  },
  {
   "attachments": {},
   "cell_type": "markdown",
   "metadata": {},
   "source": [
    "#### Gráficos de Pizza"
   ]
  },
  {
   "attachments": {},
   "cell_type": "markdown",
   "metadata": {},
   "source": [
    "A função pizza é usada para criar gráficos de pizza. Estes são um tipo de gráfico em que um círculo é dividido\n",
    "em fatias que representam uma proporção do todo."
   ]
  },
  {
   "attachments": {},
   "cell_type": "markdown",
   "metadata": {},
   "source": [
    "- O primeiro argumento para torta é uma sequência de valores usados para os tamanhos de fatia.\n",
    "- O argumento labels é uma sequência de strings que fornecem os rótulos para cada fatia.\n",
    "- O argumento da sombra é um booleano que especifica se deve desenhar uma sombra abaixo a torta."
   ]
  },
  {
   "attachments": {},
   "cell_type": "markdown",
   "metadata": {},
   "source": [
    "O exemplo a seguir mostra um gráfico de pizza com sombra definida como True ."
   ]
  },
  {
   "cell_type": "code",
   "execution_count": null,
   "metadata": {},
   "outputs": [],
   "source": [
    "import matplotlib.pyplot as plt # Funções de plotagem de importação\n",
    "\n",
    "percentages = [55, 25, 10, 5, 5] # tamanhos de cunha\n",
    "labels = ['A', 'B', 'C', 'D', 'F'] # Lista de rótulos para as fatias\n",
    "\n",
    "plt.axes(aspect=1) # Proporção = 1 para um círculo verdadeiro\n",
    "\n",
    "plt.pie(percentages, labels=labels, shadow=True)\n",
    "plt.title('MTH 337 Grade Distribution') # Adicione um título\n",
    "\n",
    "plt.show() # Finalmente, mostre a figura"
   ]
  },
  {
   "attachments": {},
   "cell_type": "markdown",
   "metadata": {},
   "source": [
    "#### Gráficos de Contorno"
   ]
  },
  {
   "attachments": {},
   "cell_type": "markdown",
   "metadata": {},
   "source": [
    "As funções contorno e contornof são usadas para plotagens de contorno e plotagens de contorno preenchido,\n",
    "respectivamente. Estas são projeções de uma superfície gráfica em um plano, com os contornos mostrando as curvas\n",
    "de nível do gráfico."
   ]
  },
  {
   "attachments": {},
   "cell_type": "markdown",
   "metadata": {},
   "source": [
    "- Os dois primeiros argumentos são matrizes unidimensionais representando x e y coordenadas dos pontos a traçar.\n",
    "- A terceira coordenada é uma matriz bidimensional que representa as coordenadas z.\n",
    "- Os níveis de contorno são definidos automaticamente, embora possam ser personalizados.\n",
    "- Uma barra de cores pode ser adicionada para exibir as curvas de nível."
   ]
  },
  {
   "cell_type": "code",
   "execution_count": null,
   "metadata": {},
   "outputs": [],
   "source": [
    "import numpy as np # Importa linspace, meshgrid, exp\n",
    "import matplotlib.pyplot as plt # Funções de plotagem de importação\n",
    "\n",
    "x = np.linspace(-2,2) # Localização das coordenadas x\n",
    "y = np.linspace(-2,2) # Localização das coordenadas y\n",
    "XX, YY = np.meshgrid(x, y) # meshgrid retorna dois arrays 2D\n",
    "z = np.exp(-(XX**2 + YY**2)) # é um gaussiano 2D\n",
    "\n",
    "plt.figure(figsize=(14,5)) # Defina as dimensões da figura\n",
    "plt.subplot(121) # Primeira subtrama, 1 linha, 2 colunas\n",
    "plt.contour(x, y, z) # plotagem de contorno\n",
    "\n",
    "plt.title('Contour plot') # Título adicionado à primeira subtrama\n",
    "plt.colorbar() # Barra de cores adicionada à primeira subtrama\n",
    "plt.subplot(122) # Segunda subtrama\n",
    "plt.contourf(x, y, z) # Gráfico de contorno preenchido\n",
    "plt.title('Filled contour plot') # Título adicionado à segunda subtrama\n",
    "plt.colorbar() # Barra de cores adicionada à segunda subtrama\n",
    "\n",
    "plt.show() # Finalmente, mostre a figura"
   ]
  },
  {
   "cell_type": "markdown",
   "metadata": {},
   "source": [
    "### Clope Fields"
   ]
  },
  {
   "attachments": {},
   "cell_type": "markdown",
   "metadata": {},
   "source": [
    "A função quiver plota um campo bidimensional de setas, também conhecido como campo de inclinação."
   ]
  },
  {
   "attachments": {},
   "cell_type": "markdown",
   "metadata": {},
   "source": [
    "- Se quatro ou mais argumentos estiverem presentes, os dois primeiros argumentos são unidimensionais matrizes que representam as coordenadas x e y das setas.\n",
    "- Os próximos dois argumentos obrigatórios são matrizes bidimensionais que representam o x- e componentes y dos vetores de seta.\n",
    "- Um argumento opcional pode ser usado para alterar as cores individuais das setas. "
   ]
  },
  {
   "attachments": {},
   "cell_type": "markdown",
   "metadata": {},
   "source": [
    "Os argumentos de palavra-chave permitem que a forma e a aparência das setas sejam personalizadas."
   ]
  },
  {
   "cell_type": "code",
   "execution_count": null,
   "metadata": {},
   "outputs": [],
   "source": [
    "import numpy as np # Importa linspace, meshgrid\n",
    "import matplotlib.pyplot as plt # Funções de plotagem de importação\n",
    "\n",
    "x = np.linspace(-3.5, 3.5, 29) # Locais das coordenadas x\n",
    "y = np.linspace(-2, 2, 17) # Locais das coordenadas y\n",
    "\n",
    "xx, yy = np.meshgrid(x, y) # meshgrid retorna dois arrays 2D\n",
    "u = 1 - yy**2 # dx/dt = 1 - y**2\n",
    "v = yy - xx # dy/dt = y - x\n",
    "\n",
    "plt.quiver(x, y, u, v, color='b') # Plota o campo de inclinação\n",
    "\n",
    "plt.xlabel('x') # Adicione um rótulo para o eixo x\n",
    "plt.ylabel('y') # Adicione um rótulo para o eixo y\n",
    "plt.title('Quiver plot') # Adicione um título\n",
    "plt.show() # Finalmente, mostre a figura"
   ]
  },
  {
   "attachments": {},
   "cell_type": "markdown",
   "metadata": {},
   "source": [
    "#### Gráficos de Fluxo"
   ]
  },
  {
   "attachments": {},
   "cell_type": "markdown",
   "metadata": {},
   "source": [
    "A função streamplot plota as linhas de corrente de um fluxo vetorial. Isso é semelhante a um campo de inclinação,\n",
    "mas com as setas do campo de inclinação conectadas em curvas contínuas."
   ]
  },
  {
   "attachments": {},
   "cell_type": "markdown",
   "metadata": {},
   "source": [
    "- Os dois primeiros argumentos são matrizes unidimensionais representando x e y coordenadas dos vetores.\n",
    "- Os próximos dois argumentos são matrizes bidimensionais que representam os componentes x e y dos\n",
    "vetores.\n",
    "- Os argumentos de palavras-chave permitem que a densidade, cor e espessura das linhas de corrente sejam personalizado."
   ]
  },
  {
   "attachments": {},
   "cell_type": "markdown",
   "metadata": {},
   "source": [
    "O exemplo a seguir é de um gráfico de fluxo do mesmo sistema de equações diferenciais ordinárias usado no\n",
    "exemplo de campo de inclinação anterior."
   ]
  },
  {
   "cell_type": "code",
   "execution_count": null,
   "metadata": {},
   "outputs": [],
   "source": [
    "import numpy as np # Importa linspace, meshgrid\n",
    "import matplotlib.pyplot as plt # Funções de plotagem de importação\n",
    "\n",
    "x = np.linspace(-3.5, 3.5, 15) # Localização das coordenadas x\n",
    "y = np.linspace(-2, 2, 9) # Localização das coordenadas y\n",
    "xx, yy = np.meshgrid(x, y) # meshgrid retorna dois arrays 2D\n",
    "u = 1 - yy**2 # dx/dt = 1 - y**2\n",
    "v = yy - xx # dy/dt = y - x\n",
    "\n",
    "plt.streamplot(x, y, u, v) # Plote o streamplot\n",
    "plt.xlabel('x') # Adicione um rótulo para o eixo x\n",
    "plt.ylabel('y') # Adicione um rótulo para o eixo y\n",
    "\n",
    "plt.title('Stream plot') # Adicione um título\n",
    "plt.show() # Finalmente, mostre a figura"
   ]
  },
  {
   "attachments": {},
   "cell_type": "markdown",
   "metadata": {},
   "source": [
    "#### Múltiplos Plots"
   ]
  },
  {
   "attachments": {},
   "cell_type": "markdown",
   "metadata": {},
   "source": [
    "A função subplot é usada para plotar vários gráficos em uma única figura. Isso divide uma figura em uma grade de\n",
    "linhas e colunas, com plotagem feita na subtrama atualmente ativa."
   ]
  },
  {
   "attachments": {},
   "cell_type": "markdown",
   "metadata": {},
   "source": [
    "- As chamadas para a subtrama especificam o número de linhas, o número de colunas e o número da subtrama.\n",
    "- As subparcelas são numeradas da esquerda para a direita, linha por linha, começando com 1 no canto superior esquerdo.\n",
    "- Toda a plotagem é feita no local especificado na chamada mais recente para subplot.\n",
    "- Se houver menos de 10 linhas, colunas e subtramas, a subtrama pode ser chamada com um argumento de\n",
    "string. Por exemplo, subplot(2, 3, 4) é o mesmo que subplot(”234”)."
   ]
  },
  {
   "attachments": {},
   "cell_type": "markdown",
   "metadata": {},
   "source": [
    "O exemplo abaixo usa 2 linhas e 3 colunas. As chamadas de “subplot” exibidas na figura mostram qual chamada\n",
    "corresponde a cada local da grade."
   ]
  },
  {
   "cell_type": "code",
   "execution_count": null,
   "metadata": {},
   "outputs": [],
   "source": [
    "import matplotlib.pyplot as plt # Funções de plotagem de importação\n",
    "\n",
    "fig=plt.figure(figsize=(8,5)) # a as dimensões da figura\n",
    "\n",
    "nrows=2 # Numero de linhas\n",
    "ncols=3 # Numero de colunas\n",
    "\n",
    "for i in range(nrows * ncols):\n",
    "    plt.subplot(nrows, ncols, i+1) # A numeração começa em 1"
   ]
  },
  {
   "attachments": {},
   "cell_type": "markdown",
   "metadata": {},
   "source": [
    "#### Formatando Texto"
   ]
  },
  {
   "attachments": {},
   "cell_type": "markdown",
   "metadata": {},
   "source": [
    "A função text é usada para adicionar uma string de texto a um gráfico em uma determinada posição."
   ]
  },
  {
   "attachments": {},
   "cell_type": "markdown",
   "metadata": {},
   "source": [
    "- Os três primeiros argumentos posicionais especificam a posição x, a posição y e a string de texto.\n",
    "- O argumento fontsize especifica o tamanho da fonte a ser usada.\n",
    "- argumento fontstyle especifica o estilo de fonte a ser usado ('normal', 'itálico' etc).\n",
    "- O argumento fontweight especifica o tamanho da fonte ('normal', 'bold'). • O argumento da família\n",
    "especifica a família da fonte a ser usada ('serif', 'sans-serif' etc).\n",
    "- O argumento color especifica a cor do texto."
   ]
  },
  {
   "attachments": {},
   "cell_type": "markdown",
   "metadata": {},
   "source": [
    "ssas opções podem ser combinadas (por exemplo, para especificar texto em negrito, vermelho,\n",
    "itálico e tamanho 14). O exemplo abaixo ilustra o uso dessas opções."
   ]
  },
  {
   "cell_type": "code",
   "execution_count": null,
   "metadata": {},
   "outputs": [],
   "source": [
    "import matplotlib.pyplot as plt # Funções de plotagem de importação\n",
    "\n",
    "sizes = [10,12,14,16,18]\n",
    "\n",
    "for sizepos, size in enumerate(sizes):\n",
    "    plt.text(0, sizepos, \"Font size = {}\".format(size), fontsize=size)\n",
    "\n",
    "styles = ['normal', 'italic', 'oblique']\n",
    "for stylepos, style in enumerate(styles):\n",
    "    plt.text(1, stylepos, \"Style = {}\".format(style), fontstyle=style)\n",
    "\n",
    "families = ['serif', 'sans-serif', 'monospace']\n",
    "for familypos, family in enumerate(families):\n",
    "    plt.text(2, familypos, \"Family = {}\".format(family), family=family)\n",
    "\n",
    "weights = ['normal', 'bold']\n",
    "for weightpos, weight in enumerate(weights):\n",
    "    plt.text(3, weightpos, \"Weight = {}\".format(weight), fontweight=weight)\n",
    "\n",
    "colors = ['r', 'g', 'b', 'y', 'c']\n",
    "for colorpos, color in enumerate(colors):\n",
    "    plt.text(4, colorpos, \"Color = {}\".format(color), color=color)"
   ]
  },
  {
   "attachments": {},
   "cell_type": "markdown",
   "metadata": {},
   "source": [
    "#### Formatando Expressões Matemáticas"
   ]
  },
  {
   "attachments": {},
   "cell_type": "markdown",
   "metadata": {},
   "source": [
    "O LATEX fornece uma maneira de formatar expressões matemáticas em gráficos Matplotlib de maneira\n",
    "semelhante às células Jupyter Notebook Markdown."
   ]
  },
  {
   "attachments": {},
   "cell_type": "markdown",
   "metadata": {},
   "source": [
    "- Expressões matemáticas são identificadas usando r”$formula$” .\n",
    "- A sintaxe da fórmula é a mesma descrita na seção 1.4.3 sobre LATEX.\n",
    "- Essas expressões podem ser usadas em qualquer lugar em que uma string é usada, como títulos, rótulos de eixos e escalas e legendas. "
   ]
  },
  {
   "attachments": {},
   "cell_type": "markdown",
   "metadata": {},
   "source": [
    "O exemplo abaixo ilustra vários exemplos de expressões matemáticas usando LATEX."
   ]
  },
  {
   "cell_type": "code",
   "execution_count": null,
   "metadata": {},
   "outputs": [],
   "source": [
    "import numpy as np # Importar arange, cumsum, pi\n",
    "import matplotlib.pyplot as plt # Funções de plotagem\n",
    "\n",
    "x = np.arange(1,10)\n",
    "y1 = np.cumsum(1/x) # cumsum calcula a soma cumulativa\n",
    "y2 = np.cumsum(1/(x**2))\n",
    "width = 0.4\n",
    "\n",
    "plt.bar(x, y1, width=width, fc='c',label=r'$\\sum_{i=1}^n \\frac{1}{i}$')\n",
    "plt.bar(x+width, y2, width=width, fc='y', label=r'$\\sum_{i=1}^n \\frac{1}{i^2}$')\n",
    "\n",
    "ticks = x + width # Desloca os x-ticks para o centro nas barras\n",
    "xlabels = [str(val) for val in x] # Os rótulos devem ser strings\n",
    "\n",
    "plt.xticks(ticks, xlabels)\n",
    "\n",
    "ticks = [1, np.pi**2/6]\n",
    "ylabels = [r'$1$', r'$\\pi^2/6$'] # Observe que \\pi renderiza como um símbolo\n",
    "\n",
    "plt.yticks(ticks, ylabels)\n",
    "plt.xlabel(r'$n$')\n",
    "\n",
    "plt.legend(loc='upper left')\n",
    "plt.title('Partial sum of p-series for p = 1, 2')"
   ]
  },
  {
   "cell_type": "code",
   "execution_count": null,
   "metadata": {},
   "outputs": [],
   "source": [
    "%reload_ext watermark\n",
    "%watermark -a \"Caique Miranda\" -gu \"caiquemiranda\" -iv"
   ]
  },
  {
   "cell_type": "markdown",
   "metadata": {},
   "source": [
    "### End."
   ]
  }
 ],
 "metadata": {
  "kernelspec": {
   "display_name": "Python 3.10.5 64-bit",
   "language": "python",
   "name": "python3"
  },
  "language_info": {
   "codemirror_mode": {
    "name": "ipython",
    "version": 3
   },
   "file_extension": ".py",
   "mimetype": "text/x-python",
   "name": "python",
   "nbconvert_exporter": "python",
   "pygments_lexer": "ipython3",
   "version": "3.10.5"
  },
  "orig_nbformat": 4,
  "vscode": {
   "interpreter": {
    "hash": "74af3d2f25f1e46ebd2903d59225d79e4675ec224d56c01fc30cd168c2010d53"
   }
  }
 },
 "nbformat": 4,
 "nbformat_minor": 2
}
