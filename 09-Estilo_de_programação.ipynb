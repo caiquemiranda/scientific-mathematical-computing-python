{
 "cells": [
  {
   "attachments": {},
   "cell_type": "markdown",
   "metadata": {},
   "source": [
    "### Estilo de Programação"
   ]
  },
  {
   "attachments": {},
   "cell_type": "markdown",
   "metadata": {},
   "source": [
    "Os programas são escritos antes de mais nada para serem compreendidos por seres humanos, não por\n",
    "computadores. Idealmente, deve ser possível daqui a um ano você pegar o código que está escrevendo hoje e\n",
    "ainda entender o que estava fazendo e por quê."
   ]
  },
  {
   "attachments": {},
   "cell_type": "markdown",
   "metadata": {},
   "source": [
    "#### Escolhendo Bons Nomes de Variáveis"
   ]
  },
  {
   "attachments": {},
   "cell_type": "markdown",
   "metadata": {},
   "source": [
    "Bons nomes de variáveis facilitam muito a leitura e a depuração de um programa. Nomes bem escolhidos são\n",
    "fáceis de decifrar e deixam a intenção clara sem comentários adicionais"
   ]
  },
  {
   "attachments": {},
   "cell_type": "markdown",
   "metadata": {},
   "source": [
    "- Um nome de variável deve descrever completa e precisamente os dados que ela representa. Por exemplo,\n",
    "date pode ser ambíguo, enquanto current_date não é. Uma boa técnica é declarar em palavras o que a\n",
    "variável representa e usar isso para o nome.\n",
    "- Nomes muito curtos não transmitem significado suficiente. Por exemplo, usar d para data ou cd para data\n",
    "atual é quase sem sentido. A pesquisa mostra que os programas com nomes de variáveis com cerca de 9\n",
    "a 15 caracteres são mais fáceis de entender e depurar.\n",
    "- Os nomes das variáveis devem ser orientados para o problema, referindo-se ao domínio do problema, não\n",
    "como o problema está sendo resolvido. Por exemplo, planet_velocity refere-se ao problema, mas vector_3d\n",
    "refere-se a como essa informação está sendo representada.\n",
    "- Os índices de loop geralmente recebem nomes curtos e simples, como i, j e k. Tudo bem aqui, já que essas\n",
    "variáveis são apenas usadas no loop e depois descartadas.\n",
    "- Se os loops estiverem aninhados, nomes de índice mais longos, como linha e coluna, podem ajudar a evitar confusão\n",
    "- As variáveis booleanas devem ter nomes que impliquem Verdadeiro ou Falso. Por exemplo, prime_found\n",
    "implica que um primo foi encontrado ou não.\n",
    "- As variáveis booleanas devem ser positivas. Por exemplo, use prime_found em vez de prime_not_found,\n",
    "pois nomes negativos são difíceis de ler (principalmente se forem negados).\n",
    "- As constantes nomeadas devem estar em letras maiúsculas e referir-se ao que a constante representa, e\n",
    "não ao valor que ela possui. Por exemplo, se você quiser usar a mesma cor azul para a fonte em todos os\n",
    "títulos, defina a cor em um local como TITLE_FONT_COLOR em vez de FONT_BLUE. Se mais tarde você\n",
    "decidir ter títulos vermelhos em vez de azuis, basta redefinir TITLE_FONT_COLOR e manterá o mesmo\n",
    "significado."
   ]
  },
  {
   "attachments": {},
   "cell_type": "markdown",
   "metadata": {},
   "source": [
    "#### Escolhendo Bons Nomes de Função"
   ]
  },
  {
   "cell_type": "markdown",
   "metadata": {},
   "source": []
  },
  {
   "cell_type": "markdown",
   "metadata": {},
   "source": []
  },
  {
   "cell_type": "markdown",
   "metadata": {},
   "source": []
  },
  {
   "cell_type": "markdown",
   "metadata": {},
   "source": []
  },
  {
   "cell_type": "markdown",
   "metadata": {},
   "source": []
  },
  {
   "cell_type": "markdown",
   "metadata": {},
   "source": []
  },
  {
   "cell_type": "markdown",
   "metadata": {},
   "source": []
  },
  {
   "cell_type": "markdown",
   "metadata": {},
   "source": []
  },
  {
   "cell_type": "markdown",
   "metadata": {},
   "source": []
  },
  {
   "cell_type": "markdown",
   "metadata": {},
   "source": []
  },
  {
   "cell_type": "markdown",
   "metadata": {},
   "source": []
  },
  {
   "cell_type": "code",
   "execution_count": null,
   "metadata": {},
   "outputs": [],
   "source": [
    "%reload_ext watermark\n",
    "%watermark -a \"Caique Miranda\" -gu \"caiquemiranda\" -iv"
   ]
  },
  {
   "cell_type": "markdown",
   "metadata": {},
   "source": [
    "### End."
   ]
  }
 ],
 "metadata": {
  "kernelspec": {
   "display_name": "Python 3.10.5 64-bit",
   "language": "python",
   "name": "python3"
  },
  "language_info": {
   "codemirror_mode": {
    "name": "ipython",
    "version": 3
   },
   "file_extension": ".py",
   "mimetype": "text/x-python",
   "name": "python",
   "nbconvert_exporter": "python",
   "pygments_lexer": "ipython3",
   "version": "3.10.5"
  },
  "orig_nbformat": 4,
  "vscode": {
   "interpreter": {
    "hash": "74af3d2f25f1e46ebd2903d59225d79e4675ec224d56c01fc30cd168c2010d53"
   }
  }
 },
 "nbformat": 4,
 "nbformat_minor": 2
}
