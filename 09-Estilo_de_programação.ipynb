{
 "cells": [
  {
   "attachments": {},
   "cell_type": "markdown",
   "metadata": {},
   "source": [
    "### Estilo de Programação"
   ]
  },
  {
   "attachments": {},
   "cell_type": "markdown",
   "metadata": {},
   "source": [
    "Os programas são escritos antes de mais nada para serem compreendidos por seres humanos, não por\n",
    "computadores. Idealmente, deve ser possível daqui a um ano você pegar o código que está escrevendo hoje e\n",
    "ainda entender o que estava fazendo e por quê."
   ]
  },
  {
   "attachments": {},
   "cell_type": "markdown",
   "metadata": {},
   "source": [
    "#### Escolhendo Bons Nomes de Variáveis"
   ]
  },
  {
   "attachments": {},
   "cell_type": "markdown",
   "metadata": {},
   "source": [
    "Bons nomes de variáveis facilitam muito a leitura e a depuração de um programa. Nomes bem escolhidos são\n",
    "fáceis de decifrar e deixam a intenção clara sem comentários adicionais"
   ]
  },
  {
   "attachments": {},
   "cell_type": "markdown",
   "metadata": {},
   "source": [
    "- Um nome de variável deve descrever completa e precisamente os dados que ela representa. Por exemplo,\n",
    "date pode ser ambíguo, enquanto current_date não é. Uma boa técnica é declarar em palavras o que a\n",
    "variável representa e usar isso para o nome.\n",
    "- Nomes muito curtos não transmitem significado suficiente. Por exemplo, usar d para data ou cd para data\n",
    "atual é quase sem sentido. A pesquisa mostra que os programas com nomes de variáveis com cerca de 9\n",
    "a 15 caracteres são mais fáceis de entender e depurar.\n",
    "- Os nomes das variáveis devem ser orientados para o problema, referindo-se ao domínio do problema, não\n",
    "como o problema está sendo resolvido. Por exemplo, planet_velocity refere-se ao problema, mas vector_3d\n",
    "refere-se a como essa informação está sendo representada.\n",
    "- Os índices de loop geralmente recebem nomes curtos e simples, como i, j e k. Tudo bem aqui, já que essas\n",
    "variáveis são apenas usadas no loop e depois descartadas.\n",
    "- Se os loops estiverem aninhados, nomes de índice mais longos, como linha e coluna, podem ajudar a evitar confusão\n",
    "- As variáveis booleanas devem ter nomes que impliquem Verdadeiro ou Falso. Por exemplo, prime_found\n",
    "implica que um primo foi encontrado ou não.\n",
    "- As variáveis booleanas devem ser positivas. Por exemplo, use prime_found em vez de prime_not_found,\n",
    "pois nomes negativos são difíceis de ler (principalmente se forem negados).\n",
    "- As constantes nomeadas devem estar em letras maiúsculas e referir-se ao que a constante representa, e\n",
    "não ao valor que ela possui. Por exemplo, se você quiser usar a mesma cor azul para a fonte em todos os\n",
    "títulos, defina a cor em um local como TITLE_FONT_COLOR em vez de FONT_BLUE. Se mais tarde você\n",
    "decidir ter títulos vermelhos em vez de azuis, basta redefinir TITLE_FONT_COLOR e manterá o mesmo\n",
    "significado."
   ]
  },
  {
   "attachments": {},
   "cell_type": "markdown",
   "metadata": {},
   "source": [
    "#### Escolhendo Bons Nomes de Função"
   ]
  },
  {
   "attachments": {},
   "cell_type": "markdown",
   "metadata": {},
   "source": [
    "O estilo recomendado para nomear funções em Python é usar todas as letras minúsculas, separadas por\n",
    "sublinhados conforme necessário. Assim como os nomes de variáveis, bons nomes de função podem ajudar a\n",
    "tornar a intenção do código muito mais fácil de decifrar."
   ]
  },
  {
   "attachments": {},
   "cell_type": "markdown",
   "metadata": {},
   "source": [
    "- Para procedimentos (funções que fazem algo e não retornam um valor), use um verbo seguido de um\n",
    "objeto. Um exemplo seria plot_prime_distribution.\n",
    "- Para funções que retornam valores, use uma descrição do que o valor retornado representa. Um exemplo\n",
    "seria miles_to_kilometers.\n",
    "- Não use nomes genéricos como calculate_stuff ou funções numeradas como function1. Eles não informam\n",
    "o que a função faz e tornam o código difícil de seguir.\n",
    "- Descreva tudo o que a função faz, e faça o nome da função do tamanho que for necessário para isso. Se\n",
    "o nome da função for muito longo, pode ser um sinal de que a própria função está tentando fazer demais.\n",
    "Nesse caso, a solução é usar funções mais curtas que executam apenas uma tarefa."
   ]
  },
  {
   "attachments": {},
   "cell_type": "markdown",
   "metadata": {},
   "source": [
    "#### Sem “Números Mágicos”"
   ]
  },
  {
   "attachments": {},
   "cell_type": "markdown",
   "metadata": {},
   "source": [
    "Números mágicos são números como 168 ou 9,81 que aparecem em um programa sem explicação. O problema\n",
    "com esses números é que o significado não é claro apenas lendo o próprio número."
   ]
  },
  {
   "attachments": {},
   "cell_type": "markdown",
   "metadata": {},
   "source": [
    "- Os números devem ser substituídos por constantes nomeadas que são definidas em um lugar, próximo ao início do seu arquivo de código.\n",
    "- As constantes nomeadas tornam o código mais legível. É muito mais fácil entender a que\n",
    "HOURS_PER_WEEK se refere do que o número 168.\n",
    "- Se um número precisar ser alterado, as constantes nomeadas permitem que essa alteração seja feita em um\n",
    "local de maneira fácil e confiável."
   ]
  },
  {
   "attachments": {},
   "cell_type": "markdown",
   "metadata": {},
   "source": [
    "#### Comentários"
   ]
  },
  {
   "attachments": {},
   "cell_type": "markdown",
   "metadata": {},
   "source": [
    "Não é necessário comentar cada linha de código, e comentários “óbvios” que apenas repetem o que o código\n",
    "faz devem ser evitados. Por exemplo, o comentário final no código a seguir é redundante e não faz nada para\n",
    "explicar para que serve o código."
   ]
  },
  {
   "cell_type": "code",
   "execution_count": null,
   "metadata": {},
   "outputs": [],
   "source": [
    "x = 1\n",
    "\n",
    "x += 1 # Some 1 a x"
   ]
  },
  {
   "attachments": {},
   "cell_type": "markdown",
   "metadata": {},
   "source": [
    "Bons comentários servem a dois propósitos principais:"
   ]
  },
  {
   "attachments": {},
   "cell_type": "markdown",
   "metadata": {},
   "source": [
    "- Os comentários de \"intenção\" explicam a finalidade do código. Eles operam no nível do problema (por que\n",
    "o código foi escrito) - e não no nível da linguagem de programação (como o código opera). A intenção\n",
    "costuma ser uma das coisas mais difíceis de entender ao ler o código escrito por outro programador.\n",
    "- • Os comentários de “Resumo” destilam várias linhas de código em uma ou duas frases. Eles podem ser verificados\n",
    "mais rapidamente do que o próprio código para entender rapidamente o que o código está fazendo. Por exemplo,\n",
    "suponha que você esteja criando vários gráficos diferentes para um relatório. Um comentário resumido antes de\n",
    "cada conjunto de comandos de plotagem pode descrever qual figura no relatório o código está produzindo."
   ]
  },
  {
   "attachments": {},
   "cell_type": "markdown",
   "metadata": {},
   "source": [
    "Os comentários finais são aqueles no final de uma linha, após o código. É melhor evitá-los por vários motivos.\n",
    "\n",
    "- Os comentários finais são curtos por necessidade, pois precisam caber no espaço restante em uma linha. Isso significa que eles tendem a ser enigmáticos e pouco informativos.\n",
    "- Os comentários finais são difíceis de manter alinhados (principalmente quando o código muda) e, se não estiverem\n",
    "alinhados, tornam-se confusos e interferem na estrutura visual do código."
   ]
  },
  {
   "attachments": {},
   "cell_type": "markdown",
   "metadata": {},
   "source": [
    "Uma observação final é adquirir o hábito de documentar arquivos de código. No topo de cada arquivo, inclua um\n",
    "comentário em bloco descrevendo o conteúdo do arquivo, o autor e a data em que o arquivo foi criado. Um exemplo\n",
    "seria:"
   ]
  },
  {
   "cell_type": "code",
   "execution_count": null,
   "metadata": {},
   "outputs": [],
   "source": [
    "# Relatório 1: Tríplices Pitagóricas Primitivas\n",
    "# MTH 337: Introdução à Computação Científica e Matemática, primavera de 2017\n",
    "# Criado por Adam Cunningham 30/01/2017"
   ]
  },
  {
   "attachments": {},
   "cell_type": "markdown",
   "metadata": {},
   "source": [
    "#### Erros e Depuração"
   ]
  },
  {
   "cell_type": "markdown",
   "metadata": {},
   "source": []
  },
  {
   "cell_type": "markdown",
   "metadata": {},
   "source": []
  },
  {
   "cell_type": "markdown",
   "metadata": {},
   "source": []
  },
  {
   "cell_type": "markdown",
   "metadata": {},
   "source": []
  },
  {
   "cell_type": "markdown",
   "metadata": {},
   "source": []
  },
  {
   "cell_type": "markdown",
   "metadata": {},
   "source": []
  },
  {
   "cell_type": "markdown",
   "metadata": {},
   "source": []
  },
  {
   "cell_type": "markdown",
   "metadata": {},
   "source": []
  },
  {
   "cell_type": "code",
   "execution_count": null,
   "metadata": {},
   "outputs": [],
   "source": [
    "%reload_ext watermark\n",
    "%watermark -a \"Caique Miranda\" -gu \"caiquemiranda\" -iv"
   ]
  },
  {
   "cell_type": "markdown",
   "metadata": {},
   "source": [
    "### End."
   ]
  }
 ],
 "metadata": {
  "kernelspec": {
   "display_name": "Python 3.10.5 64-bit",
   "language": "python",
   "name": "python3"
  },
  "language_info": {
   "codemirror_mode": {
    "name": "ipython",
    "version": 3
   },
   "file_extension": ".py",
   "mimetype": "text/x-python",
   "name": "python",
   "nbconvert_exporter": "python",
   "pygments_lexer": "ipython3",
   "version": "3.10.5"
  },
  "orig_nbformat": 4,
  "vscode": {
   "interpreter": {
    "hash": "74af3d2f25f1e46ebd2903d59225d79e4675ec224d56c01fc30cd168c2010d53"
   }
  }
 },
 "nbformat": 4,
 "nbformat_minor": 2
}
